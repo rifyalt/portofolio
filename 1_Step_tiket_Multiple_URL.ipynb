{
  "cells": [
    {
      "cell_type": "markdown",
      "metadata": {
        "id": "view-in-github",
        "colab_type": "text"
      },
      "source": [
        "<a href=\"https://colab.research.google.com/github/rifyalt/vial/blob/master/1_Step_tiket_Multiple_URL.ipynb\" target=\"_parent\"><img src=\"https://colab.research.google.com/assets/colab-badge.svg\" alt=\"Open In Colab\"/></a>"
      ]
    },
    {
      "cell_type": "markdown",
      "metadata": {
        "id": "YDplpGtHUv_n"
      },
      "source": [
        "# Mount to Drive"
      ]
    },
    {
      "cell_type": "code",
      "execution_count": 2,
      "metadata": {
        "colab": {
          "base_uri": "https://localhost:8080/"
        },
        "id": "WQHCcKjoUszc",
        "outputId": "326cabf8-cf5c-4360-e707-182068e240a3"
      },
      "outputs": [
        {
          "output_type": "stream",
          "name": "stdout",
          "text": [
            "Drive already mounted at /content/drive; to attempt to forcibly remount, call drive.mount(\"/content/drive\", force_remount=True).\n"
          ]
        }
      ],
      "source": [
        "from google.colab import drive\n",
        "from google.colab import files\n",
        "\n",
        "drive.mount('/content/drive')"
      ]
    },
    {
      "cell_type": "markdown",
      "metadata": {
        "id": "TEC0QjGhU3dD"
      },
      "source": [
        "# Install PIP"
      ]
    },
    {
      "cell_type": "code",
      "source": [
        "!cp /usr/lib/chromium-browser/chromedriver /usr/bin"
      ],
      "metadata": {
        "colab": {
          "base_uri": "https://localhost:8080/"
        },
        "id": "Z6FYfPS2msJ_",
        "outputId": "fb387704-8565-4ad2-becd-f7ec196d1394"
      },
      "execution_count": 3,
      "outputs": [
        {
          "output_type": "stream",
          "name": "stdout",
          "text": [
            "cp: cannot stat '/usr/lib/chromium-browser/chromedriver': No such file or directory\n"
          ]
        }
      ]
    },
    {
      "cell_type": "code",
      "execution_count": 4,
      "metadata": {
        "colab": {
          "base_uri": "https://localhost:8080/"
        },
        "id": "tYdFssXzUy64",
        "outputId": "6bcd553a-ec4a-4b7b-8d83-77da5cc09076"
      },
      "outputs": [
        {
          "output_type": "stream",
          "name": "stdout",
          "text": [
            "Looking in indexes: https://pypi.org/simple, https://us-python.pkg.dev/colab-wheels/public/simple/\n",
            "Requirement already satisfied: lxml in /usr/local/lib/python3.7/dist-packages (4.9.1)\n",
            "Looking in indexes: https://pypi.org/simple, https://us-python.pkg.dev/colab-wheels/public/simple/\n",
            "Requirement already satisfied: bs4 in /usr/local/lib/python3.7/dist-packages (0.0.1)\n",
            "Requirement already satisfied: beautifulsoup4 in /usr/local/lib/python3.7/dist-packages (from bs4) (4.6.3)\n",
            "Looking in indexes: https://pypi.org/simple, https://us-python.pkg.dev/colab-wheels/public/simple/\n",
            "Collecting selenium\n",
            "  Downloading selenium-4.4.3-py3-none-any.whl (985 kB)\n",
            "\u001b[K     |████████████████████████████████| 985 kB 5.2 MB/s \n",
            "\u001b[?25hCollecting urllib3[socks]~=1.26\n",
            "  Downloading urllib3-1.26.12-py2.py3-none-any.whl (140 kB)\n",
            "\u001b[K     |████████████████████████████████| 140 kB 50.1 MB/s \n",
            "\u001b[?25hCollecting trio~=0.17\n",
            "  Downloading trio-0.21.0-py3-none-any.whl (358 kB)\n",
            "\u001b[K     |████████████████████████████████| 358 kB 51.7 MB/s \n",
            "\u001b[?25hRequirement already satisfied: certifi>=2021.10.8 in /usr/local/lib/python3.7/dist-packages (from selenium) (2022.6.15)\n",
            "Collecting trio-websocket~=0.9\n",
            "  Downloading trio_websocket-0.9.2-py3-none-any.whl (16 kB)\n",
            "Requirement already satisfied: attrs>=19.2.0 in /usr/local/lib/python3.7/dist-packages (from trio~=0.17->selenium) (22.1.0)\n",
            "Collecting outcome\n",
            "  Downloading outcome-1.2.0-py2.py3-none-any.whl (9.7 kB)\n",
            "Collecting sniffio\n",
            "  Downloading sniffio-1.3.0-py3-none-any.whl (10 kB)\n",
            "Collecting async-generator>=1.9\n",
            "  Downloading async_generator-1.10-py3-none-any.whl (18 kB)\n",
            "Requirement already satisfied: sortedcontainers in /usr/local/lib/python3.7/dist-packages (from trio~=0.17->selenium) (2.4.0)\n",
            "Requirement already satisfied: idna in /usr/local/lib/python3.7/dist-packages (from trio~=0.17->selenium) (2.10)\n",
            "Collecting wsproto>=0.14\n",
            "  Downloading wsproto-1.2.0-py3-none-any.whl (24 kB)\n",
            "Requirement already satisfied: PySocks!=1.5.7,<2.0,>=1.5.6 in /usr/local/lib/python3.7/dist-packages (from urllib3[socks]~=1.26->selenium) (1.7.1)\n",
            "Collecting h11<1,>=0.9.0\n",
            "  Downloading h11-0.13.0-py3-none-any.whl (58 kB)\n",
            "\u001b[K     |████████████████████████████████| 58 kB 6.3 MB/s \n",
            "\u001b[?25hRequirement already satisfied: typing-extensions in /usr/local/lib/python3.7/dist-packages (from h11<1,>=0.9.0->wsproto>=0.14->trio-websocket~=0.9->selenium) (4.1.1)\n",
            "Installing collected packages: sniffio, outcome, h11, async-generator, wsproto, urllib3, trio, trio-websocket, selenium\n",
            "  Attempting uninstall: urllib3\n",
            "    Found existing installation: urllib3 1.24.3\n",
            "    Uninstalling urllib3-1.24.3:\n",
            "      Successfully uninstalled urllib3-1.24.3\n",
            "\u001b[31mERROR: pip's dependency resolver does not currently take into account all the packages that are installed. This behaviour is the source of the following dependency conflicts.\n",
            "requests 2.23.0 requires urllib3!=1.25.0,!=1.25.1,<1.26,>=1.21.1, but you have urllib3 1.26.12 which is incompatible.\u001b[0m\n",
            "Successfully installed async-generator-1.10 h11-0.13.0 outcome-1.2.0 selenium-4.4.3 sniffio-1.3.0 trio-0.21.0 trio-websocket-0.9.2 urllib3-1.26.12 wsproto-1.2.0\n",
            "Looking in indexes: https://pypi.org/simple, https://us-python.pkg.dev/colab-wheels/public/simple/\n",
            "Collecting webdriver_manager\n",
            "  Downloading webdriver_manager-3.8.3-py2.py3-none-any.whl (26 kB)\n",
            "Requirement already satisfied: tqdm in /usr/local/lib/python3.7/dist-packages (from webdriver_manager) (4.64.1)\n",
            "Collecting python-dotenv\n",
            "  Downloading python_dotenv-0.21.0-py3-none-any.whl (18 kB)\n",
            "Requirement already satisfied: requests in /usr/local/lib/python3.7/dist-packages (from webdriver_manager) (2.23.0)\n",
            "Requirement already satisfied: certifi>=2017.4.17 in /usr/local/lib/python3.7/dist-packages (from requests->webdriver_manager) (2022.6.15)\n",
            "Requirement already satisfied: chardet<4,>=3.0.2 in /usr/local/lib/python3.7/dist-packages (from requests->webdriver_manager) (3.0.4)\n",
            "Requirement already satisfied: idna<3,>=2.5 in /usr/local/lib/python3.7/dist-packages (from requests->webdriver_manager) (2.10)\n",
            "Collecting urllib3!=1.25.0,!=1.25.1,<1.26,>=1.21.1\n",
            "  Downloading urllib3-1.25.11-py2.py3-none-any.whl (127 kB)\n",
            "\u001b[K     |████████████████████████████████| 127 kB 7.9 MB/s \n",
            "\u001b[?25hInstalling collected packages: urllib3, python-dotenv, webdriver-manager\n",
            "  Attempting uninstall: urllib3\n",
            "    Found existing installation: urllib3 1.26.12\n",
            "    Uninstalling urllib3-1.26.12:\n",
            "      Successfully uninstalled urllib3-1.26.12\n",
            "\u001b[31mERROR: pip's dependency resolver does not currently take into account all the packages that are installed. This behaviour is the source of the following dependency conflicts.\n",
            "selenium 4.4.3 requires urllib3[socks]~=1.26, but you have urllib3 1.25.11 which is incompatible.\u001b[0m\n",
            "Successfully installed python-dotenv-0.21.0 urllib3-1.25.11 webdriver-manager-3.8.3\n",
            "Get:1 https://cloud.r-project.org/bin/linux/ubuntu bionic-cran40/ InRelease [3,626 B]\n",
            "Ign:2 https://developer.download.nvidia.com/compute/machine-learning/repos/ubuntu1804/x86_64  InRelease\n",
            "Hit:3 https://developer.download.nvidia.com/compute/cuda/repos/ubuntu1804/x86_64  InRelease\n",
            "Hit:4 https://developer.download.nvidia.com/compute/machine-learning/repos/ubuntu1804/x86_64  Release\n",
            "Get:5 http://security.ubuntu.com/ubuntu bionic-security InRelease [88.7 kB]\n",
            "Get:6 http://ppa.launchpad.net/c2d4u.team/c2d4u4.0+/ubuntu bionic InRelease [15.9 kB]\n",
            "Hit:7 http://archive.ubuntu.com/ubuntu bionic InRelease\n",
            "Get:8 http://archive.ubuntu.com/ubuntu bionic-updates InRelease [88.7 kB]\n",
            "Get:9 https://cloud.r-project.org/bin/linux/ubuntu bionic-cran40/ Packages [92.1 kB]\n",
            "Hit:10 http://ppa.launchpad.net/cran/libgit2/ubuntu bionic InRelease\n",
            "Hit:11 http://ppa.launchpad.net/deadsnakes/ppa/ubuntu bionic InRelease\n",
            "Get:12 http://archive.ubuntu.com/ubuntu bionic-backports InRelease [74.6 kB]\n",
            "Hit:14 http://ppa.launchpad.net/graphics-drivers/ppa/ubuntu bionic InRelease\n",
            "Get:15 http://ppa.launchpad.net/c2d4u.team/c2d4u4.0+/ubuntu bionic/main Sources [2,108 kB]\n",
            "Get:16 http://security.ubuntu.com/ubuntu bionic-security/universe amd64 Packages [1,540 kB]\n",
            "Get:17 http://archive.ubuntu.com/ubuntu bionic-updates/main amd64 Packages [3,397 kB]\n",
            "Get:18 http://security.ubuntu.com/ubuntu bionic-security/main amd64 Packages [2,965 kB]\n",
            "Get:19 http://ppa.launchpad.net/c2d4u.team/c2d4u4.0+/ubuntu bionic/main amd64 Packages [1,080 kB]\n",
            "Get:20 http://archive.ubuntu.com/ubuntu bionic-updates/universe amd64 Packages [2,318 kB]\n",
            "Fetched 13.8 MB in 4s (3,785 kB/s)\n",
            "Reading package lists... Done\n",
            "Reading package lists... Done\n",
            "Building dependency tree       \n",
            "Reading state information... Done\n",
            "The following package was automatically installed and is no longer required:\n",
            "  libnvidia-common-460\n",
            "Use 'apt autoremove' to remove it.\n",
            "The following additional packages will be installed:\n",
            "  chromium-browser chromium-browser-l10n chromium-codecs-ffmpeg-extra\n",
            "Suggested packages:\n",
            "  webaccounts-chromium-extension unity-chromium-extension\n",
            "The following NEW packages will be installed:\n",
            "  chromium-browser chromium-browser-l10n chromium-chromedriver\n",
            "  chromium-codecs-ffmpeg-extra\n",
            "0 upgraded, 4 newly installed, 0 to remove and 33 not upgraded.\n",
            "Need to get 91.7 MB of archives.\n",
            "After this operation, 309 MB of additional disk space will be used.\n",
            "Get:1 http://archive.ubuntu.com/ubuntu bionic-updates/universe amd64 chromium-codecs-ffmpeg-extra amd64 105.0.5195.102-0ubuntu0.18.04.1 [1,156 kB]\n",
            "Get:2 http://archive.ubuntu.com/ubuntu bionic-updates/universe amd64 chromium-browser amd64 105.0.5195.102-0ubuntu0.18.04.1 [80.1 MB]\n",
            "Get:3 http://archive.ubuntu.com/ubuntu bionic-updates/universe amd64 chromium-browser-l10n all 105.0.5195.102-0ubuntu0.18.04.1 [5,097 kB]\n",
            "Get:4 http://archive.ubuntu.com/ubuntu bionic-updates/universe amd64 chromium-chromedriver amd64 105.0.5195.102-0ubuntu0.18.04.1 [5,320 kB]\n",
            "Fetched 91.7 MB in 5s (19.0 MB/s)\n",
            "Selecting previously unselected package chromium-codecs-ffmpeg-extra.\n",
            "(Reading database ... 155569 files and directories currently installed.)\n",
            "Preparing to unpack .../chromium-codecs-ffmpeg-extra_105.0.5195.102-0ubuntu0.18.04.1_amd64.deb ...\n",
            "Unpacking chromium-codecs-ffmpeg-extra (105.0.5195.102-0ubuntu0.18.04.1) ...\n",
            "Selecting previously unselected package chromium-browser.\n",
            "Preparing to unpack .../chromium-browser_105.0.5195.102-0ubuntu0.18.04.1_amd64.deb ...\n",
            "Unpacking chromium-browser (105.0.5195.102-0ubuntu0.18.04.1) ...\n",
            "Selecting previously unselected package chromium-browser-l10n.\n",
            "Preparing to unpack .../chromium-browser-l10n_105.0.5195.102-0ubuntu0.18.04.1_all.deb ...\n",
            "Unpacking chromium-browser-l10n (105.0.5195.102-0ubuntu0.18.04.1) ...\n",
            "Selecting previously unselected package chromium-chromedriver.\n",
            "Preparing to unpack .../chromium-chromedriver_105.0.5195.102-0ubuntu0.18.04.1_amd64.deb ...\n",
            "Unpacking chromium-chromedriver (105.0.5195.102-0ubuntu0.18.04.1) ...\n",
            "Setting up chromium-codecs-ffmpeg-extra (105.0.5195.102-0ubuntu0.18.04.1) ...\n",
            "Setting up chromium-browser (105.0.5195.102-0ubuntu0.18.04.1) ...\n",
            "update-alternatives: using /usr/bin/chromium-browser to provide /usr/bin/x-www-browser (x-www-browser) in auto mode\n",
            "update-alternatives: using /usr/bin/chromium-browser to provide /usr/bin/gnome-www-browser (gnome-www-browser) in auto mode\n",
            "Setting up chromium-chromedriver (105.0.5195.102-0ubuntu0.18.04.1) ...\n",
            "Setting up chromium-browser-l10n (105.0.5195.102-0ubuntu0.18.04.1) ...\n",
            "Processing triggers for man-db (2.8.3-2ubuntu0.1) ...\n",
            "Processing triggers for hicolor-icon-theme (0.17-2) ...\n",
            "Processing triggers for mime-support (3.60ubuntu1) ...\n",
            "Processing triggers for libc-bin (2.27-3ubuntu1.5) ...\n"
          ]
        }
      ],
      "source": [
        "!pip install lxml\n",
        "!pip install bs4\n",
        "!pip install selenium\n",
        "\n",
        "!pip install webdriver_manager\n",
        "!apt-get update\n",
        "!apt install chromium-chromedriver"
      ]
    },
    {
      "cell_type": "markdown",
      "metadata": {
        "id": "jdnK_znDVFu6"
      },
      "source": [
        "# Import Library"
      ]
    },
    {
      "cell_type": "code",
      "execution_count": 5,
      "metadata": {
        "id": "zuQZSn_VVDiu"
      },
      "outputs": [],
      "source": [
        "import csv\n",
        "import pandas as pd\n",
        "import bs4 as soup\n",
        "\n",
        "from bs4 import BeautifulSoup\n",
        "from selenium import webdriver"
      ]
    },
    {
      "cell_type": "markdown",
      "metadata": {
        "id": "ZUATY71gVOGk"
      },
      "source": [
        "# Install Driver"
      ]
    },
    {
      "cell_type": "code",
      "execution_count": 42,
      "metadata": {
        "colab": {
          "base_uri": "https://localhost:8080/"
        },
        "id": "SNxubW3yVMfK",
        "outputId": "7693dc9f-e1d5-4e2e-ff86-8ddede9d180d"
      },
      "outputs": [
        {
          "output_type": "stream",
          "name": "stderr",
          "text": [
            "/usr/local/lib/python3.7/dist-packages/ipykernel_launcher.py:5: DeprecationWarning: use options instead of chrome_options\n",
            "  \"\"\"\n"
          ]
        }
      ],
      "source": [
        "chrome_options = webdriver.ChromeOptions()\n",
        "chrome_options.add_argument('--headless')\n",
        "chrome_options.add_argument('--no-sandbox')\n",
        "chrome_options.add_argument('--disable-dev-shm-usage')\n",
        "driver = webdriver.Chrome('chromedriver',chrome_options=chrome_options)"
      ]
    },
    {
      "cell_type": "markdown",
      "metadata": {
        "id": "rspVid86Vn-o"
      },
      "source": [
        "## URL List"
      ]
    },
    {
      "cell_type": "code",
      "execution_count": 43,
      "metadata": {
        "id": "GTfRfNQDVmfj"
      },
      "outputs": [],
      "source": [
        "# -> jika ingin menggunakan periode check in dan check out copas url hingga \"?stayYear=2022&stayMonth=9&stayDay=16&\"\n",
        "\n",
        "# 'banda_aceh/reddoorz_syariah_near_simpang_surabaya_aceh_945301/?stayYear=2022&stayMonth=9&stayDay=16&'\n",
        "\n",
        "# Ganti = ?stayYear=2022&stayMonth=9&stayDay=16& periode yang diinginkan\n",
        "\n",
        "my_url = [\"sunset-point-seminyak-redpartner-503001648458928222?room=1&adult=1&checkin=2022-09-29&checkout=2022-09-30\",\n",
        "          \"reddoorz-near-upi-setiabudi-2-208001565255789280?room=1&adult=1&checkin=2022-09-29&checkout=2022-09-30\",\n",
        "          \"reddoorz-syariah-near-gelora-delta-sidoarjo-2-206001560509907794?room=1&adult=1&checkin=2022-09-29&checkout=2022-09-30\"\n",
        "          \n",
        "]"
      ]
    },
    {
      "cell_type": "markdown",
      "metadata": {
        "id": "hN9PK7cWVcoQ"
      },
      "source": [
        "## Base URL\n"
      ]
    },
    {
      "cell_type": "code",
      "execution_count": 44,
      "metadata": {
        "id": "rRrEO7OiVbVl"
      },
      "outputs": [],
      "source": [
        "url = \"https://www.tiket.com/hotel/\" # disesuaikan dengan url\n",
        "driver.get(url)"
      ]
    },
    {
      "cell_type": "markdown",
      "source": [
        "## Get URL"
      ],
      "metadata": {
        "id": "Z8fnCl7f9FB4"
      }
    },
    {
      "cell_type": "code",
      "execution_count": 45,
      "metadata": {
        "id": "etWuIKeNVflV"
      },
      "outputs": [],
      "source": [
        "def get_url(search_term):\n",
        "    \"\"\"Generate a url from a search term\"\"\"\n",
        "    template = \"https://www.tiket.com/hotel/indonesia/{}\" # disesuaikan dengan url\n",
        "    search_term = search_term.replace(\" \", \"+\")\n",
        "    return template.format(search_term)"
      ]
    },
    {
      "cell_type": "markdown",
      "metadata": {
        "id": "4JV9fqNXgiSX"
      },
      "source": [
        "## URL 1 - 25"
      ]
    },
    {
      "cell_type": "code",
      "execution_count": 46,
      "metadata": {
        "id": "PDS9vWc6aq-g"
      },
      "outputs": [],
      "source": [
        "url_0 = get_url( my_url [0] )\n",
        "url_1 = get_url( my_url [1] )\n",
        "url_2 = get_url( my_url [2] )"
      ]
    },
    {
      "cell_type": "code",
      "source": [
        "url_0 = get_url(my_url [0])\n",
        "print(url_0) # test print url"
      ],
      "metadata": {
        "colab": {
          "base_uri": "https://localhost:8080/"
        },
        "id": "UroIQrM5heyN",
        "outputId": "e8e4e23a-06bf-437f-d835-f4d0e9a7fdda"
      },
      "execution_count": 47,
      "outputs": [
        {
          "output_type": "stream",
          "name": "stdout",
          "text": [
            "https://www.tiket.com/hotel/indonesia/sunset-point-seminyak-redpartner-503001648458928222?room=1&adult=1&checkin=2022-09-29&checkout=2022-09-30\n"
          ]
        }
      ]
    },
    {
      "cell_type": "code",
      "source": [
        "url_2 = get_url(my_url [2])\n",
        "print(url_2) # test print url"
      ],
      "metadata": {
        "colab": {
          "base_uri": "https://localhost:8080/"
        },
        "id": "wWKLh7VCt2Zt",
        "outputId": "6cfc86b4-ba30-40db-d3c8-4933559f2eef"
      },
      "execution_count": 48,
      "outputs": [
        {
          "output_type": "stream",
          "name": "stdout",
          "text": [
            "https://www.tiket.com/hotel/indonesia/reddoorz-syariah-near-gelora-delta-sidoarjo-2-206001560509907794?room=1&adult=1&checkin=2022-09-29&checkout=2022-09-30\n"
          ]
        }
      ]
    },
    {
      "cell_type": "markdown",
      "metadata": {
        "id": "-zhS6sh6VXDt"
      },
      "source": [
        "# Get HTML"
      ]
    },
    {
      "cell_type": "markdown",
      "source": [
        "## Test HTML"
      ],
      "metadata": {
        "id": "rVFcXkUHMS1t"
      }
    },
    {
      "cell_type": "code",
      "source": [
        "driver.get(url_0)\n",
        "soup_0 = BeautifulSoup(driver.page_source, \"lxml\")\n",
        "list_type_0 = soup_0.find_all(\"div\", class_ = \"card room-card\") #hotel-detail room-item-list card room-card\n",
        "card_0 = list_type_0[0]"
      ],
      "metadata": {
        "id": "8tPjmlan3a0W"
      },
      "execution_count": 49,
      "outputs": []
    },
    {
      "cell_type": "code",
      "source": [
        "name_0 = soup_0.find('h1', class_ = 'property-name tix-font h4 line-clamp-2')#.text.replace(\"\\n\", \"\")\n",
        "print(name_0)"
      ],
      "metadata": {
        "colab": {
          "base_uri": "https://localhost:8080/"
        },
        "id": "GLfP1JC43Tz9",
        "outputId": "89b5a17f-7a41-41d3-9273-fa8014124901"
      },
      "execution_count": 50,
      "outputs": [
        {
          "output_type": "stream",
          "name": "stdout",
          "text": [
            "<h1 class=\"property-name tix-font h4 line-clamp-2\">Sunset Point Seminyak RedPartner</h1>\n"
          ]
        }
      ]
    },
    {
      "cell_type": "code",
      "source": [
        "alamat_0 = soup_0.find(\"div\", class_ = \"line-clamp-2\").text.replace(\"\\n\", \"\")\n",
        "print(alamat_0)"
      ],
      "metadata": {
        "colab": {
          "base_uri": "https://localhost:8080/"
        },
        "id": "9_blHNDg3eoJ",
        "outputId": "76ba32fa-c331-428d-bfa5-ff23d09912e2"
      },
      "execution_count": 51,
      "outputs": [
        {
          "output_type": "stream",
          "name": "stdout",
          "text": [
            "Jl. Sunset Road No.1, Kerobokan Kelod, Kuta Utara, Kabupaten Badung, Bali 80361, Indonesia\n"
          ]
        }
      ]
    },
    {
      "cell_type": "code",
      "source": [
        "room_type_0 = card_0.find(\"h3\", class_ = \"room-name\").text.replace(\"\\n\", \"\")\n",
        "print(room_type_0)"
      ],
      "metadata": {
        "colab": {
          "base_uri": "https://localhost:8080/"
        },
        "id": "ElgvOZop8lDF",
        "outputId": "4234538d-374f-465a-b943-91469eb51dcc"
      },
      "execution_count": 52,
      "outputs": [
        {
          "output_type": "stream",
          "name": "stdout",
          "text": [
            "Kamar Superior Queen/Single\n"
          ]
        }
      ]
    },
    {
      "cell_type": "code",
      "source": [
        "details_0 = card_0.find(\"div\", class_ = [\"room-information\"]).text.replace(\"\\n\", \"\") \n",
        "print(details_0)"
      ],
      "metadata": {
        "colab": {
          "base_uri": "https://localhost:8080/"
        },
        "id": "UdSfEcRg8nwW",
        "outputId": "162cd589-1c0c-4775-fe80-e3ac9bfc51ff"
      },
      "execution_count": 53,
      "outputs": [
        {
          "output_type": "stream",
          "name": "stdout",
          "text": [
            "1 queen bed or 2 single beds1 Tamu16m²\n"
          ]
        }
      ]
    },
    {
      "cell_type": "code",
      "source": [
        "gimmick_0 = soup_0.find(\"div\", class_ = [\"room-promotion\"]).text.replace(\"\\n\", \"\")\n",
        "print(gimmick_0)"
      ],
      "metadata": {
        "colab": {
          "base_uri": "https://localhost:8080/"
        },
        "id": "6bBlt51JNRdC",
        "outputId": "f36e36b2-e262-4a86-cbfd-43e6182f88fb"
      },
      "execution_count": 54,
      "outputs": [
        {
          "output_type": "stream",
          "name": "stdout",
          "text": [
            "Penawaran Waktu Terbatas. Harga termasuk diskon 50%\n"
          ]
        }
      ]
    },
    {
      "cell_type": "code",
      "source": [
        "lowest_0 = soup_0.find(\"div\", class_ = [\"price-info__price\"]).text.replace(\"\\n\", \"\") \n",
        "print(lowest_0)"
      ],
      "metadata": {
        "colab": {
          "base_uri": "https://localhost:8080/"
        },
        "id": "RmX5-K16-U0z",
        "outputId": "89f0ec48-2223-4850-9fd8-a7151e9ed7fa"
      },
      "execution_count": 55,
      "outputs": [
        {
          "output_type": "stream",
          "name": "stdout",
          "text": [
            "IDR 324.768\n"
          ]
        }
      ]
    },
    {
      "cell_type": "code",
      "source": [
        "harga_coret_0 = card_0.find(\"div\", class_ = \"price-before\").text.replace(\"\\n\", \"\")\n",
        "print(harga_coret_0)"
      ],
      "metadata": {
        "colab": {
          "base_uri": "https://localhost:8080/"
        },
        "id": "HUk5iN5F-3bs",
        "outputId": "6988d4be-62e7-4af0-c1b9-1199fba7adf0"
      },
      "execution_count": 56,
      "outputs": [
        {
          "output_type": "stream",
          "name": "stdout",
          "text": [
            "IDR 591.104\n"
          ]
        }
      ]
    },
    {
      "cell_type": "code",
      "source": [
        "harga_jual_0 = card_0.find(\"div\", class_ = \"room-price\").text.replace(\"\\n\", \"\")\n",
        "print(harga_jual_0)"
      ],
      "metadata": {
        "colab": {
          "base_uri": "https://localhost:8080/"
        },
        "id": "NX9it1JO_EKd",
        "outputId": "5ebbe048-1a34-49b1-9b63-662e9a90770e"
      },
      "execution_count": 57,
      "outputs": [
        {
          "output_type": "stream",
          "name": "stdout",
          "text": [
            "IDR 324.768Detail HargaTermasuk: Sarapan (1 pax)HargaMalam 1 x 1 kamarIDR 268.403Pajak dan biaya lainnyaPajak dan biaya lainnyaIDR 56.365TotalIDR 324.768Dapatkan 2.436 tiket Points\n"
          ]
        }
      ]
    },
    {
      "cell_type": "markdown",
      "metadata": {
        "id": "zQlbKF7SgHcT"
      },
      "source": [
        "# Get Data"
      ]
    },
    {
      "cell_type": "markdown",
      "source": [
        "///// URL 1 /////////////////////////////////////////////////////////////////////////////////////////////////////////////////////////////////////////////////////"
      ],
      "metadata": {
        "id": "lJbXmHlxY2fW"
      }
    },
    {
      "cell_type": "code",
      "source": [
        "driver.get(url_0)\n",
        "soup_0 = BeautifulSoup(driver.page_source, \"lxml\")\n",
        "list_type_0 = soup_0.find_all(\"div\", class_ = \"room-card-list\")\n",
        "card_0 = list_type_0[0]\n",
        "\n",
        "#-------------------------------------------------------------------------------\n",
        "\n",
        "def get_room_listings(card_0):\n",
        "    \"\"\"Extract hotel listings information from the raw html\"\"\"\n",
        "    \n",
        "    list_type_0 = soup_0.find_all(\"div\", class_ = \"room-item\")\n",
        "\n",
        "    name_0 = soup_0.find('h1', class_ = 'property-name tix-font h4 line-clamp-2').text.replace(\"\\n\", \"\")\n",
        "\n",
        "#    alamat_0 = soup_0.find(\"div\", class_ = \"line-clamp-2\").text.replace(\"\\n\", \"\")\n",
        "\n",
        "    try:\n",
        "        room_type_0 = card_0.find(\"h3\", class_ = \"room-name\").text.replace(\"\\n\", \"\")\n",
        "    except AttributeError:\n",
        "        return\n",
        "        room_type_0 = \"\"\n",
        "\n",
        "#    try:\n",
        "#        details_0 = card_0.find(\"div\", class_ = [\"room-information\"]).text.replace(\"\\n\", \"\")\n",
        "#    except AttributeError:\n",
        "#        return\n",
        "#        details_0 = \"\"\n",
        "\n",
        "    try:\n",
        "        gimmick_0 = soup_0.find(\"div\", class_ = [\"room-promotion\"]).text.replace(\"\\n\", \"\")\n",
        "    except AttributeError:\n",
        "        return\n",
        "        gimmick_0 = \"\"\n",
        "\n",
        "#    try:\n",
        "#        lowest_0 = soup_0.find(\"div\", class_ = [\"price-info__price\"]).text.replace(\"\\n\", \"\") \n",
        "#    except AttributeError:\n",
        "#        return\n",
        "#        lowest_0 = \"\"\n",
        "\n",
        "    try:\n",
        "        harga_coret_0 = card_0.find(\"div\", class_ = \"price-before\").text.replace(\"\\n\", \"\") \n",
        "    except AttributeError:\n",
        "        return\n",
        "        harga_coret_0 = \"\"\n",
        "\n",
        "    try:\n",
        "        harga_jual_0 = card_0.find(\"div\", class_ = \"room-price\").text.replace(\"\\n\", \"\") \n",
        "    except AttributeError:\n",
        "        return\n",
        "        harga_jual_0 = \"\"       \n",
        "\n",
        "\n",
        "    hotel_listings_0 = (name_0, room_type_0, gimmick_0, harga_coret_0, harga_jual_0)\n",
        "    return hotel_listings_0"
      ],
      "metadata": {
        "id": "izbcpi4PAV1b"
      },
      "execution_count": 78,
      "outputs": []
    },
    {
      "cell_type": "code",
      "source": [
        "list_type_0 = soup_0.find_all(\"div\", class_ = \"room-item\")"
      ],
      "metadata": {
        "id": "psZ5JsZ4BFId"
      },
      "execution_count": 79,
      "outputs": []
    },
    {
      "cell_type": "code",
      "source": [
        "hotels = []"
      ],
      "metadata": {
        "id": "dZWNz_ImBOXm"
      },
      "execution_count": 80,
      "outputs": []
    },
    {
      "cell_type": "code",
      "source": [
        "for card_0 in list_type_0:\n",
        "    room_lists_0 = get_room_listings(card_0) #checks to see if what we return from the function is empty or not\n",
        "    if room_lists_0:\n",
        "        hotels.append(room_lists_0) #if the hotel_lists has something in it, then we would append that to the hotels list."
      ],
      "metadata": {
        "id": "wLmkheKWBPhS"
      },
      "execution_count": 81,
      "outputs": []
    },
    {
      "cell_type": "code",
      "source": [
        "hotels[0:100]"
      ],
      "metadata": {
        "colab": {
          "base_uri": "https://localhost:8080/"
        },
        "id": "4t_0N0GfBPtO",
        "outputId": "c21ee91c-4241-4b30-d806-af5c76fcc532"
      },
      "execution_count": 82,
      "outputs": [
        {
          "output_type": "execute_result",
          "data": {
            "text/plain": [
              "[('Sunset Point Seminyak RedPartner',\n",
              "  'Kamar Superior Queen/Single',\n",
              "  'Penawaran Waktu Terbatas. Harga termasuk diskon 50%',\n",
              "  'IDR 591.104',\n",
              "  'IDR 324.768Detail HargaTermasuk: Sarapan (1 pax)HargaMalam 1 x 1 kamarIDR 268.403Pajak dan biaya lainnyaPajak dan biaya lainnyaIDR 56.365TotalIDR 324.768Dapatkan 2.436 tiket Points')]"
            ]
          },
          "metadata": {},
          "execution_count": 82
        }
      ]
    },
    {
      "cell_type": "code",
      "source": [
        "# view with dataframe\n",
        "\n",
        "url = pd.DataFrame (hotels, columns= ['Property', 'Room Type','Gimmick', 'Harga Coret', 'Publish'])\n",
        "url # test print"
      ],
      "metadata": {
        "colab": {
          "base_uri": "https://localhost:8080/",
          "height": 81
        },
        "id": "6c1ZagoqBPx_",
        "outputId": "a471f33f-dcd6-4c74-c6c1-52569de4288a"
      },
      "execution_count": 83,
      "outputs": [
        {
          "output_type": "execute_result",
          "data": {
            "text/plain": [
              "                           Property                    Room Type  \\\n",
              "0  Sunset Point Seminyak RedPartner  Kamar Superior Queen/Single   \n",
              "\n",
              "                                             Gimmick  Harga Coret  \\\n",
              "0  Penawaran Waktu Terbatas. Harga termasuk disko...  IDR 591.104   \n",
              "\n",
              "                                             Publish  \n",
              "0  IDR 324.768Detail HargaTermasuk: Sarapan (1 pa...  "
            ],
            "text/html": [
              "\n",
              "  <div id=\"df-fefadb38-8b8e-42c0-ac80-a0b93528832d\">\n",
              "    <div class=\"colab-df-container\">\n",
              "      <div>\n",
              "<style scoped>\n",
              "    .dataframe tbody tr th:only-of-type {\n",
              "        vertical-align: middle;\n",
              "    }\n",
              "\n",
              "    .dataframe tbody tr th {\n",
              "        vertical-align: top;\n",
              "    }\n",
              "\n",
              "    .dataframe thead th {\n",
              "        text-align: right;\n",
              "    }\n",
              "</style>\n",
              "<table border=\"1\" class=\"dataframe\">\n",
              "  <thead>\n",
              "    <tr style=\"text-align: right;\">\n",
              "      <th></th>\n",
              "      <th>Property</th>\n",
              "      <th>Room Type</th>\n",
              "      <th>Gimmick</th>\n",
              "      <th>Harga Coret</th>\n",
              "      <th>Publish</th>\n",
              "    </tr>\n",
              "  </thead>\n",
              "  <tbody>\n",
              "    <tr>\n",
              "      <th>0</th>\n",
              "      <td>Sunset Point Seminyak RedPartner</td>\n",
              "      <td>Kamar Superior Queen/Single</td>\n",
              "      <td>Penawaran Waktu Terbatas. Harga termasuk disko...</td>\n",
              "      <td>IDR 591.104</td>\n",
              "      <td>IDR 324.768Detail HargaTermasuk: Sarapan (1 pa...</td>\n",
              "    </tr>\n",
              "  </tbody>\n",
              "</table>\n",
              "</div>\n",
              "      <button class=\"colab-df-convert\" onclick=\"convertToInteractive('df-fefadb38-8b8e-42c0-ac80-a0b93528832d')\"\n",
              "              title=\"Convert this dataframe to an interactive table.\"\n",
              "              style=\"display:none;\">\n",
              "        \n",
              "  <svg xmlns=\"http://www.w3.org/2000/svg\" height=\"24px\"viewBox=\"0 0 24 24\"\n",
              "       width=\"24px\">\n",
              "    <path d=\"M0 0h24v24H0V0z\" fill=\"none\"/>\n",
              "    <path d=\"M18.56 5.44l.94 2.06.94-2.06 2.06-.94-2.06-.94-.94-2.06-.94 2.06-2.06.94zm-11 1L8.5 8.5l.94-2.06 2.06-.94-2.06-.94L8.5 2.5l-.94 2.06-2.06.94zm10 10l.94 2.06.94-2.06 2.06-.94-2.06-.94-.94-2.06-.94 2.06-2.06.94z\"/><path d=\"M17.41 7.96l-1.37-1.37c-.4-.4-.92-.59-1.43-.59-.52 0-1.04.2-1.43.59L10.3 9.45l-7.72 7.72c-.78.78-.78 2.05 0 2.83L4 21.41c.39.39.9.59 1.41.59.51 0 1.02-.2 1.41-.59l7.78-7.78 2.81-2.81c.8-.78.8-2.07 0-2.86zM5.41 20L4 18.59l7.72-7.72 1.47 1.35L5.41 20z\"/>\n",
              "  </svg>\n",
              "      </button>\n",
              "      \n",
              "  <style>\n",
              "    .colab-df-container {\n",
              "      display:flex;\n",
              "      flex-wrap:wrap;\n",
              "      gap: 12px;\n",
              "    }\n",
              "\n",
              "    .colab-df-convert {\n",
              "      background-color: #E8F0FE;\n",
              "      border: none;\n",
              "      border-radius: 50%;\n",
              "      cursor: pointer;\n",
              "      display: none;\n",
              "      fill: #1967D2;\n",
              "      height: 32px;\n",
              "      padding: 0 0 0 0;\n",
              "      width: 32px;\n",
              "    }\n",
              "\n",
              "    .colab-df-convert:hover {\n",
              "      background-color: #E2EBFA;\n",
              "      box-shadow: 0px 1px 2px rgba(60, 64, 67, 0.3), 0px 1px 3px 1px rgba(60, 64, 67, 0.15);\n",
              "      fill: #174EA6;\n",
              "    }\n",
              "\n",
              "    [theme=dark] .colab-df-convert {\n",
              "      background-color: #3B4455;\n",
              "      fill: #D2E3FC;\n",
              "    }\n",
              "\n",
              "    [theme=dark] .colab-df-convert:hover {\n",
              "      background-color: #434B5C;\n",
              "      box-shadow: 0px 1px 3px 1px rgba(0, 0, 0, 0.15);\n",
              "      filter: drop-shadow(0px 1px 2px rgba(0, 0, 0, 0.3));\n",
              "      fill: #FFFFFF;\n",
              "    }\n",
              "  </style>\n",
              "\n",
              "      <script>\n",
              "        const buttonEl =\n",
              "          document.querySelector('#df-fefadb38-8b8e-42c0-ac80-a0b93528832d button.colab-df-convert');\n",
              "        buttonEl.style.display =\n",
              "          google.colab.kernel.accessAllowed ? 'block' : 'none';\n",
              "\n",
              "        async function convertToInteractive(key) {\n",
              "          const element = document.querySelector('#df-fefadb38-8b8e-42c0-ac80-a0b93528832d');\n",
              "          const dataTable =\n",
              "            await google.colab.kernel.invokeFunction('convertToInteractive',\n",
              "                                                     [key], {});\n",
              "          if (!dataTable) return;\n",
              "\n",
              "          const docLinkHtml = 'Like what you see? Visit the ' +\n",
              "            '<a target=\"_blank\" href=https://colab.research.google.com/notebooks/data_table.ipynb>data table notebook</a>'\n",
              "            + ' to learn more about interactive tables.';\n",
              "          element.innerHTML = '';\n",
              "          dataTable['output_type'] = 'display_data';\n",
              "          await google.colab.output.renderOutput(dataTable, element);\n",
              "          const docLink = document.createElement('div');\n",
              "          docLink.innerHTML = docLinkHtml;\n",
              "          element.appendChild(docLink);\n",
              "        }\n",
              "      </script>\n",
              "    </div>\n",
              "  </div>\n",
              "  "
            ]
          },
          "metadata": {},
          "execution_count": 83
        }
      ]
    },
    {
      "cell_type": "markdown",
      "source": [
        "\n",
        "\n",
        "---\n",
        "\n",
        "\n",
        "\n",
        "---\n",
        "\n"
      ],
      "metadata": {
        "id": "OTi938o5OBRM"
      }
    },
    {
      "cell_type": "markdown",
      "source": [
        "///// URL 2 /////////////////////////////////////////////////////////////////////////////////////////////////////////////////////////////////////////////////////"
      ],
      "metadata": {
        "id": "xSO2hj7iOIt4"
      }
    },
    {
      "cell_type": "code",
      "source": [
        "driver.get(url_1)\n",
        "soup_1 = BeautifulSoup(driver.page_source, \"lxml\")\n",
        "list_type_1 = soup_1.find_all(\"div\", class_ = \"room-card-list\")\n",
        "card_1 = list_type_1[0]\n",
        "\n",
        "#-------------------------------------------------------------------------------\n",
        "\n",
        "def get_room_listings(card_1):\n",
        "    \"\"\"Extract hotel listings information from the raw html\"\"\"\n",
        "    \n",
        "    list_type_1 = soup_1.find_all(\"div\", class_ = \"room-item\")\n",
        "\n",
        "    name_1 = soup_1.find('h1', class_ = 'property-name tix-font h4 line-clamp-2').text.replace(\"\\n\", \"\")\n",
        "\n",
        "#    alamat_1 = soup_1.find(\"div\", class_ = \"line-clamp-2\").text.replace(\"\\n\", \"\")\n",
        "\n",
        "    try:\n",
        "        room_type_1 = card_1.find(\"h3\", class_ = \"room-name\").text.replace(\"\\n\", \"\")\n",
        "    except AttributeError:\n",
        "        return\n",
        "        room_type_1 = \"\"\n",
        "\n",
        "#    try:\n",
        "#        details_1 = card_1.find(\"div\", class_ = [\"room-information\"]).text.replace(\"\\n\", \"\")\n",
        "#    except AttributeError:\n",
        "#        return\n",
        "#        details_1 = \"\"\n",
        "\n",
        "    try:\n",
        "        gimmick_1 = soup_1.find(\"div\", class_ = [\"room-promotion\"]).text.replace(\"\\n\", \"\")\n",
        "    except AttributeError:\n",
        "        return\n",
        "        gimmick_1 = \"\"\n",
        "\n",
        "#    try:\n",
        "#        lowest_1 = soup_1.find(\"div\", class_ = [\"price-info__price\"]).text.replace(\"\\n\", \"\") \n",
        "#    except AttributeError:\n",
        "#        return\n",
        "#        lowest_1 = \"\"\n",
        "\n",
        "    try:\n",
        "        harga_coret_1 = card_1.find(\"div\", class_ = \"price-before\").text.replace(\"\\n\", \"\") \n",
        "    except AttributeError:\n",
        "        return\n",
        "        harga_coret_1 = \"\"\n",
        "\n",
        "    try:\n",
        "        harga_jual_1 = card_1.find(\"div\", class_ = \"room-price\").text.replace(\"\\n\", \"\") \n",
        "    except AttributeError:\n",
        "        return\n",
        "        harga_jual_1 = \"\"       \n",
        "\n",
        "\n",
        "    hotel_listings_1 = (name_1, room_type_1, gimmick_1, harga_coret_1, harga_jual_1)\n",
        "    return hotel_listings_1"
      ],
      "metadata": {
        "id": "m9Hflzs4X045"
      },
      "execution_count": 84,
      "outputs": []
    },
    {
      "cell_type": "code",
      "source": [
        "list_type_1 = soup_1.find_all(\"div\", class_ = \"room-item\")"
      ],
      "metadata": {
        "id": "PPv2QbQFYVE6"
      },
      "execution_count": 85,
      "outputs": []
    },
    {
      "cell_type": "code",
      "source": [
        "hotels1 = []"
      ],
      "metadata": {
        "id": "v58zSe2eYZOS"
      },
      "execution_count": 86,
      "outputs": []
    },
    {
      "cell_type": "code",
      "source": [
        "for card_1 in list_type_1:\n",
        "    room_lists_1 = get_room_listings(card_1) #checks to see if what we return from the function is empty or not\n",
        "    if room_lists_1:\n",
        "        hotels.append(room_lists_1) #if the hotel_lists has something in it, then we would append that to the hotels list."
      ],
      "metadata": {
        "id": "O4_FfitmYbJ7"
      },
      "execution_count": 87,
      "outputs": []
    },
    {
      "cell_type": "code",
      "source": [
        "hotels[0:100]"
      ],
      "metadata": {
        "id": "lBvMYrJGYdEU",
        "colab": {
          "base_uri": "https://localhost:8080/"
        },
        "outputId": "c28d50d9-cef2-4643-8548-51e4f342a6c6"
      },
      "execution_count": 88,
      "outputs": [
        {
          "output_type": "execute_result",
          "data": {
            "text/plain": [
              "[('Sunset Point Seminyak RedPartner',\n",
              "  'Kamar Superior Queen/Single',\n",
              "  'Penawaran Waktu Terbatas. Harga termasuk diskon 50%',\n",
              "  'IDR 591.104',\n",
              "  'IDR 324.768Detail HargaTermasuk: Sarapan (1 pax)HargaMalam 1 x 1 kamarIDR 268.403Pajak dan biaya lainnyaPajak dan biaya lainnyaIDR 56.365TotalIDR 324.768Dapatkan 2.436 tiket Points'),\n",
              " ('RedDoorz near UPI Setiabudi 2',\n",
              "  'Kamar Double',\n",
              "  'Hemat 10%',\n",
              "  'IDR 218.804',\n",
              "  'IDR 196.924Detail HargaHargaMalam 1 x 1 kamarIDR 196.924TotalIDR 196.924Dapatkan 3.446 tiket Points'),\n",
              " ('RedDoorz near UPI Setiabudi 2',\n",
              "  'Kamar Standard Double',\n",
              "  'Hemat 10%',\n",
              "  'IDR 369.116',\n",
              "  'IDR 203.014Detail HargaHargaMalam 1 x 1 kamarIDR 203.014TotalIDR 203.014Dapatkan 1.523 tiket Points'),\n",
              " ('RedDoorz near UPI Setiabudi 2',\n",
              "  'Kamar Double',\n",
              "  'Hemat 10%',\n",
              "  'IDR 230.680',\n",
              "  'IDR 207.612Detail HargaHargaMalam 1 x 1 kamarIDR 207.612TotalIDR 207.612Dapatkan 3.633 tiket Points'),\n",
              " ('RedDoorz near UPI Setiabudi 2',\n",
              "  'Suite Double',\n",
              "  'Hemat 10%',\n",
              "  'IDR 254.427',\n",
              "  'IDR 228.984Detail HargaHargaMalam 1 x 1 kamarIDR 228.984TotalIDR 228.984Dapatkan 4.007 tiket Points'),\n",
              " ('RedDoorz near UPI Setiabudi 2',\n",
              "  'Kamar Keluarga Standar Double',\n",
              "  'Hemat 10%',\n",
              "  'IDR 429.209',\n",
              "  'IDR 236.064Detail HargaHargaMalam 1 x 1 kamarIDR 236.065TotalIDR 236.065Dapatkan 1.770 tiket Points')]"
            ]
          },
          "metadata": {},
          "execution_count": 88
        }
      ]
    },
    {
      "cell_type": "code",
      "source": [
        "# view with dataframe\n",
        "\n",
        "#url = pd.DataFrame (hotels, columns= ['Property', 'Room Type','Gimmick', 'Harga Coret', 'Publish'])\n",
        "#url # test print"
      ],
      "metadata": {
        "id": "zbg3dc96Ygfl"
      },
      "execution_count": 90,
      "outputs": []
    },
    {
      "cell_type": "markdown",
      "source": [
        "\n",
        "\n",
        "---\n",
        "\n",
        "\n",
        "\n",
        "---\n",
        "\n"
      ],
      "metadata": {
        "id": "OAlFEoBE57MJ"
      }
    },
    {
      "cell_type": "markdown",
      "source": [
        "///// URL 3 /////////////////////////////////////////////////////////////////////////////////////////////////////////////////////////////////////////////////////"
      ],
      "metadata": {
        "id": "dfcJlneERRSI"
      }
    },
    {
      "cell_type": "code",
      "source": [
        "driver.get(url_2)\n",
        "soup_2 = BeautifulSoup(driver.page_source, \"lxml\")\n",
        "list_type_2 = soup_2.find_all(\"div\", class_ = \"room-card-list\")\n",
        "card_2 = list_type_2[0]\n",
        "\n",
        "#-------------------------------------------------------------------------------\n",
        "\n",
        "def get_room_listings(card_2):\n",
        "    \"\"\"Extract hotel listings information from the raw html\"\"\"\n",
        "    \n",
        "    list_type_2 = soup_2.find_all(\"div\", class_ = \"room-item\")\n",
        "\n",
        "    name_2 = soup_2.find('h1', class_ = 'property-name tix-font h4 line-clamp-2').text.replace(\"\\n\", \"\")\n",
        "\n",
        "#    alamat_2 = soup_2.find(\"div\", class_ = \"line-clamp-2\").text.replace(\"\\n\", \"\")\n",
        "\n",
        "    try:\n",
        "        room_type_2 = card_2.find(\"h3\", class_ = \"room-name\").text.replace(\"\\n\", \"\")\n",
        "    except AttributeError:\n",
        "        return\n",
        "        room_type_2 = \"\"\n",
        "\n",
        "#    try:\n",
        "#        details_2 = card_2.find(\"div\", class_ = [\"room-information\"]).text.replace(\"\\n\", \"\")\n",
        "#    except AttributeError:\n",
        "#        return\n",
        "#        details_2 = \"\"\n",
        "\n",
        "    try:\n",
        "        gimmick_2 = soup_2.find(\"div\", class_ = [\"room-promotion\"]).text.replace(\"\\n\", \"\")\n",
        "    except AttributeError:\n",
        "        return\n",
        "        gimmick_2 = \"\"\n",
        "\n",
        "#    try:\n",
        "#        lowest_2 = soup_2.find(\"div\", class_ = [\"price-info__price\"]).text.replace(\"\\n\", \"\") \n",
        "#    except AttributeError:\n",
        "#        return\n",
        "#        lowest_2 = \"\"\n",
        "\n",
        "    try:\n",
        "        harga_coret_2 = card_2.find(\"div\", class_ = \"price-before\").text.replace(\"\\n\", \"\") \n",
        "    except AttributeError:\n",
        "        return\n",
        "        harga_coret_2 = \"\"\n",
        "\n",
        "    try:\n",
        "        harga_jual_2 = card_2.find(\"div\", class_ = \"room-price\").text.replace(\"\\n\", \"\") \n",
        "    except AttributeError:\n",
        "        return\n",
        "        harga_jual_2 = \"\"       \n",
        "\n",
        "\n",
        "    hotel_listings_2 = (name_2, room_type_2, gimmick_2, harga_coret_2, harga_jual_2)\n",
        "    return hotel_listings_2"
      ],
      "metadata": {
        "id": "s7iLa_spRflo"
      },
      "execution_count": 96,
      "outputs": []
    },
    {
      "cell_type": "code",
      "source": [
        "list_type_2 = soup_2.find_all(\"div\", class_ = \"room-item\")"
      ],
      "metadata": {
        "id": "SEKHW9mYR6df"
      },
      "execution_count": 97,
      "outputs": []
    },
    {
      "cell_type": "code",
      "source": [
        "hotels2 = []"
      ],
      "metadata": {
        "id": "CDT-0WlhR-cP"
      },
      "execution_count": 98,
      "outputs": []
    },
    {
      "cell_type": "code",
      "source": [
        "for card_2 in list_type_2:\n",
        "    room_lists_2 = get_room_listings(card_2) #checks to see if what we return from the function is empty or not\n",
        "    if room_lists_2:\n",
        "        hotels.append(room_lists_2) #if the hotel_lists has something in it, then we would append that to the hotels list."
      ],
      "metadata": {
        "id": "XetorfbXSBBn"
      },
      "execution_count": 99,
      "outputs": []
    },
    {
      "cell_type": "code",
      "source": [
        "hotels[0:100]"
      ],
      "metadata": {
        "colab": {
          "base_uri": "https://localhost:8080/"
        },
        "id": "86K1VRhSSoH7",
        "outputId": "9d2ecb64-3bd5-4350-a87a-16334dd30e53"
      },
      "execution_count": 100,
      "outputs": [
        {
          "output_type": "execute_result",
          "data": {
            "text/plain": [
              "[('Sunset Point Seminyak RedPartner',\n",
              "  'Kamar Superior Queen/Single',\n",
              "  'Penawaran Waktu Terbatas. Harga termasuk diskon 50%',\n",
              "  'IDR 591.104',\n",
              "  'IDR 324.768Detail HargaTermasuk: Sarapan (1 pax)HargaMalam 1 x 1 kamarIDR 268.403Pajak dan biaya lainnyaPajak dan biaya lainnyaIDR 56.365TotalIDR 324.768Dapatkan 2.436 tiket Points'),\n",
              " ('RedDoorz near UPI Setiabudi 2',\n",
              "  'Kamar Double',\n",
              "  'Hemat 10%',\n",
              "  'IDR 218.804',\n",
              "  'IDR 196.924Detail HargaHargaMalam 1 x 1 kamarIDR 196.924TotalIDR 196.924Dapatkan 3.446 tiket Points'),\n",
              " ('RedDoorz near UPI Setiabudi 2',\n",
              "  'Kamar Standard Double',\n",
              "  'Hemat 10%',\n",
              "  'IDR 369.116',\n",
              "  'IDR 203.014Detail HargaHargaMalam 1 x 1 kamarIDR 203.014TotalIDR 203.014Dapatkan 1.523 tiket Points'),\n",
              " ('RedDoorz near UPI Setiabudi 2',\n",
              "  'Kamar Double',\n",
              "  'Hemat 10%',\n",
              "  'IDR 230.680',\n",
              "  'IDR 207.612Detail HargaHargaMalam 1 x 1 kamarIDR 207.612TotalIDR 207.612Dapatkan 3.633 tiket Points'),\n",
              " ('RedDoorz near UPI Setiabudi 2',\n",
              "  'Suite Double',\n",
              "  'Hemat 10%',\n",
              "  'IDR 254.427',\n",
              "  'IDR 228.984Detail HargaHargaMalam 1 x 1 kamarIDR 228.984TotalIDR 228.984Dapatkan 4.007 tiket Points'),\n",
              " ('RedDoorz near UPI Setiabudi 2',\n",
              "  'Kamar Keluarga Standar Double',\n",
              "  'Hemat 10%',\n",
              "  'IDR 429.209',\n",
              "  'IDR 236.064Detail HargaHargaMalam 1 x 1 kamarIDR 236.065TotalIDR 236.065Dapatkan 1.770 tiket Points'),\n",
              " ('RedDoorz Syariah near Gelora Delta Sidoarjo 2',\n",
              "  'Kamar Double',\n",
              "  'Hemat 10%',\n",
              "  'IDR 189.000',\n",
              "  'IDR 170.100Detail HargaHargaMalam 1 x 1 kamarIDR 170.100TotalIDR 170.100Dapatkan 2.977 tiket Points')]"
            ]
          },
          "metadata": {},
          "execution_count": 100
        }
      ]
    },
    {
      "cell_type": "code",
      "source": [
        "# view with dataframe\n",
        "\n",
        "#url = pd.DataFrame (hotels, columns= ['Property', 'Room Type','Gimmick', 'Harga Coret', 'Publish'])\n",
        "#url # test print"
      ],
      "metadata": {
        "id": "xCxo6YNpSuGE"
      },
      "execution_count": 102,
      "outputs": []
    },
    {
      "cell_type": "markdown",
      "metadata": {
        "id": "yMjDT5LngNcz"
      },
      "source": [
        "# Import to DataFrame\n"
      ]
    },
    {
      "cell_type": "code",
      "source": [
        "# view with dataframe\n",
        "\n",
        "url = pd.DataFrame (hotels, columns= ['Property', 'Room Type','Gimmick', 'Harga Coret', 'Publish'])\n",
        "url # test print"
      ],
      "metadata": {
        "colab": {
          "base_uri": "https://localhost:8080/",
          "height": 269
        },
        "id": "toT7rzSmT-0G",
        "outputId": "816a77ab-4441-4371-c8ea-e97adcb217e1"
      },
      "execution_count": 107,
      "outputs": [
        {
          "output_type": "execute_result",
          "data": {
            "text/plain": [
              "                                        Property  \\\n",
              "0               Sunset Point Seminyak RedPartner   \n",
              "1                  RedDoorz near UPI Setiabudi 2   \n",
              "2                  RedDoorz near UPI Setiabudi 2   \n",
              "3                  RedDoorz near UPI Setiabudi 2   \n",
              "4                  RedDoorz near UPI Setiabudi 2   \n",
              "5                  RedDoorz near UPI Setiabudi 2   \n",
              "6  RedDoorz Syariah near Gelora Delta Sidoarjo 2   \n",
              "\n",
              "                       Room Type  \\\n",
              "0    Kamar Superior Queen/Single   \n",
              "1                   Kamar Double   \n",
              "2          Kamar Standard Double   \n",
              "3                   Kamar Double   \n",
              "4                   Suite Double   \n",
              "5  Kamar Keluarga Standar Double   \n",
              "6                   Kamar Double   \n",
              "\n",
              "                                             Gimmick  Harga Coret  \\\n",
              "0  Penawaran Waktu Terbatas. Harga termasuk disko...  IDR 591.104   \n",
              "1                                          Hemat 10%  IDR 218.804   \n",
              "2                                          Hemat 10%  IDR 369.116   \n",
              "3                                          Hemat 10%  IDR 230.680   \n",
              "4                                          Hemat 10%  IDR 254.427   \n",
              "5                                          Hemat 10%  IDR 429.209   \n",
              "6                                          Hemat 10%  IDR 189.000   \n",
              "\n",
              "                                             Publish  \n",
              "0  IDR 324.768Detail HargaTermasuk: Sarapan (1 pa...  \n",
              "1  IDR 196.924Detail HargaHargaMalam 1 x 1 kamarI...  \n",
              "2  IDR 203.014Detail HargaHargaMalam 1 x 1 kamarI...  \n",
              "3  IDR 207.612Detail HargaHargaMalam 1 x 1 kamarI...  \n",
              "4  IDR 228.984Detail HargaHargaMalam 1 x 1 kamarI...  \n",
              "5  IDR 236.064Detail HargaHargaMalam 1 x 1 kamarI...  \n",
              "6  IDR 170.100Detail HargaHargaMalam 1 x 1 kamarI...  "
            ],
            "text/html": [
              "\n",
              "  <div id=\"df-685f21af-dd9f-4729-a8bc-1460614c6447\">\n",
              "    <div class=\"colab-df-container\">\n",
              "      <div>\n",
              "<style scoped>\n",
              "    .dataframe tbody tr th:only-of-type {\n",
              "        vertical-align: middle;\n",
              "    }\n",
              "\n",
              "    .dataframe tbody tr th {\n",
              "        vertical-align: top;\n",
              "    }\n",
              "\n",
              "    .dataframe thead th {\n",
              "        text-align: right;\n",
              "    }\n",
              "</style>\n",
              "<table border=\"1\" class=\"dataframe\">\n",
              "  <thead>\n",
              "    <tr style=\"text-align: right;\">\n",
              "      <th></th>\n",
              "      <th>Property</th>\n",
              "      <th>Room Type</th>\n",
              "      <th>Gimmick</th>\n",
              "      <th>Harga Coret</th>\n",
              "      <th>Publish</th>\n",
              "    </tr>\n",
              "  </thead>\n",
              "  <tbody>\n",
              "    <tr>\n",
              "      <th>0</th>\n",
              "      <td>Sunset Point Seminyak RedPartner</td>\n",
              "      <td>Kamar Superior Queen/Single</td>\n",
              "      <td>Penawaran Waktu Terbatas. Harga termasuk disko...</td>\n",
              "      <td>IDR 591.104</td>\n",
              "      <td>IDR 324.768Detail HargaTermasuk: Sarapan (1 pa...</td>\n",
              "    </tr>\n",
              "    <tr>\n",
              "      <th>1</th>\n",
              "      <td>RedDoorz near UPI Setiabudi 2</td>\n",
              "      <td>Kamar Double</td>\n",
              "      <td>Hemat 10%</td>\n",
              "      <td>IDR 218.804</td>\n",
              "      <td>IDR 196.924Detail HargaHargaMalam 1 x 1 kamarI...</td>\n",
              "    </tr>\n",
              "    <tr>\n",
              "      <th>2</th>\n",
              "      <td>RedDoorz near UPI Setiabudi 2</td>\n",
              "      <td>Kamar Standard Double</td>\n",
              "      <td>Hemat 10%</td>\n",
              "      <td>IDR 369.116</td>\n",
              "      <td>IDR 203.014Detail HargaHargaMalam 1 x 1 kamarI...</td>\n",
              "    </tr>\n",
              "    <tr>\n",
              "      <th>3</th>\n",
              "      <td>RedDoorz near UPI Setiabudi 2</td>\n",
              "      <td>Kamar Double</td>\n",
              "      <td>Hemat 10%</td>\n",
              "      <td>IDR 230.680</td>\n",
              "      <td>IDR 207.612Detail HargaHargaMalam 1 x 1 kamarI...</td>\n",
              "    </tr>\n",
              "    <tr>\n",
              "      <th>4</th>\n",
              "      <td>RedDoorz near UPI Setiabudi 2</td>\n",
              "      <td>Suite Double</td>\n",
              "      <td>Hemat 10%</td>\n",
              "      <td>IDR 254.427</td>\n",
              "      <td>IDR 228.984Detail HargaHargaMalam 1 x 1 kamarI...</td>\n",
              "    </tr>\n",
              "    <tr>\n",
              "      <th>5</th>\n",
              "      <td>RedDoorz near UPI Setiabudi 2</td>\n",
              "      <td>Kamar Keluarga Standar Double</td>\n",
              "      <td>Hemat 10%</td>\n",
              "      <td>IDR 429.209</td>\n",
              "      <td>IDR 236.064Detail HargaHargaMalam 1 x 1 kamarI...</td>\n",
              "    </tr>\n",
              "    <tr>\n",
              "      <th>6</th>\n",
              "      <td>RedDoorz Syariah near Gelora Delta Sidoarjo 2</td>\n",
              "      <td>Kamar Double</td>\n",
              "      <td>Hemat 10%</td>\n",
              "      <td>IDR 189.000</td>\n",
              "      <td>IDR 170.100Detail HargaHargaMalam 1 x 1 kamarI...</td>\n",
              "    </tr>\n",
              "  </tbody>\n",
              "</table>\n",
              "</div>\n",
              "      <button class=\"colab-df-convert\" onclick=\"convertToInteractive('df-685f21af-dd9f-4729-a8bc-1460614c6447')\"\n",
              "              title=\"Convert this dataframe to an interactive table.\"\n",
              "              style=\"display:none;\">\n",
              "        \n",
              "  <svg xmlns=\"http://www.w3.org/2000/svg\" height=\"24px\"viewBox=\"0 0 24 24\"\n",
              "       width=\"24px\">\n",
              "    <path d=\"M0 0h24v24H0V0z\" fill=\"none\"/>\n",
              "    <path d=\"M18.56 5.44l.94 2.06.94-2.06 2.06-.94-2.06-.94-.94-2.06-.94 2.06-2.06.94zm-11 1L8.5 8.5l.94-2.06 2.06-.94-2.06-.94L8.5 2.5l-.94 2.06-2.06.94zm10 10l.94 2.06.94-2.06 2.06-.94-2.06-.94-.94-2.06-.94 2.06-2.06.94z\"/><path d=\"M17.41 7.96l-1.37-1.37c-.4-.4-.92-.59-1.43-.59-.52 0-1.04.2-1.43.59L10.3 9.45l-7.72 7.72c-.78.78-.78 2.05 0 2.83L4 21.41c.39.39.9.59 1.41.59.51 0 1.02-.2 1.41-.59l7.78-7.78 2.81-2.81c.8-.78.8-2.07 0-2.86zM5.41 20L4 18.59l7.72-7.72 1.47 1.35L5.41 20z\"/>\n",
              "  </svg>\n",
              "      </button>\n",
              "      \n",
              "  <style>\n",
              "    .colab-df-container {\n",
              "      display:flex;\n",
              "      flex-wrap:wrap;\n",
              "      gap: 12px;\n",
              "    }\n",
              "\n",
              "    .colab-df-convert {\n",
              "      background-color: #E8F0FE;\n",
              "      border: none;\n",
              "      border-radius: 50%;\n",
              "      cursor: pointer;\n",
              "      display: none;\n",
              "      fill: #1967D2;\n",
              "      height: 32px;\n",
              "      padding: 0 0 0 0;\n",
              "      width: 32px;\n",
              "    }\n",
              "\n",
              "    .colab-df-convert:hover {\n",
              "      background-color: #E2EBFA;\n",
              "      box-shadow: 0px 1px 2px rgba(60, 64, 67, 0.3), 0px 1px 3px 1px rgba(60, 64, 67, 0.15);\n",
              "      fill: #174EA6;\n",
              "    }\n",
              "\n",
              "    [theme=dark] .colab-df-convert {\n",
              "      background-color: #3B4455;\n",
              "      fill: #D2E3FC;\n",
              "    }\n",
              "\n",
              "    [theme=dark] .colab-df-convert:hover {\n",
              "      background-color: #434B5C;\n",
              "      box-shadow: 0px 1px 3px 1px rgba(0, 0, 0, 0.15);\n",
              "      filter: drop-shadow(0px 1px 2px rgba(0, 0, 0, 0.3));\n",
              "      fill: #FFFFFF;\n",
              "    }\n",
              "  </style>\n",
              "\n",
              "      <script>\n",
              "        const buttonEl =\n",
              "          document.querySelector('#df-685f21af-dd9f-4729-a8bc-1460614c6447 button.colab-df-convert');\n",
              "        buttonEl.style.display =\n",
              "          google.colab.kernel.accessAllowed ? 'block' : 'none';\n",
              "\n",
              "        async function convertToInteractive(key) {\n",
              "          const element = document.querySelector('#df-685f21af-dd9f-4729-a8bc-1460614c6447');\n",
              "          const dataTable =\n",
              "            await google.colab.kernel.invokeFunction('convertToInteractive',\n",
              "                                                     [key], {});\n",
              "          if (!dataTable) return;\n",
              "\n",
              "          const docLinkHtml = 'Like what you see? Visit the ' +\n",
              "            '<a target=\"_blank\" href=https://colab.research.google.com/notebooks/data_table.ipynb>data table notebook</a>'\n",
              "            + ' to learn more about interactive tables.';\n",
              "          element.innerHTML = '';\n",
              "          dataTable['output_type'] = 'display_data';\n",
              "          await google.colab.output.renderOutput(dataTable, element);\n",
              "          const docLink = document.createElement('div');\n",
              "          docLink.innerHTML = docLinkHtml;\n",
              "          element.appendChild(docLink);\n",
              "        }\n",
              "      </script>\n",
              "    </div>\n",
              "  </div>\n",
              "  "
            ]
          },
          "metadata": {},
          "execution_count": 107
        }
      ]
    },
    {
      "cell_type": "markdown",
      "metadata": {
        "id": "oOby3zt8gSay"
      },
      "source": [
        "# Save to Google Drive"
      ]
    },
    {
      "cell_type": "code",
      "execution_count": 108,
      "metadata": {
        "id": "s9aJjafKf-5g"
      },
      "outputs": [],
      "source": [
        "url.to_csv('/content/drive/MyDrive/Colab Notebooks/Web Scraping/Fix/1_tiket_reddoorz.csv', index=True)"
      ]
    },
    {
      "cell_type": "code",
      "source": [],
      "metadata": {
        "id": "kdm9vMBd1G37"
      },
      "execution_count": null,
      "outputs": []
    }
  ],
  "metadata": {
    "colab": {
      "provenance": [],
      "authorship_tag": "ABX9TyNAehAi7yGoIEDJ3aucAYWD",
      "include_colab_link": true
    },
    "kernelspec": {
      "display_name": "Python 3",
      "name": "python3"
    },
    "language_info": {
      "name": "python"
    }
  },
  "nbformat": 4,
  "nbformat_minor": 0
}