{
  "nbformat": 4,
  "nbformat_minor": 0,
  "metadata": {
    "colab": {
      "provenance": [],
      "authorship_tag": "ABX9TyM/lYffiZvDVfjEi4JU6v3v",
      "include_colab_link": true
    },
    "kernelspec": {
      "name": "python3",
      "display_name": "Python 3"
    },
    "language_info": {
      "name": "python"
    }
  },
  "cells": [
    {
      "cell_type": "markdown",
      "metadata": {
        "id": "view-in-github",
        "colab_type": "text"
      },
      "source": [
        "<a href=\"https://colab.research.google.com/github/rifyalt/vial/blob/master/scrape_all_images.ipynb\" target=\"_parent\"><img src=\"https://colab.research.google.com/assets/colab-badge.svg\" alt=\"Open In Colab\"/></a>"
      ]
    },
    {
      "cell_type": "code",
      "execution_count": null,
      "metadata": {
        "colab": {
          "base_uri": "https://localhost:8080/"
        },
        "id": "UKVk8NnBAdfF",
        "outputId": "aece5ffa-85eb-47e6-b384-c60ea027b58d"
      },
      "outputs": [
        {
          "output_type": "stream",
          "name": "stdout",
          "text": [
            "Mounted at /content/drive\n"
          ]
        }
      ],
      "source": [
        "from google.colab import drive\n",
        "from google.colab import files\n",
        "\n",
        "drive.mount('/content/drive')"
      ]
    },
    {
      "cell_type": "code",
      "source": [
        "!pip install bs4\n",
        "!pip install requests\n",
        "!pip install selenium"
      ],
      "metadata": {
        "id": "qmccEc1DBcHp",
        "colab": {
          "base_uri": "https://localhost:8080/"
        },
        "outputId": "ae494498-52d3-406c-833c-85281c605e63"
      },
      "execution_count": 3,
      "outputs": [
        {
          "output_type": "stream",
          "name": "stdout",
          "text": [
            "Looking in indexes: https://pypi.org/simple, https://us-python.pkg.dev/colab-wheels/public/simple/\n",
            "Requirement already satisfied: bs4 in /usr/local/lib/python3.7/dist-packages (0.0.1)\n",
            "Requirement already satisfied: beautifulsoup4 in /usr/local/lib/python3.7/dist-packages (from bs4) (4.6.3)\n",
            "Looking in indexes: https://pypi.org/simple, https://us-python.pkg.dev/colab-wheels/public/simple/\n",
            "Requirement already satisfied: requests in /usr/local/lib/python3.7/dist-packages (2.23.0)\n",
            "Requirement already satisfied: chardet<4,>=3.0.2 in /usr/local/lib/python3.7/dist-packages (from requests) (3.0.4)\n",
            "Requirement already satisfied: certifi>=2017.4.17 in /usr/local/lib/python3.7/dist-packages (from requests) (2022.6.15)\n",
            "Requirement already satisfied: urllib3!=1.25.0,!=1.25.1,<1.26,>=1.21.1 in /usr/local/lib/python3.7/dist-packages (from requests) (1.24.3)\n",
            "Requirement already satisfied: idna<3,>=2.5 in /usr/local/lib/python3.7/dist-packages (from requests) (2.10)\n",
            "Looking in indexes: https://pypi.org/simple, https://us-python.pkg.dev/colab-wheels/public/simple/\n",
            "Collecting selenium\n",
            "  Downloading selenium-4.4.3-py3-none-any.whl (985 kB)\n",
            "\u001b[K     |████████████████████████████████| 985 kB 26.1 MB/s \n",
            "\u001b[?25hCollecting urllib3[socks]~=1.26\n",
            "  Downloading urllib3-1.26.12-py2.py3-none-any.whl (140 kB)\n",
            "\u001b[K     |████████████████████████████████| 140 kB 85.8 MB/s \n",
            "\u001b[?25hRequirement already satisfied: certifi>=2021.10.8 in /usr/local/lib/python3.7/dist-packages (from selenium) (2022.6.15)\n",
            "Collecting trio~=0.17\n",
            "  Downloading trio-0.21.0-py3-none-any.whl (358 kB)\n",
            "\u001b[K     |████████████████████████████████| 358 kB 68.5 MB/s \n",
            "\u001b[?25hCollecting trio-websocket~=0.9\n",
            "  Downloading trio_websocket-0.9.2-py3-none-any.whl (16 kB)\n",
            "Requirement already satisfied: sortedcontainers in /usr/local/lib/python3.7/dist-packages (from trio~=0.17->selenium) (2.4.0)\n",
            "Requirement already satisfied: idna in /usr/local/lib/python3.7/dist-packages (from trio~=0.17->selenium) (2.10)\n",
            "Requirement already satisfied: attrs>=19.2.0 in /usr/local/lib/python3.7/dist-packages (from trio~=0.17->selenium) (22.1.0)\n",
            "Collecting sniffio\n",
            "  Downloading sniffio-1.3.0-py3-none-any.whl (10 kB)\n",
            "Collecting outcome\n",
            "  Downloading outcome-1.2.0-py2.py3-none-any.whl (9.7 kB)\n",
            "Collecting async-generator>=1.9\n",
            "  Downloading async_generator-1.10-py3-none-any.whl (18 kB)\n",
            "Collecting wsproto>=0.14\n",
            "  Downloading wsproto-1.2.0-py3-none-any.whl (24 kB)\n",
            "Requirement already satisfied: PySocks!=1.5.7,<2.0,>=1.5.6 in /usr/local/lib/python3.7/dist-packages (from urllib3[socks]~=1.26->selenium) (1.7.1)\n",
            "Collecting h11<1,>=0.9.0\n",
            "  Downloading h11-0.13.0-py3-none-any.whl (58 kB)\n",
            "\u001b[K     |████████████████████████████████| 58 kB 7.8 MB/s \n",
            "\u001b[?25hRequirement already satisfied: typing-extensions in /usr/local/lib/python3.7/dist-packages (from h11<1,>=0.9.0->wsproto>=0.14->trio-websocket~=0.9->selenium) (4.1.1)\n",
            "Installing collected packages: sniffio, outcome, h11, async-generator, wsproto, urllib3, trio, trio-websocket, selenium\n",
            "  Attempting uninstall: urllib3\n",
            "    Found existing installation: urllib3 1.24.3\n",
            "    Uninstalling urllib3-1.24.3:\n",
            "      Successfully uninstalled urllib3-1.24.3\n",
            "\u001b[31mERROR: pip's dependency resolver does not currently take into account all the packages that are installed. This behaviour is the source of the following dependency conflicts.\n",
            "requests 2.23.0 requires urllib3!=1.25.0,!=1.25.1,<1.26,>=1.21.1, but you have urllib3 1.26.12 which is incompatible.\u001b[0m\n",
            "Successfully installed async-generator-1.10 h11-0.13.0 outcome-1.2.0 selenium-4.4.3 sniffio-1.3.0 trio-0.21.0 trio-websocket-0.9.2 urllib3-1.26.12 wsproto-1.2.0\n"
          ]
        }
      ]
    },
    {
      "cell_type": "code",
      "source": [
        "import requests\n",
        "import json\n",
        "import os\n",
        "\n",
        "from bs4 import BeautifulSoup"
      ],
      "metadata": {
        "id": "OEDJcOYTGsT9"
      },
      "execution_count": 11,
      "outputs": []
    },
    {
      "cell_type": "code",
      "source": [
        "path = '/content/drive/MyDrive/Colab Notebooks/Web Scraping/Image'"
      ],
      "metadata": {
        "id": "aMTgls-gGDSR"
      },
      "execution_count": 4,
      "outputs": []
    },
    {
      "cell_type": "code",
      "source": [
        "url = 'https://www.hanamasaresto.com/menu'\n",
        "req = requests.get(url)\n",
        "soup = BeautifulSoup(req.content, 'html.parser')\n",
        "#print(soup)"
      ],
      "metadata": {
        "id": "ILh5Mbk-G8Sc"
      },
      "execution_count": 10,
      "outputs": []
    },
    {
      "cell_type": "code",
      "source": [
        "imgs = soup.find_all('img')\n",
        "print(imgs)"
      ],
      "metadata": {
        "colab": {
          "base_uri": "https://localhost:8080/"
        },
        "id": "N-v7BjnTHPeA",
        "outputId": "84c13465-e8ca-40f9-f130-26a0b0081a77"
      },
      "execution_count": 14,
      "outputs": [
        {
          "output_type": "stream",
          "name": "stdout",
          "text": [
            "[<img class=\"img-fluid\" src=\"https://www.hanamasaresto.com/assets/f/img/logo.png\"/>, <img src=\"https://www.hanamasaresto.com/photos/shares/FooDetailed/_ROBATAYAKI__Agedasi_Tofu_A.JPG\"/>, <img src=\"https://www.hanamasaresto.com/photos/shares/FooDetailed/_ROBATAYAKI__Bakso_Goreng_Ikan_C.JPG\"/>, <img src=\"https://www.hanamasaresto.com/photos/shares/FooDetailed/_ROBATAYAKI__Bakso_Salmon_B.JPG\"/>, <img src=\"https://www.hanamasaresto.com/photos/shares/FooDetailed/_ROBATAYAKI__Beef_Roll_Onion_C.JPG\"/>, <img src=\"https://www.hanamasaresto.com/photos/shares/FooDetailed/_ROBATAYAKI__Beef_Sausage_B.JPG\"/>, <img src=\"https://www.hanamasaresto.com/photos/shares/FooDetailed/_ROBATAYAKI__Cheese_Beef_Sausage_A.JPG\"/>, <img src=\"https://www.hanamasaresto.com/photos/shares/FooDetailed/_ROBATAYAKI__Cumi_B.JPG\"/>, <img src=\"https://www.hanamasaresto.com/photos/shares/FooDetailed/_ROBATAYAKI__Gindara_A.JPG\"/>, <img src=\"https://www.hanamasaresto.com/photos/shares/FooDetailed/_ROBATAYAKI__Jamur_Shitake_A2.JPG\"/>, <img src=\"https://www.hanamasaresto.com/photos/shares/FooDetailed/_ROBATAYAKI__Kepala_Cumi_A.JPG\"/>, <img src=\"https://www.hanamasaresto.com/photos/shares/FooDetailed/_ROBATAYAKI__Misoshiro_Soup_B.JPG\"/>, <img src=\"https://www.hanamasaresto.com/photos/shares/FooDetailed/_ROBATAYAKI__Nasi_Taki_B.JPG\"/>, <img src=\"https://www.hanamasaresto.com/photos/shares/FooDetailed/_ROBATAYAKI__Onigiri_B.JPG\"/>, <img src=\"https://www.hanamasaresto.com/photos/shares/FooDetailed/_ROBATAYAKI__Prawn_Tempura_A.JPG\"/>, <img src=\"https://www.hanamasaresto.com/photos/shares/FooDetailed/_ROBATAYAKI__Sate_Garlic_A.JPG\"/>, <img src=\"https://www.hanamasaresto.com/photos/shares/FooDetailed/_ROBATAYAKI__Sate_Udang_C.JPG\"/>, <img src=\"https://www.hanamasaresto.com/photos/shares/FooDetailed/_ROBATAYAKI__Smoked_Beef_B.JPG\"/>, <img src=\"https://www.hanamasaresto.com/photos/shares/FooDetailed/_ROBATAYAKI__Spicy_Beef_Sausage_A.JPG\"/>, <img src=\"https://www.hanamasaresto.com/photos/shares/FooDetailed/_ROBATAYAKI__Spicy_Chicken_Sausage_C.JPG\"/>, <img src=\"https://www.hanamasaresto.com/photos/shares/FooDetailed/_ROBATAYAKI__Spicy_Honey_B.JPG\"/>, <img src=\"https://www.hanamasaresto.com/photos/shares/FooDetailed/_ROBATAYAKI__Tori_Katsu_A.JPG\"/>, <img src=\"https://www.hanamasaresto.com/photos/shares/FooDetailed/_ROBATAYAKI__Torigawa_B.JPG\"/>, <img src=\"https://www.hanamasaresto.com/photos/shares/FooDetailed/_ROBATAYAKI__Veal_Sausage_B.JPG\"/>, <img src=\"https://www.hanamasaresto.com/photos/shares/FooDetailed/_ROBATAYAKI__Yakimeshi__Nasi_Goreng__A2.JPG\"/>, <img src=\"https://www.hanamasaresto.com/photos/shares/FooDetailed/_ROBATAYAKI__Yakitori_B.JPG\"/>, <img src=\"https://www.hanamasaresto.com/photos/shares/FooDetailed/_YAKINIKU__Beef_Marinated_Ginger_C.JPG\"/>, <img src=\"https://www.hanamasaresto.com/photos/shares/FooDetailed/_YAKINIKU__Beef_Marinated_Special_B.JPG\"/>, <img src=\"https://www.hanamasaresto.com/photos/shares/FooDetailed/_YAKINIKU__Beef_Ribs_C.JPG\"/>, <img src=\"https://www.hanamasaresto.com/photos/shares/FooDetailed/_YAKINIKU__Beef_Terrine_C.JPG\"/>, <img src=\"https://www.hanamasaresto.com/photos/shares/FooDetailed/_YAKINIKU__Chicken_Breast_B.JPG\"/>, <img src=\"https://www.hanamasaresto.com/photos/shares/FooDetailed/_Yakiniku__Lemak_C.JPG\"/>, <img src=\"https://www.hanamasaresto.com/photos/shares/FooDetailed/_YAKINIKU__Chicken_Marinated_Special_C.JPG\"/>, <img src=\"https://www.hanamasaresto.com/photos/shares/FooDetailed/Nasi_B.JPG\"/>, <img src=\"https://www.hanamasaresto.com/photos/shares/FooDetailed/_SALAD__Chicken_Thai_Salad_B.JPG\"/>, <img src=\"https://www.hanamasaresto.com/photos/shares/FooDetailed/_SYABU-SYABU__Beef_A.JPG\"/>, <img src=\"https://www.hanamasaresto.com/photos/shares/FooDetailed/_SYABU-SYABU__Chikuwa_B.JPG\"/>, <img src=\"https://www.hanamasaresto.com/photos/shares/FooDetailed/_SYABU-SYABU__Cocktail_Sausage_B.JPG\"/>, <img src=\"https://www.hanamasaresto.com/photos/shares/FooDetailed/_SYABU-SYABU__Cumi_A.JPG\"/>, <img src=\"https://www.hanamasaresto.com/photos/shares/FooDetailed/_SYABU-SYABU__Dori_Fish_A.JPG\"/>, <img src=\"https://www.hanamasaresto.com/photos/shares/FooDetailed/_SYABU-SYABU__Fish_Meatball_A.JPG\"/>, <img src=\"https://www.hanamasaresto.com/photos/shares/FooDetailed/_SYABU-SYABU__Fish_Tofu_A.JPG\"/>, <img src=\"https://www.hanamasaresto.com/photos/shares/FooDetailed/_SYABU-SYABU__Holand_Fish_Cake_B.JPG\"/>, <img src=\"https://www.hanamasaresto.com/photos/shares/FooDetailed/_SYABU-SYABU__Horenzo__Bayam_Jepang__B.JPG\"/>, <img src=\"https://www.hanamasaresto.com/photos/shares/FooDetailed/_SYABU-SYABU__Jamur_Enoki_B.JPG\"/>, <img src=\"https://www.hanamasaresto.com/photos/shares/FooDetailed/_SYABU-SYABU__Jamur_Shimeji_A.JPG\"/>, <img src=\"https://www.hanamasaresto.com/photos/shares/FooDetailed/_SYABU-SYABU__Jamur_Tiram_B.JPG\"/>, <img src=\"https://www.hanamasaresto.com/photos/shares/FooDetailed/_SYABU-SYABU__Japanese_Fish_Cake_A.JPG\"/>, <img src=\"https://www.hanamasaresto.com/photos/shares/FooDetailed/_SYABU-SYABU__Kangkung_B.JPG\"/>, <img src=\"https://www.hanamasaresto.com/photos/shares/FooDetailed/_SYABU-SYABU__Konyaku_B.JPG\"/>, <img src=\"https://www.hanamasaresto.com/photos/shares/FooDetailed/_SYABU-SYABU__Meatball_A.JPG\"/>, <img src=\"https://www.hanamasaresto.com/photos/shares/FooDetailed/_SYABU-SYABU__Oborotsuki_A.JPG\"/>, <img src=\"https://www.hanamasaresto.com/photos/shares/FooDetailed/_SYABU-SYABU__Onion_A.JPG\"/>, <img src=\"https://www.hanamasaresto.com/photos/shares/FooDetailed/_SYABU-SYABU__Pakcoy_A.JPG\"/>, <img src=\"https://www.hanamasaresto.com/photos/shares/FooDetailed/_SYABU-SYABU__Salmon_Meatball_B.JPG\"/>, <img src=\"https://www.hanamasaresto.com/photos/shares/FooDetailed/_SYABU-SYABU__Sawi_Putih_B.JPG\"/>, <img src=\"https://www.hanamasaresto.com/photos/shares/FooDetailed/_SYABU-SYABU__Siomay_Udang_A.JPG\"/>, <img src=\"https://www.hanamasaresto.com/photos/shares/FooDetailed/_SYABU-SYABU__Tango_Leaves_A.JPG\"/>, <img src=\"https://www.hanamasaresto.com/photos/shares/FooDetailed/_SYABU-SYABU__Tofu_B.JPG\"/>, <img src=\"https://www.hanamasaresto.com/photos/shares/FooDetailed/_SYABU-SYABU__Veal_Sausage_C.JPG\"/>, <img src=\"https://www.hanamasaresto.com/photos/shares/FooDetailed/_SOUP__Torino_Soup_B.JPG\"/>, <img src=\"https://www.hanamasaresto.com/photos/shares/FooDetailed/_SAUCE__Bawang_Putih_Cincang_B.JPG\"/>, <img src=\"https://www.hanamasaresto.com/photos/shares/FooDetailed/_DESSERT__Asinan_B_x.JPG\"/>, <img src=\"https://www.hanamasaresto.com/photos/shares/FooDetailed/_DESSERT__Cincau_B.JPG\"/>, <img src=\"https://www.hanamasaresto.com/photos/shares/FooDetailed/_DESSERT__Es_Campur_B.JPG\"/>, <img src=\"https://www.hanamasaresto.com/photos/shares/FooDetailed/_DESSERT__Fruit_Cocktail_A_x.JPG\"/>, <img src=\"https://www.hanamasaresto.com/photos/shares/FooDetailed/_DESSERT__Kacang_Ijo_A_x.JPG\"/>, <img src=\"https://www.hanamasaresto.com/photos/shares/FooDetailed/_DESSERT__Lupis_A.JPG\"/>, <img src=\"https://www.hanamasaresto.com/photos/shares/FooDetailed/_DESSERT__Nanas_B.JPG\"/>, <img src=\"https://www.hanamasaresto.com/photos/shares/FooDetailed/_DESSERT__Nata_de_coco_C.JPG\"/>, <img src=\"https://www.hanamasaresto.com/photos/shares/FooDetailed/_DESSERT__Pepaya_B.JPG\"/>, <img src=\"https://www.hanamasaresto.com/photos/shares/FooDetailed/_DESSERT__Puding_Cokelat_A2.JPG\"/>, <img src=\"https://www.hanamasaresto.com/photos/shares/FooDetailed/_DESSERT__Puding_Gula_Merah_B.JPG\"/>, <img src=\"https://www.hanamasaresto.com/photos/shares/FooDetailed/_DESSERT__Puding_Pandan_A.JPG\"/>, <img src=\"https://www.hanamasaresto.com/photos/shares/FooDetailed/_DESSERT__Rumput_Laut_B.JPG\"/>, <img src=\"https://www.hanamasaresto.com/photos/shares/FooDetailed/_DESSERT__Semangka_A.JPG\"/>, <img src=\"https://www.hanamasaresto.com/photos/shares/FooDetailed/_DESSERT__Singkong_Thailand_B.JPG\"/>, <img src=\"https://www.hanamasaresto.com/photos/shares/FooDetailed/_DESSERT__Talam_Sagu_A.JPG\"/>, <img src=\"https://www.hanamasaresto.com/photos/shares/FooDetailed/_DESSERT__Tape_C.JPG\"/>, <img src=\"https://www.hanamasaresto.com/photos/shares/FooDetailed/_DESSERT__Bumbu_Rujak_B2.JPG\"/>, <img src=\"https://www.hanamasaresto.com/photos/shares/product/IMG_8447.JPG\"/>, <img src=\"https://www.hanamasaresto.com/photos/shares/product/Herbal_Juice_22K___Carrot__Lemon__Tomato__Cucumber__Eggplant__1_.JPG\"/>, <img src=\"https://www.hanamasaresto.com/photos/shares/product/Fresh_Juice_22K_Strawberry__Avocado__Guava__1_.JPG\"/>, <img src=\"https://www.hanamasaresto.com/photos/shares/product/IMG_8317.JPG\"/>, <img src=\"https://www.hanamasaresto.com/photos/shares/product/IMG_8333.JPG\"/>, <img class=\"img-fluid\" src=\"https://www.hanamasaresto.com/image/product-1.png\"/>, <img class=\"img-fluid\" src=\"https://www.hanamasaresto.com/assets/f/img/logo.png\"/>, <img class=\"img-fluid\" src=\"https://www.hanamasaresto.com/assets/f/img/logo.png\"/>, <img class=\"img-fluid\" src=\"https://www.hanamasaresto.com/assets/f/img/logo.png\"/>]\n"
          ]
        }
      ]
    },
    {
      "cell_type": "code",
      "source": [
        "for img in imgs:\n",
        "  link = img['src']\n",
        "  print(link)"
      ],
      "metadata": {
        "colab": {
          "base_uri": "https://localhost:8080/"
        },
        "id": "bjugs0zeHUNo",
        "outputId": "6b2b4081-0ee6-4f50-e406-f31a5890dd89"
      },
      "execution_count": 15,
      "outputs": [
        {
          "output_type": "stream",
          "name": "stdout",
          "text": [
            "https://www.hanamasaresto.com/assets/f/img/logo.png\n",
            "https://www.hanamasaresto.com/photos/shares/FooDetailed/_ROBATAYAKI__Agedasi_Tofu_A.JPG\n",
            "https://www.hanamasaresto.com/photos/shares/FooDetailed/_ROBATAYAKI__Bakso_Goreng_Ikan_C.JPG\n",
            "https://www.hanamasaresto.com/photos/shares/FooDetailed/_ROBATAYAKI__Bakso_Salmon_B.JPG\n",
            "https://www.hanamasaresto.com/photos/shares/FooDetailed/_ROBATAYAKI__Beef_Roll_Onion_C.JPG\n",
            "https://www.hanamasaresto.com/photos/shares/FooDetailed/_ROBATAYAKI__Beef_Sausage_B.JPG\n",
            "https://www.hanamasaresto.com/photos/shares/FooDetailed/_ROBATAYAKI__Cheese_Beef_Sausage_A.JPG\n",
            "https://www.hanamasaresto.com/photos/shares/FooDetailed/_ROBATAYAKI__Cumi_B.JPG\n",
            "https://www.hanamasaresto.com/photos/shares/FooDetailed/_ROBATAYAKI__Gindara_A.JPG\n",
            "https://www.hanamasaresto.com/photos/shares/FooDetailed/_ROBATAYAKI__Jamur_Shitake_A2.JPG\n",
            "https://www.hanamasaresto.com/photos/shares/FooDetailed/_ROBATAYAKI__Kepala_Cumi_A.JPG\n",
            "https://www.hanamasaresto.com/photos/shares/FooDetailed/_ROBATAYAKI__Misoshiro_Soup_B.JPG\n",
            "https://www.hanamasaresto.com/photos/shares/FooDetailed/_ROBATAYAKI__Nasi_Taki_B.JPG\n",
            "https://www.hanamasaresto.com/photos/shares/FooDetailed/_ROBATAYAKI__Onigiri_B.JPG\n",
            "https://www.hanamasaresto.com/photos/shares/FooDetailed/_ROBATAYAKI__Prawn_Tempura_A.JPG\n",
            "https://www.hanamasaresto.com/photos/shares/FooDetailed/_ROBATAYAKI__Sate_Garlic_A.JPG\n",
            "https://www.hanamasaresto.com/photos/shares/FooDetailed/_ROBATAYAKI__Sate_Udang_C.JPG\n",
            "https://www.hanamasaresto.com/photos/shares/FooDetailed/_ROBATAYAKI__Smoked_Beef_B.JPG\n",
            "https://www.hanamasaresto.com/photos/shares/FooDetailed/_ROBATAYAKI__Spicy_Beef_Sausage_A.JPG\n",
            "https://www.hanamasaresto.com/photos/shares/FooDetailed/_ROBATAYAKI__Spicy_Chicken_Sausage_C.JPG\n",
            "https://www.hanamasaresto.com/photos/shares/FooDetailed/_ROBATAYAKI__Spicy_Honey_B.JPG\n",
            "https://www.hanamasaresto.com/photos/shares/FooDetailed/_ROBATAYAKI__Tori_Katsu_A.JPG\n",
            "https://www.hanamasaresto.com/photos/shares/FooDetailed/_ROBATAYAKI__Torigawa_B.JPG\n",
            "https://www.hanamasaresto.com/photos/shares/FooDetailed/_ROBATAYAKI__Veal_Sausage_B.JPG\n",
            "https://www.hanamasaresto.com/photos/shares/FooDetailed/_ROBATAYAKI__Yakimeshi__Nasi_Goreng__A2.JPG\n",
            "https://www.hanamasaresto.com/photos/shares/FooDetailed/_ROBATAYAKI__Yakitori_B.JPG\n",
            "https://www.hanamasaresto.com/photos/shares/FooDetailed/_YAKINIKU__Beef_Marinated_Ginger_C.JPG\n",
            "https://www.hanamasaresto.com/photos/shares/FooDetailed/_YAKINIKU__Beef_Marinated_Special_B.JPG\n",
            "https://www.hanamasaresto.com/photos/shares/FooDetailed/_YAKINIKU__Beef_Ribs_C.JPG\n",
            "https://www.hanamasaresto.com/photos/shares/FooDetailed/_YAKINIKU__Beef_Terrine_C.JPG\n",
            "https://www.hanamasaresto.com/photos/shares/FooDetailed/_YAKINIKU__Chicken_Breast_B.JPG\n",
            "https://www.hanamasaresto.com/photos/shares/FooDetailed/_Yakiniku__Lemak_C.JPG\n",
            "https://www.hanamasaresto.com/photos/shares/FooDetailed/_YAKINIKU__Chicken_Marinated_Special_C.JPG\n",
            "https://www.hanamasaresto.com/photos/shares/FooDetailed/Nasi_B.JPG\n",
            "https://www.hanamasaresto.com/photos/shares/FooDetailed/_SALAD__Chicken_Thai_Salad_B.JPG\n",
            "https://www.hanamasaresto.com/photos/shares/FooDetailed/_SYABU-SYABU__Beef_A.JPG\n",
            "https://www.hanamasaresto.com/photos/shares/FooDetailed/_SYABU-SYABU__Chikuwa_B.JPG\n",
            "https://www.hanamasaresto.com/photos/shares/FooDetailed/_SYABU-SYABU__Cocktail_Sausage_B.JPG\n",
            "https://www.hanamasaresto.com/photos/shares/FooDetailed/_SYABU-SYABU__Cumi_A.JPG\n",
            "https://www.hanamasaresto.com/photos/shares/FooDetailed/_SYABU-SYABU__Dori_Fish_A.JPG\n",
            "https://www.hanamasaresto.com/photos/shares/FooDetailed/_SYABU-SYABU__Fish_Meatball_A.JPG\n",
            "https://www.hanamasaresto.com/photos/shares/FooDetailed/_SYABU-SYABU__Fish_Tofu_A.JPG\n",
            "https://www.hanamasaresto.com/photos/shares/FooDetailed/_SYABU-SYABU__Holand_Fish_Cake_B.JPG\n",
            "https://www.hanamasaresto.com/photos/shares/FooDetailed/_SYABU-SYABU__Horenzo__Bayam_Jepang__B.JPG\n",
            "https://www.hanamasaresto.com/photos/shares/FooDetailed/_SYABU-SYABU__Jamur_Enoki_B.JPG\n",
            "https://www.hanamasaresto.com/photos/shares/FooDetailed/_SYABU-SYABU__Jamur_Shimeji_A.JPG\n",
            "https://www.hanamasaresto.com/photos/shares/FooDetailed/_SYABU-SYABU__Jamur_Tiram_B.JPG\n",
            "https://www.hanamasaresto.com/photos/shares/FooDetailed/_SYABU-SYABU__Japanese_Fish_Cake_A.JPG\n",
            "https://www.hanamasaresto.com/photos/shares/FooDetailed/_SYABU-SYABU__Kangkung_B.JPG\n",
            "https://www.hanamasaresto.com/photos/shares/FooDetailed/_SYABU-SYABU__Konyaku_B.JPG\n",
            "https://www.hanamasaresto.com/photos/shares/FooDetailed/_SYABU-SYABU__Meatball_A.JPG\n",
            "https://www.hanamasaresto.com/photos/shares/FooDetailed/_SYABU-SYABU__Oborotsuki_A.JPG\n",
            "https://www.hanamasaresto.com/photos/shares/FooDetailed/_SYABU-SYABU__Onion_A.JPG\n",
            "https://www.hanamasaresto.com/photos/shares/FooDetailed/_SYABU-SYABU__Pakcoy_A.JPG\n",
            "https://www.hanamasaresto.com/photos/shares/FooDetailed/_SYABU-SYABU__Salmon_Meatball_B.JPG\n",
            "https://www.hanamasaresto.com/photos/shares/FooDetailed/_SYABU-SYABU__Sawi_Putih_B.JPG\n",
            "https://www.hanamasaresto.com/photos/shares/FooDetailed/_SYABU-SYABU__Siomay_Udang_A.JPG\n",
            "https://www.hanamasaresto.com/photos/shares/FooDetailed/_SYABU-SYABU__Tango_Leaves_A.JPG\n",
            "https://www.hanamasaresto.com/photos/shares/FooDetailed/_SYABU-SYABU__Tofu_B.JPG\n",
            "https://www.hanamasaresto.com/photos/shares/FooDetailed/_SYABU-SYABU__Veal_Sausage_C.JPG\n",
            "https://www.hanamasaresto.com/photos/shares/FooDetailed/_SOUP__Torino_Soup_B.JPG\n",
            "https://www.hanamasaresto.com/photos/shares/FooDetailed/_SAUCE__Bawang_Putih_Cincang_B.JPG\n",
            "https://www.hanamasaresto.com/photos/shares/FooDetailed/_DESSERT__Asinan_B_x.JPG\n",
            "https://www.hanamasaresto.com/photos/shares/FooDetailed/_DESSERT__Cincau_B.JPG\n",
            "https://www.hanamasaresto.com/photos/shares/FooDetailed/_DESSERT__Es_Campur_B.JPG\n",
            "https://www.hanamasaresto.com/photos/shares/FooDetailed/_DESSERT__Fruit_Cocktail_A_x.JPG\n",
            "https://www.hanamasaresto.com/photos/shares/FooDetailed/_DESSERT__Kacang_Ijo_A_x.JPG\n",
            "https://www.hanamasaresto.com/photos/shares/FooDetailed/_DESSERT__Lupis_A.JPG\n",
            "https://www.hanamasaresto.com/photos/shares/FooDetailed/_DESSERT__Nanas_B.JPG\n",
            "https://www.hanamasaresto.com/photos/shares/FooDetailed/_DESSERT__Nata_de_coco_C.JPG\n",
            "https://www.hanamasaresto.com/photos/shares/FooDetailed/_DESSERT__Pepaya_B.JPG\n",
            "https://www.hanamasaresto.com/photos/shares/FooDetailed/_DESSERT__Puding_Cokelat_A2.JPG\n",
            "https://www.hanamasaresto.com/photos/shares/FooDetailed/_DESSERT__Puding_Gula_Merah_B.JPG\n",
            "https://www.hanamasaresto.com/photos/shares/FooDetailed/_DESSERT__Puding_Pandan_A.JPG\n",
            "https://www.hanamasaresto.com/photos/shares/FooDetailed/_DESSERT__Rumput_Laut_B.JPG\n",
            "https://www.hanamasaresto.com/photos/shares/FooDetailed/_DESSERT__Semangka_A.JPG\n",
            "https://www.hanamasaresto.com/photos/shares/FooDetailed/_DESSERT__Singkong_Thailand_B.JPG\n",
            "https://www.hanamasaresto.com/photos/shares/FooDetailed/_DESSERT__Talam_Sagu_A.JPG\n",
            "https://www.hanamasaresto.com/photos/shares/FooDetailed/_DESSERT__Tape_C.JPG\n",
            "https://www.hanamasaresto.com/photos/shares/FooDetailed/_DESSERT__Bumbu_Rujak_B2.JPG\n",
            "https://www.hanamasaresto.com/photos/shares/product/IMG_8447.JPG\n",
            "https://www.hanamasaresto.com/photos/shares/product/Herbal_Juice_22K___Carrot__Lemon__Tomato__Cucumber__Eggplant__1_.JPG\n",
            "https://www.hanamasaresto.com/photos/shares/product/Fresh_Juice_22K_Strawberry__Avocado__Guava__1_.JPG\n",
            "https://www.hanamasaresto.com/photos/shares/product/IMG_8317.JPG\n",
            "https://www.hanamasaresto.com/photos/shares/product/IMG_8333.JPG\n",
            "https://www.hanamasaresto.com/image/product-1.png\n",
            "https://www.hanamasaresto.com/assets/f/img/logo.png\n",
            "https://www.hanamasaresto.com/assets/f/img/logo.png\n",
            "https://www.hanamasaresto.com/assets/f/img/logo.png\n"
          ]
        }
      ]
    },
    {
      "cell_type": "code",
      "source": [
        "for img in imgs:\n",
        "    link = img['src']\n",
        "  #print(link)\n",
        "    filename = link.split('/')[-1] # split nama file dari url mines 1 dari belakang hitungannya\n",
        "  #print(filename) # ambil nama file\n",
        "    folder = link.split('/')[3]\n",
        "  #print(folder) # bikin folder untuk bedain file\n",
        "\n",
        "    if folder == 'photos':\n",
        "\t\t    if link.split('/')[5] == 'FooDetailed':\n",
        "\t\t\t    foldername = 'photos/shares/FooDetailed'\n",
        "\t\t    else:\n",
        "\t\t\t    foldername == 'photos/shares/product'\n",
        "\n",
        "    elif folder == 'image':\n",
        "\t\t    foldername = 'image'\n",
        "    \n",
        "    elif folder == 'assets':\n",
        "\t\t    foldername = 'assets/f/img'\n",
        "    \n",
        "    else:\n",
        "\t\t    print('folder not exist')\n",
        "\n",
        "    if not os.path.exists(foldername):\n",
        "      os.makedirs(foldername)\n",
        "\n",
        "    with open(foldername + '/' + filename, 'wb') as f:\n",
        "      image = requests.get(link)\n",
        "      f.write(image.content)\n",
        "      print('writing:' , filename)"
      ],
      "metadata": {
        "colab": {
          "base_uri": "https://localhost:8080/"
        },
        "id": "AYbCZC3DKl1P",
        "outputId": "607dcb54-7034-434e-90e4-1fcdb025b0d6"
      },
      "execution_count": 22,
      "outputs": [
        {
          "output_type": "stream",
          "name": "stdout",
          "text": [
            "writing: logo.png\n",
            "writing: _ROBATAYAKI__Agedasi_Tofu_A.JPG\n",
            "writing: _ROBATAYAKI__Bakso_Goreng_Ikan_C.JPG\n",
            "writing: _ROBATAYAKI__Bakso_Salmon_B.JPG\n",
            "writing: _ROBATAYAKI__Beef_Roll_Onion_C.JPG\n",
            "writing: _ROBATAYAKI__Beef_Sausage_B.JPG\n",
            "writing: _ROBATAYAKI__Cheese_Beef_Sausage_A.JPG\n",
            "writing: _ROBATAYAKI__Cumi_B.JPG\n",
            "writing: _ROBATAYAKI__Gindara_A.JPG\n",
            "writing: _ROBATAYAKI__Jamur_Shitake_A2.JPG\n",
            "writing: _ROBATAYAKI__Kepala_Cumi_A.JPG\n",
            "writing: _ROBATAYAKI__Misoshiro_Soup_B.JPG\n",
            "writing: _ROBATAYAKI__Nasi_Taki_B.JPG\n",
            "writing: _ROBATAYAKI__Onigiri_B.JPG\n",
            "writing: _ROBATAYAKI__Prawn_Tempura_A.JPG\n",
            "writing: _ROBATAYAKI__Sate_Garlic_A.JPG\n",
            "writing: _ROBATAYAKI__Sate_Udang_C.JPG\n",
            "writing: _ROBATAYAKI__Smoked_Beef_B.JPG\n",
            "writing: _ROBATAYAKI__Spicy_Beef_Sausage_A.JPG\n",
            "writing: _ROBATAYAKI__Spicy_Chicken_Sausage_C.JPG\n",
            "writing: _ROBATAYAKI__Spicy_Honey_B.JPG\n",
            "writing: _ROBATAYAKI__Tori_Katsu_A.JPG\n",
            "writing: _ROBATAYAKI__Torigawa_B.JPG\n",
            "writing: _ROBATAYAKI__Veal_Sausage_B.JPG\n",
            "writing: _ROBATAYAKI__Yakimeshi__Nasi_Goreng__A2.JPG\n",
            "writing: _ROBATAYAKI__Yakitori_B.JPG\n",
            "writing: _YAKINIKU__Beef_Marinated_Ginger_C.JPG\n",
            "writing: _YAKINIKU__Beef_Marinated_Special_B.JPG\n",
            "writing: _YAKINIKU__Beef_Ribs_C.JPG\n",
            "writing: _YAKINIKU__Beef_Terrine_C.JPG\n",
            "writing: _YAKINIKU__Chicken_Breast_B.JPG\n",
            "writing: _Yakiniku__Lemak_C.JPG\n",
            "writing: _YAKINIKU__Chicken_Marinated_Special_C.JPG\n",
            "writing: Nasi_B.JPG\n",
            "writing: _SALAD__Chicken_Thai_Salad_B.JPG\n",
            "writing: _SYABU-SYABU__Beef_A.JPG\n",
            "writing: _SYABU-SYABU__Chikuwa_B.JPG\n",
            "writing: _SYABU-SYABU__Cocktail_Sausage_B.JPG\n",
            "writing: _SYABU-SYABU__Cumi_A.JPG\n",
            "writing: _SYABU-SYABU__Dori_Fish_A.JPG\n",
            "writing: _SYABU-SYABU__Fish_Meatball_A.JPG\n",
            "writing: _SYABU-SYABU__Fish_Tofu_A.JPG\n",
            "writing: _SYABU-SYABU__Holand_Fish_Cake_B.JPG\n",
            "writing: _SYABU-SYABU__Horenzo__Bayam_Jepang__B.JPG\n",
            "writing: _SYABU-SYABU__Jamur_Enoki_B.JPG\n",
            "writing: _SYABU-SYABU__Jamur_Shimeji_A.JPG\n",
            "writing: _SYABU-SYABU__Jamur_Tiram_B.JPG\n",
            "writing: _SYABU-SYABU__Japanese_Fish_Cake_A.JPG\n",
            "writing: _SYABU-SYABU__Kangkung_B.JPG\n",
            "writing: _SYABU-SYABU__Konyaku_B.JPG\n",
            "writing: _SYABU-SYABU__Meatball_A.JPG\n",
            "writing: _SYABU-SYABU__Oborotsuki_A.JPG\n",
            "writing: _SYABU-SYABU__Onion_A.JPG\n",
            "writing: _SYABU-SYABU__Pakcoy_A.JPG\n",
            "writing: _SYABU-SYABU__Salmon_Meatball_B.JPG\n",
            "writing: _SYABU-SYABU__Sawi_Putih_B.JPG\n",
            "writing: _SYABU-SYABU__Siomay_Udang_A.JPG\n",
            "writing: _SYABU-SYABU__Tango_Leaves_A.JPG\n",
            "writing: _SYABU-SYABU__Tofu_B.JPG\n",
            "writing: _SYABU-SYABU__Veal_Sausage_C.JPG\n",
            "writing: _SOUP__Torino_Soup_B.JPG\n",
            "writing: _SAUCE__Bawang_Putih_Cincang_B.JPG\n",
            "writing: _DESSERT__Asinan_B_x.JPG\n",
            "writing: _DESSERT__Cincau_B.JPG\n",
            "writing: _DESSERT__Es_Campur_B.JPG\n",
            "writing: _DESSERT__Fruit_Cocktail_A_x.JPG\n",
            "writing: _DESSERT__Kacang_Ijo_A_x.JPG\n",
            "writing: _DESSERT__Lupis_A.JPG\n",
            "writing: _DESSERT__Nanas_B.JPG\n",
            "writing: _DESSERT__Nata_de_coco_C.JPG\n",
            "writing: _DESSERT__Pepaya_B.JPG\n",
            "writing: _DESSERT__Puding_Cokelat_A2.JPG\n",
            "writing: _DESSERT__Puding_Gula_Merah_B.JPG\n",
            "writing: _DESSERT__Puding_Pandan_A.JPG\n",
            "writing: _DESSERT__Rumput_Laut_B.JPG\n",
            "writing: _DESSERT__Semangka_A.JPG\n",
            "writing: _DESSERT__Singkong_Thailand_B.JPG\n",
            "writing: _DESSERT__Talam_Sagu_A.JPG\n",
            "writing: _DESSERT__Tape_C.JPG\n",
            "writing: _DESSERT__Bumbu_Rujak_B2.JPG\n",
            "writing: IMG_8447.JPG\n",
            "writing: Herbal_Juice_22K___Carrot__Lemon__Tomato__Cucumber__Eggplant__1_.JPG\n",
            "writing: Fresh_Juice_22K_Strawberry__Avocado__Guava__1_.JPG\n",
            "writing: IMG_8317.JPG\n",
            "writing: IMG_8333.JPG\n",
            "writing: product-1.png\n",
            "writing: logo.png\n",
            "writing: logo.png\n",
            "writing: logo.png\n"
          ]
        }
      ]
    },
    {
      "cell_type": "markdown",
      "source": [
        "https://www.hanamasaresto.com/menu"
      ],
      "metadata": {
        "id": "4b1WJJlOXbY5"
      }
    },
    {
      "cell_type": "markdown",
      "source": [
        "- File masuk ke directory drive, folder akan terbuat otomatis dan setelah folder ada bisa di drop atau pindahkan ke google drive"
      ],
      "metadata": {
        "id": "ll2PE1_TXdV-"
      }
    },
    {
      "cell_type": "code",
      "source": [],
      "metadata": {
        "id": "ds701MIxXpoE"
      },
      "execution_count": null,
      "outputs": []
    }
  ]
}