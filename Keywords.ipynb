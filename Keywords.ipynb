{
  "nbformat": 4,
  "nbformat_minor": 0,
  "metadata": {
    "colab": {
      "name": "Keywords.ipynb",
      "provenance": [],
      "authorship_tag": "ABX9TyMNyfe6kDu+8tWEPdnrlM7c",
      "include_colab_link": true
    },
    "kernelspec": {
      "name": "python3",
      "display_name": "Python 3"
    }
  },
  "cells": [
    {
      "cell_type": "markdown",
      "metadata": {
        "id": "view-in-github",
        "colab_type": "text"
      },
      "source": [
        "<a href=\"https://colab.research.google.com/github/rifyalt/vial/blob/master/Keywords.ipynb\" target=\"_parent\"><img src=\"https://colab.research.google.com/assets/colab-badge.svg\" alt=\"Open In Colab\"/></a>"
      ]
    },
    {
      "cell_type": "markdown",
      "metadata": {
        "id": "mFOm-vs4suDk"
      },
      "source": [
        "# Import Library"
      ]
    },
    {
      "cell_type": "code",
      "metadata": {
        "colab": {
          "base_uri": "https://localhost:8080/"
        },
        "id": "NwIO1B59qsoD",
        "outputId": "e3c4c52e-1459-4632-afa0-eca38fa271a9"
      },
      "source": [
        "import pandas as pd, numpy as np\n",
        "import matplotlib.pyplot as plt, seaborn as sns # optional aja\n",
        "from google.colab import drive\n",
        "drive.mount('/content/drive') # otorisasi"
      ],
      "execution_count": null,
      "outputs": [
        {
          "output_type": "stream",
          "text": [
            "Mounted at /content/drive\n"
          ],
          "name": "stdout"
        }
      ]
    },
    {
      "cell_type": "markdown",
      "metadata": {
        "id": "jI6tllnashYh"
      },
      "source": [
        "# Load Dataset"
      ]
    },
    {
      "cell_type": "code",
      "metadata": {
        "colab": {
          "base_uri": "https://localhost:8080/",
          "height": 204
        },
        "id": "Q4czWQXXrE3L",
        "outputId": "e5c3fe95-13b2-4b6d-ab42-aadcbe2eeacc"
      },
      "source": [
        "dataset = pd.read_csv('/content/drive/MyDrive/Colab Notebooks/Digital Skola/Keyword/keywords.csv')\n",
        "\n",
        "dataset.head()"
      ],
      "execution_count": null,
      "outputs": [
        {
          "output_type": "execute_result",
          "data": {
            "text/html": [
              "<div>\n",
              "<style scoped>\n",
              "    .dataframe tbody tr th:only-of-type {\n",
              "        vertical-align: middle;\n",
              "    }\n",
              "\n",
              "    .dataframe tbody tr th {\n",
              "        vertical-align: top;\n",
              "    }\n",
              "\n",
              "    .dataframe thead th {\n",
              "        text-align: right;\n",
              "    }\n",
              "</style>\n",
              "<table border=\"1\" class=\"dataframe\">\n",
              "  <thead>\n",
              "    <tr style=\"text-align: right;\">\n",
              "      <th></th>\n",
              "      <th>Date</th>\n",
              "      <th>Market</th>\n",
              "      <th>Keyword</th>\n",
              "      <th>Average.Position</th>\n",
              "      <th>Clicks</th>\n",
              "      <th>Impressions</th>\n",
              "      <th>Cost</th>\n",
              "    </tr>\n",
              "  </thead>\n",
              "  <tbody>\n",
              "    <tr>\n",
              "      <th>0</th>\n",
              "      <td>20120524</td>\n",
              "      <td>US-Market</td>\n",
              "      <td>secure online back up</td>\n",
              "      <td>0.0</td>\n",
              "      <td>0.00</td>\n",
              "      <td>0.0</td>\n",
              "      <td>0.00</td>\n",
              "    </tr>\n",
              "    <tr>\n",
              "      <th>1</th>\n",
              "      <td>20120524</td>\n",
              "      <td>US-Market</td>\n",
              "      <td>agile management software</td>\n",
              "      <td>1.0</td>\n",
              "      <td>21.22</td>\n",
              "      <td>260.0</td>\n",
              "      <td>25.45</td>\n",
              "    </tr>\n",
              "    <tr>\n",
              "      <th>2</th>\n",
              "      <td>20120524</td>\n",
              "      <td>US-Market</td>\n",
              "      <td>crm for financial</td>\n",
              "      <td>0.0</td>\n",
              "      <td>0.00</td>\n",
              "      <td>0.0</td>\n",
              "      <td>0.00</td>\n",
              "    </tr>\n",
              "    <tr>\n",
              "      <th>3</th>\n",
              "      <td>20120524</td>\n",
              "      <td>US-Market</td>\n",
              "      <td>disaster recovery planning for it</td>\n",
              "      <td>0.0</td>\n",
              "      <td>0.00</td>\n",
              "      <td>0.0</td>\n",
              "      <td>0.00</td>\n",
              "    </tr>\n",
              "    <tr>\n",
              "      <th>4</th>\n",
              "      <td>20120524</td>\n",
              "      <td>US-Market</td>\n",
              "      <td>tracking a vehicle</td>\n",
              "      <td>0.0</td>\n",
              "      <td>0.00</td>\n",
              "      <td>0.0</td>\n",
              "      <td>0.00</td>\n",
              "    </tr>\n",
              "  </tbody>\n",
              "</table>\n",
              "</div>"
            ],
            "text/plain": [
              "       Date     Market  ... Impressions   Cost\n",
              "0  20120524  US-Market  ...         0.0   0.00\n",
              "1  20120524  US-Market  ...       260.0  25.45\n",
              "2  20120524  US-Market  ...         0.0   0.00\n",
              "3  20120524  US-Market  ...         0.0   0.00\n",
              "4  20120524  US-Market  ...         0.0   0.00\n",
              "\n",
              "[5 rows x 7 columns]"
            ]
          },
          "metadata": {
            "tags": []
          },
          "execution_count": 56
        }
      ]
    },
    {
      "cell_type": "markdown",
      "metadata": {
        "id": "w9n9GKrdsoIm"
      },
      "source": [
        "# Feature Engineering"
      ]
    },
    {
      "cell_type": "code",
      "metadata": {
        "colab": {
          "base_uri": "https://localhost:8080/"
        },
        "id": "5jqyDc0iriRj",
        "outputId": "0da764b9-f84e-4a87-8d2d-8ee46c5be79b"
      },
      "source": [
        "# cek kualitas datanya dulu\n",
        "dataset.isnull().sum()"
      ],
      "execution_count": null,
      "outputs": [
        {
          "output_type": "execute_result",
          "data": {
            "text/plain": [
              "Date                0\n",
              "Market              0\n",
              "Keyword             0\n",
              "Average.Position    0\n",
              "Clicks              0\n",
              "Impressions         0\n",
              "Cost                0\n",
              "dtype: int64"
            ]
          },
          "metadata": {
            "tags": []
          },
          "execution_count": 57
        }
      ]
    },
    {
      "cell_type": "code",
      "metadata": {
        "colab": {
          "base_uri": "https://localhost:8080/"
        },
        "id": "9KsCKMWEtLue",
        "outputId": "950d048f-f094-4db3-dea8-62a23e67766b"
      },
      "source": [
        "# cek data duplikat\n",
        "dataset.duplicated().sum()"
      ],
      "execution_count": null,
      "outputs": [
        {
          "output_type": "execute_result",
          "data": {
            "text/plain": [
              "9412"
            ]
          },
          "metadata": {
            "tags": []
          },
          "execution_count": 58
        }
      ]
    },
    {
      "cell_type": "code",
      "metadata": {
        "id": "eK9etV7stXmm"
      },
      "source": [
        "dataset = dataset.drop_duplicates()"
      ],
      "execution_count": null,
      "outputs": []
    },
    {
      "cell_type": "code",
      "metadata": {
        "colab": {
          "base_uri": "https://localhost:8080/"
        },
        "id": "QyppZPBhtm3u",
        "outputId": "4a4380cb-c513-4719-bb1f-d97d4b433c82"
      },
      "source": [
        "# cek ulang data duplikat\n",
        "dataset.duplicated().sum()"
      ],
      "execution_count": null,
      "outputs": [
        {
          "output_type": "execute_result",
          "data": {
            "text/plain": [
              "0"
            ]
          },
          "metadata": {
            "tags": []
          },
          "execution_count": 60
        }
      ]
    },
    {
      "cell_type": "code",
      "metadata": {
        "colab": {
          "base_uri": "https://localhost:8080/",
          "height": 204
        },
        "id": "7Iijiy96treQ",
        "outputId": "c78b1b1e-83d3-476d-948b-96469c55b846"
      },
      "source": [
        "dataset['CPI'] = dataset['Cost'] / dataset['Impressions']\n",
        "dataset['CPC'] = dataset['Cost'] / dataset['Clicks']\n",
        "dataset['CTR'] = dataset['Clicks'] / dataset['Impressions']\n",
        "dataset.head()"
      ],
      "execution_count": null,
      "outputs": [
        {
          "output_type": "execute_result",
          "data": {
            "text/html": [
              "<div>\n",
              "<style scoped>\n",
              "    .dataframe tbody tr th:only-of-type {\n",
              "        vertical-align: middle;\n",
              "    }\n",
              "\n",
              "    .dataframe tbody tr th {\n",
              "        vertical-align: top;\n",
              "    }\n",
              "\n",
              "    .dataframe thead th {\n",
              "        text-align: right;\n",
              "    }\n",
              "</style>\n",
              "<table border=\"1\" class=\"dataframe\">\n",
              "  <thead>\n",
              "    <tr style=\"text-align: right;\">\n",
              "      <th></th>\n",
              "      <th>Date</th>\n",
              "      <th>Market</th>\n",
              "      <th>Keyword</th>\n",
              "      <th>Average.Position</th>\n",
              "      <th>Clicks</th>\n",
              "      <th>Impressions</th>\n",
              "      <th>Cost</th>\n",
              "      <th>CPI</th>\n",
              "      <th>CPC</th>\n",
              "      <th>CTR</th>\n",
              "    </tr>\n",
              "  </thead>\n",
              "  <tbody>\n",
              "    <tr>\n",
              "      <th>0</th>\n",
              "      <td>20120524</td>\n",
              "      <td>US-Market</td>\n",
              "      <td>secure online back up</td>\n",
              "      <td>0.0</td>\n",
              "      <td>0.00</td>\n",
              "      <td>0.0</td>\n",
              "      <td>0.00</td>\n",
              "      <td>NaN</td>\n",
              "      <td>NaN</td>\n",
              "      <td>NaN</td>\n",
              "    </tr>\n",
              "    <tr>\n",
              "      <th>1</th>\n",
              "      <td>20120524</td>\n",
              "      <td>US-Market</td>\n",
              "      <td>agile management software</td>\n",
              "      <td>1.0</td>\n",
              "      <td>21.22</td>\n",
              "      <td>260.0</td>\n",
              "      <td>25.45</td>\n",
              "      <td>0.097885</td>\n",
              "      <td>1.19934</td>\n",
              "      <td>0.081615</td>\n",
              "    </tr>\n",
              "    <tr>\n",
              "      <th>2</th>\n",
              "      <td>20120524</td>\n",
              "      <td>US-Market</td>\n",
              "      <td>crm for financial</td>\n",
              "      <td>0.0</td>\n",
              "      <td>0.00</td>\n",
              "      <td>0.0</td>\n",
              "      <td>0.00</td>\n",
              "      <td>NaN</td>\n",
              "      <td>NaN</td>\n",
              "      <td>NaN</td>\n",
              "    </tr>\n",
              "    <tr>\n",
              "      <th>3</th>\n",
              "      <td>20120524</td>\n",
              "      <td>US-Market</td>\n",
              "      <td>disaster recovery planning for it</td>\n",
              "      <td>0.0</td>\n",
              "      <td>0.00</td>\n",
              "      <td>0.0</td>\n",
              "      <td>0.00</td>\n",
              "      <td>NaN</td>\n",
              "      <td>NaN</td>\n",
              "      <td>NaN</td>\n",
              "    </tr>\n",
              "    <tr>\n",
              "      <th>4</th>\n",
              "      <td>20120524</td>\n",
              "      <td>US-Market</td>\n",
              "      <td>tracking a vehicle</td>\n",
              "      <td>0.0</td>\n",
              "      <td>0.00</td>\n",
              "      <td>0.0</td>\n",
              "      <td>0.00</td>\n",
              "      <td>NaN</td>\n",
              "      <td>NaN</td>\n",
              "      <td>NaN</td>\n",
              "    </tr>\n",
              "  </tbody>\n",
              "</table>\n",
              "</div>"
            ],
            "text/plain": [
              "       Date     Market  ...      CPC       CTR\n",
              "0  20120524  US-Market  ...      NaN       NaN\n",
              "1  20120524  US-Market  ...  1.19934  0.081615\n",
              "2  20120524  US-Market  ...      NaN       NaN\n",
              "3  20120524  US-Market  ...      NaN       NaN\n",
              "4  20120524  US-Market  ...      NaN       NaN\n",
              "\n",
              "[5 rows x 10 columns]"
            ]
          },
          "metadata": {
            "tags": []
          },
          "execution_count": 61
        }
      ]
    },
    {
      "cell_type": "code",
      "metadata": {
        "id": "oiE7RWvDuR7b"
      },
      "source": [
        "dataset.fillna(value=0, inplace=True) # mengganti langsung kolom yg sama tanpa harus buat variabel baru"
      ],
      "execution_count": null,
      "outputs": []
    },
    {
      "cell_type": "code",
      "metadata": {
        "colab": {
          "base_uri": "https://localhost:8080/",
          "height": 204
        },
        "id": "SwtEPMPHukEM",
        "outputId": "15bf13e0-d793-4023-bf39-ce0fab1e400e"
      },
      "source": [
        "dataset.head()"
      ],
      "execution_count": null,
      "outputs": [
        {
          "output_type": "execute_result",
          "data": {
            "text/html": [
              "<div>\n",
              "<style scoped>\n",
              "    .dataframe tbody tr th:only-of-type {\n",
              "        vertical-align: middle;\n",
              "    }\n",
              "\n",
              "    .dataframe tbody tr th {\n",
              "        vertical-align: top;\n",
              "    }\n",
              "\n",
              "    .dataframe thead th {\n",
              "        text-align: right;\n",
              "    }\n",
              "</style>\n",
              "<table border=\"1\" class=\"dataframe\">\n",
              "  <thead>\n",
              "    <tr style=\"text-align: right;\">\n",
              "      <th></th>\n",
              "      <th>Date</th>\n",
              "      <th>Market</th>\n",
              "      <th>Keyword</th>\n",
              "      <th>Average.Position</th>\n",
              "      <th>Clicks</th>\n",
              "      <th>Impressions</th>\n",
              "      <th>Cost</th>\n",
              "      <th>CPI</th>\n",
              "      <th>CPC</th>\n",
              "      <th>CTR</th>\n",
              "    </tr>\n",
              "  </thead>\n",
              "  <tbody>\n",
              "    <tr>\n",
              "      <th>0</th>\n",
              "      <td>20120524</td>\n",
              "      <td>US-Market</td>\n",
              "      <td>secure online back up</td>\n",
              "      <td>0.0</td>\n",
              "      <td>0.00</td>\n",
              "      <td>0.0</td>\n",
              "      <td>0.00</td>\n",
              "      <td>0.000000</td>\n",
              "      <td>0.00000</td>\n",
              "      <td>0.000000</td>\n",
              "    </tr>\n",
              "    <tr>\n",
              "      <th>1</th>\n",
              "      <td>20120524</td>\n",
              "      <td>US-Market</td>\n",
              "      <td>agile management software</td>\n",
              "      <td>1.0</td>\n",
              "      <td>21.22</td>\n",
              "      <td>260.0</td>\n",
              "      <td>25.45</td>\n",
              "      <td>0.097885</td>\n",
              "      <td>1.19934</td>\n",
              "      <td>0.081615</td>\n",
              "    </tr>\n",
              "    <tr>\n",
              "      <th>2</th>\n",
              "      <td>20120524</td>\n",
              "      <td>US-Market</td>\n",
              "      <td>crm for financial</td>\n",
              "      <td>0.0</td>\n",
              "      <td>0.00</td>\n",
              "      <td>0.0</td>\n",
              "      <td>0.00</td>\n",
              "      <td>0.000000</td>\n",
              "      <td>0.00000</td>\n",
              "      <td>0.000000</td>\n",
              "    </tr>\n",
              "    <tr>\n",
              "      <th>3</th>\n",
              "      <td>20120524</td>\n",
              "      <td>US-Market</td>\n",
              "      <td>disaster recovery planning for it</td>\n",
              "      <td>0.0</td>\n",
              "      <td>0.00</td>\n",
              "      <td>0.0</td>\n",
              "      <td>0.00</td>\n",
              "      <td>0.000000</td>\n",
              "      <td>0.00000</td>\n",
              "      <td>0.000000</td>\n",
              "    </tr>\n",
              "    <tr>\n",
              "      <th>4</th>\n",
              "      <td>20120524</td>\n",
              "      <td>US-Market</td>\n",
              "      <td>tracking a vehicle</td>\n",
              "      <td>0.0</td>\n",
              "      <td>0.00</td>\n",
              "      <td>0.0</td>\n",
              "      <td>0.00</td>\n",
              "      <td>0.000000</td>\n",
              "      <td>0.00000</td>\n",
              "      <td>0.000000</td>\n",
              "    </tr>\n",
              "  </tbody>\n",
              "</table>\n",
              "</div>"
            ],
            "text/plain": [
              "       Date     Market  ...      CPC       CTR\n",
              "0  20120524  US-Market  ...  0.00000  0.000000\n",
              "1  20120524  US-Market  ...  1.19934  0.081615\n",
              "2  20120524  US-Market  ...  0.00000  0.000000\n",
              "3  20120524  US-Market  ...  0.00000  0.000000\n",
              "4  20120524  US-Market  ...  0.00000  0.000000\n",
              "\n",
              "[5 rows x 10 columns]"
            ]
          },
          "metadata": {
            "tags": []
          },
          "execution_count": 63
        }
      ]
    },
    {
      "cell_type": "code",
      "metadata": {
        "colab": {
          "base_uri": "https://localhost:8080/",
          "height": 297
        },
        "id": "0JfsXXPyuoDI",
        "outputId": "de40b399-bae3-4e25-9498-a20fd27cf762"
      },
      "source": [
        "dataset.describe() # cek infinite"
      ],
      "execution_count": null,
      "outputs": [
        {
          "output_type": "execute_result",
          "data": {
            "text/html": [
              "<div>\n",
              "<style scoped>\n",
              "    .dataframe tbody tr th:only-of-type {\n",
              "        vertical-align: middle;\n",
              "    }\n",
              "\n",
              "    .dataframe tbody tr th {\n",
              "        vertical-align: top;\n",
              "    }\n",
              "\n",
              "    .dataframe thead th {\n",
              "        text-align: right;\n",
              "    }\n",
              "</style>\n",
              "<table border=\"1\" class=\"dataframe\">\n",
              "  <thead>\n",
              "    <tr style=\"text-align: right;\">\n",
              "      <th></th>\n",
              "      <th>Date</th>\n",
              "      <th>Average.Position</th>\n",
              "      <th>Clicks</th>\n",
              "      <th>Impressions</th>\n",
              "      <th>Cost</th>\n",
              "      <th>CPI</th>\n",
              "      <th>CPC</th>\n",
              "      <th>CTR</th>\n",
              "    </tr>\n",
              "  </thead>\n",
              "  <tbody>\n",
              "    <tr>\n",
              "      <th>count</th>\n",
              "      <td>3.466420e+05</td>\n",
              "      <td>346642.000000</td>\n",
              "      <td>346642.000000</td>\n",
              "      <td>3.466420e+05</td>\n",
              "      <td>3.466420e+05</td>\n",
              "      <td>346642.000000</td>\n",
              "      <td>3.466420e+05</td>\n",
              "      <td>346642.000000</td>\n",
              "    </tr>\n",
              "    <tr>\n",
              "      <th>mean</th>\n",
              "      <td>2.012270e+07</td>\n",
              "      <td>0.622315</td>\n",
              "      <td>447.037645</td>\n",
              "      <td>1.908227e+04</td>\n",
              "      <td>3.663141e+03</td>\n",
              "      <td>0.276195</td>\n",
              "      <td>inf</td>\n",
              "      <td>0.016646</td>\n",
              "    </tr>\n",
              "    <tr>\n",
              "      <th>std</th>\n",
              "      <td>3.585030e+03</td>\n",
              "      <td>0.644443</td>\n",
              "      <td>7628.491960</td>\n",
              "      <td>2.997886e+05</td>\n",
              "      <td>5.770403e+04</td>\n",
              "      <td>0.651221</td>\n",
              "      <td>NaN</td>\n",
              "      <td>0.020465</td>\n",
              "    </tr>\n",
              "    <tr>\n",
              "      <th>min</th>\n",
              "      <td>2.012052e+07</td>\n",
              "      <td>0.000000</td>\n",
              "      <td>0.000000</td>\n",
              "      <td>0.000000e+00</td>\n",
              "      <td>0.000000e+00</td>\n",
              "      <td>0.000000</td>\n",
              "      <td>0.000000e+00</td>\n",
              "      <td>0.000000</td>\n",
              "    </tr>\n",
              "    <tr>\n",
              "      <th>25%</th>\n",
              "      <td>2.012090e+07</td>\n",
              "      <td>0.000000</td>\n",
              "      <td>0.000000</td>\n",
              "      <td>0.000000e+00</td>\n",
              "      <td>0.000000e+00</td>\n",
              "      <td>0.000000</td>\n",
              "      <td>0.000000e+00</td>\n",
              "      <td>0.000000</td>\n",
              "    </tr>\n",
              "    <tr>\n",
              "      <th>50%</th>\n",
              "      <td>2.012102e+07</td>\n",
              "      <td>1.000000</td>\n",
              "      <td>2.430000</td>\n",
              "      <td>1.390000e+02</td>\n",
              "      <td>1.001000e+01</td>\n",
              "      <td>0.021100</td>\n",
              "      <td>1.284135e+00</td>\n",
              "      <td>0.008233</td>\n",
              "    </tr>\n",
              "    <tr>\n",
              "      <th>75%</th>\n",
              "      <td>2.012122e+07</td>\n",
              "      <td>1.000000</td>\n",
              "      <td>37.037500</td>\n",
              "      <td>1.641000e+03</td>\n",
              "      <td>3.967175e+02</td>\n",
              "      <td>0.302225</td>\n",
              "      <td>1.248261e+01</td>\n",
              "      <td>0.028483</td>\n",
              "    </tr>\n",
              "    <tr>\n",
              "      <th>max</th>\n",
              "      <td>2.013021e+07</td>\n",
              "      <td>12.000000</td>\n",
              "      <td>441963.500000</td>\n",
              "      <td>1.566667e+07</td>\n",
              "      <td>3.269108e+06</td>\n",
              "      <td>33.932771</td>\n",
              "      <td>inf</td>\n",
              "      <td>0.239375</td>\n",
              "    </tr>\n",
              "  </tbody>\n",
              "</table>\n",
              "</div>"
            ],
            "text/plain": [
              "               Date  Average.Position  ...           CPC            CTR\n",
              "count  3.466420e+05     346642.000000  ...  3.466420e+05  346642.000000\n",
              "mean   2.012270e+07          0.622315  ...           inf       0.016646\n",
              "std    3.585030e+03          0.644443  ...           NaN       0.020465\n",
              "min    2.012052e+07          0.000000  ...  0.000000e+00       0.000000\n",
              "25%    2.012090e+07          0.000000  ...  0.000000e+00       0.000000\n",
              "50%    2.012102e+07          1.000000  ...  1.284135e+00       0.008233\n",
              "75%    2.012122e+07          1.000000  ...  1.248261e+01       0.028483\n",
              "max    2.013021e+07         12.000000  ...           inf       0.239375\n",
              "\n",
              "[8 rows x 8 columns]"
            ]
          },
          "metadata": {
            "tags": []
          },
          "execution_count": 64
        }
      ]
    },
    {
      "cell_type": "code",
      "metadata": {
        "id": "mfq1mogivAZc"
      },
      "source": [
        "# Change inf data into 0\n",
        "\n",
        "dataset = dataset.replace([np.inf, -1, np.inf], 0)"
      ],
      "execution_count": null,
      "outputs": []
    },
    {
      "cell_type": "code",
      "metadata": {
        "colab": {
          "base_uri": "https://localhost:8080/",
          "height": 297
        },
        "id": "xM6VhhFFvcMG",
        "outputId": "61cc89b0-f9db-4321-f3cf-c848d9a52a6e"
      },
      "source": [
        "dataset.describe()"
      ],
      "execution_count": null,
      "outputs": [
        {
          "output_type": "execute_result",
          "data": {
            "text/html": [
              "<div>\n",
              "<style scoped>\n",
              "    .dataframe tbody tr th:only-of-type {\n",
              "        vertical-align: middle;\n",
              "    }\n",
              "\n",
              "    .dataframe tbody tr th {\n",
              "        vertical-align: top;\n",
              "    }\n",
              "\n",
              "    .dataframe thead th {\n",
              "        text-align: right;\n",
              "    }\n",
              "</style>\n",
              "<table border=\"1\" class=\"dataframe\">\n",
              "  <thead>\n",
              "    <tr style=\"text-align: right;\">\n",
              "      <th></th>\n",
              "      <th>Date</th>\n",
              "      <th>Average.Position</th>\n",
              "      <th>Clicks</th>\n",
              "      <th>Impressions</th>\n",
              "      <th>Cost</th>\n",
              "      <th>CPI</th>\n",
              "      <th>CPC</th>\n",
              "      <th>CTR</th>\n",
              "    </tr>\n",
              "  </thead>\n",
              "  <tbody>\n",
              "    <tr>\n",
              "      <th>count</th>\n",
              "      <td>3.466420e+05</td>\n",
              "      <td>346642.000000</td>\n",
              "      <td>346642.000000</td>\n",
              "      <td>3.466420e+05</td>\n",
              "      <td>3.466420e+05</td>\n",
              "      <td>346642.000000</td>\n",
              "      <td>346642.000000</td>\n",
              "      <td>346642.000000</td>\n",
              "    </tr>\n",
              "    <tr>\n",
              "      <th>mean</th>\n",
              "      <td>2.012270e+07</td>\n",
              "      <td>0.622315</td>\n",
              "      <td>447.037645</td>\n",
              "      <td>1.908227e+04</td>\n",
              "      <td>3.663141e+03</td>\n",
              "      <td>0.276195</td>\n",
              "      <td>13.715180</td>\n",
              "      <td>0.016646</td>\n",
              "    </tr>\n",
              "    <tr>\n",
              "      <th>std</th>\n",
              "      <td>3.585030e+03</td>\n",
              "      <td>0.644443</td>\n",
              "      <td>7628.491960</td>\n",
              "      <td>2.997886e+05</td>\n",
              "      <td>5.770403e+04</td>\n",
              "      <td>0.651221</td>\n",
              "      <td>34.804560</td>\n",
              "      <td>0.020465</td>\n",
              "    </tr>\n",
              "    <tr>\n",
              "      <th>min</th>\n",
              "      <td>2.012052e+07</td>\n",
              "      <td>0.000000</td>\n",
              "      <td>0.000000</td>\n",
              "      <td>0.000000e+00</td>\n",
              "      <td>0.000000e+00</td>\n",
              "      <td>0.000000</td>\n",
              "      <td>0.000000</td>\n",
              "      <td>0.000000</td>\n",
              "    </tr>\n",
              "    <tr>\n",
              "      <th>25%</th>\n",
              "      <td>2.012090e+07</td>\n",
              "      <td>0.000000</td>\n",
              "      <td>0.000000</td>\n",
              "      <td>0.000000e+00</td>\n",
              "      <td>0.000000e+00</td>\n",
              "      <td>0.000000</td>\n",
              "      <td>0.000000</td>\n",
              "      <td>0.000000</td>\n",
              "    </tr>\n",
              "    <tr>\n",
              "      <th>50%</th>\n",
              "      <td>2.012102e+07</td>\n",
              "      <td>1.000000</td>\n",
              "      <td>2.430000</td>\n",
              "      <td>1.390000e+02</td>\n",
              "      <td>1.001000e+01</td>\n",
              "      <td>0.021100</td>\n",
              "      <td>1.210814</td>\n",
              "      <td>0.008233</td>\n",
              "    </tr>\n",
              "    <tr>\n",
              "      <th>75%</th>\n",
              "      <td>2.012122e+07</td>\n",
              "      <td>1.000000</td>\n",
              "      <td>37.037500</td>\n",
              "      <td>1.641000e+03</td>\n",
              "      <td>3.967175e+02</td>\n",
              "      <td>0.302225</td>\n",
              "      <td>12.178391</td>\n",
              "      <td>0.028483</td>\n",
              "    </tr>\n",
              "    <tr>\n",
              "      <th>max</th>\n",
              "      <td>2.013021e+07</td>\n",
              "      <td>12.000000</td>\n",
              "      <td>441963.500000</td>\n",
              "      <td>1.566667e+07</td>\n",
              "      <td>3.269108e+06</td>\n",
              "      <td>33.932771</td>\n",
              "      <td>865.000000</td>\n",
              "      <td>0.239375</td>\n",
              "    </tr>\n",
              "  </tbody>\n",
              "</table>\n",
              "</div>"
            ],
            "text/plain": [
              "               Date  Average.Position  ...            CPC            CTR\n",
              "count  3.466420e+05     346642.000000  ...  346642.000000  346642.000000\n",
              "mean   2.012270e+07          0.622315  ...      13.715180       0.016646\n",
              "std    3.585030e+03          0.644443  ...      34.804560       0.020465\n",
              "min    2.012052e+07          0.000000  ...       0.000000       0.000000\n",
              "25%    2.012090e+07          0.000000  ...       0.000000       0.000000\n",
              "50%    2.012102e+07          1.000000  ...       1.210814       0.008233\n",
              "75%    2.012122e+07          1.000000  ...      12.178391       0.028483\n",
              "max    2.013021e+07         12.000000  ...     865.000000       0.239375\n",
              "\n",
              "[8 rows x 8 columns]"
            ]
          },
          "metadata": {
            "tags": []
          },
          "execution_count": 66
        }
      ]
    },
    {
      "cell_type": "markdown",
      "metadata": {
        "id": "KD0lamNuxU3t"
      },
      "source": [
        "# Advanced Label Encoder"
      ]
    },
    {
      "cell_type": "code",
      "metadata": {
        "colab": {
          "base_uri": "https://localhost:8080/"
        },
        "id": "guA2DlNMvegC",
        "outputId": "99946727-65d6-492d-c841-0c61311b7eb9"
      },
      "source": [
        "dataset.Market.unique() # Market adalah kolom dari datanya"
      ],
      "execution_count": null,
      "outputs": [
        {
          "output_type": "execute_result",
          "data": {
            "text/plain": [
              "array(['US-Market', 'UK-Market'], dtype=object)"
            ]
          },
          "metadata": {
            "tags": []
          },
          "execution_count": 67
        }
      ]
    },
    {
      "cell_type": "code",
      "metadata": {
        "colab": {
          "base_uri": "https://localhost:8080/"
        },
        "id": "oQ-AvcZIx6Rm",
        "outputId": "13e7dc35-a0f5-4954-d9f2-e7a30b54c986"
      },
      "source": [
        "dataset.dtypes"
      ],
      "execution_count": null,
      "outputs": [
        {
          "output_type": "execute_result",
          "data": {
            "text/plain": [
              "Date                  int64\n",
              "Market               object\n",
              "Keyword              object\n",
              "Average.Position    float64\n",
              "Clicks              float64\n",
              "Impressions         float64\n",
              "Cost                float64\n",
              "CPI                 float64\n",
              "CPC                 float64\n",
              "CTR                 float64\n",
              "dtype: object"
            ]
          },
          "metadata": {
            "tags": []
          },
          "execution_count": 68
        }
      ]
    },
    {
      "cell_type": "code",
      "metadata": {
        "colab": {
          "base_uri": "https://localhost:8080/",
          "height": 227
        },
        "id": "nW7_MeX3ydii",
        "outputId": "96259af1-fd41-4bcf-f06c-5cb8960e21e8"
      },
      "source": [
        "# Market adalah agregasinya\n",
        "dataset.pivot_table(index='Market', values=['Clicks', 'Impressions', 'Cost', 'CPI', 'CPC', 'CTR'],\n",
        "                    aggfunc=[np.mean, np.median, np.max])"
      ],
      "execution_count": null,
      "outputs": [
        {
          "output_type": "execute_result",
          "data": {
            "text/html": [
              "<div>\n",
              "<style scoped>\n",
              "    .dataframe tbody tr th:only-of-type {\n",
              "        vertical-align: middle;\n",
              "    }\n",
              "\n",
              "    .dataframe tbody tr th {\n",
              "        vertical-align: top;\n",
              "    }\n",
              "\n",
              "    .dataframe thead tr th {\n",
              "        text-align: left;\n",
              "    }\n",
              "\n",
              "    .dataframe thead tr:last-of-type th {\n",
              "        text-align: right;\n",
              "    }\n",
              "</style>\n",
              "<table border=\"1\" class=\"dataframe\">\n",
              "  <thead>\n",
              "    <tr>\n",
              "      <th></th>\n",
              "      <th colspan=\"6\" halign=\"left\">mean</th>\n",
              "      <th colspan=\"6\" halign=\"left\">median</th>\n",
              "      <th colspan=\"6\" halign=\"left\">amax</th>\n",
              "    </tr>\n",
              "    <tr>\n",
              "      <th></th>\n",
              "      <th>CPC</th>\n",
              "      <th>CPI</th>\n",
              "      <th>CTR</th>\n",
              "      <th>Clicks</th>\n",
              "      <th>Cost</th>\n",
              "      <th>Impressions</th>\n",
              "      <th>CPC</th>\n",
              "      <th>CPI</th>\n",
              "      <th>CTR</th>\n",
              "      <th>Clicks</th>\n",
              "      <th>Cost</th>\n",
              "      <th>Impressions</th>\n",
              "      <th>CPC</th>\n",
              "      <th>CPI</th>\n",
              "      <th>CTR</th>\n",
              "      <th>Clicks</th>\n",
              "      <th>Cost</th>\n",
              "      <th>Impressions</th>\n",
              "    </tr>\n",
              "    <tr>\n",
              "      <th>Market</th>\n",
              "      <th></th>\n",
              "      <th></th>\n",
              "      <th></th>\n",
              "      <th></th>\n",
              "      <th></th>\n",
              "      <th></th>\n",
              "      <th></th>\n",
              "      <th></th>\n",
              "      <th></th>\n",
              "      <th></th>\n",
              "      <th></th>\n",
              "      <th></th>\n",
              "      <th></th>\n",
              "      <th></th>\n",
              "      <th></th>\n",
              "      <th></th>\n",
              "      <th></th>\n",
              "      <th></th>\n",
              "    </tr>\n",
              "  </thead>\n",
              "  <tbody>\n",
              "    <tr>\n",
              "      <th>UK-Market</th>\n",
              "      <td>12.027957</td>\n",
              "      <td>0.262945</td>\n",
              "      <td>0.016310</td>\n",
              "      <td>101.473886</td>\n",
              "      <td>1320.571699</td>\n",
              "      <td>3412.243842</td>\n",
              "      <td>0.500000</td>\n",
              "      <td>0.008506</td>\n",
              "      <td>0.004620</td>\n",
              "      <td>0.28</td>\n",
              "      <td>0.63</td>\n",
              "      <td>22.0</td>\n",
              "      <td>756.5</td>\n",
              "      <td>29.065157</td>\n",
              "      <td>0.239375</td>\n",
              "      <td>156341.05</td>\n",
              "      <td>918862.86</td>\n",
              "      <td>9571421.0</td>\n",
              "    </tr>\n",
              "    <tr>\n",
              "      <th>US-Market</th>\n",
              "      <td>14.647569</td>\n",
              "      <td>0.283518</td>\n",
              "      <td>0.016832</td>\n",
              "      <td>638.002163</td>\n",
              "      <td>4957.685439</td>\n",
              "      <td>27741.795385</td>\n",
              "      <td>1.623074</td>\n",
              "      <td>0.025146</td>\n",
              "      <td>0.009835</td>\n",
              "      <td>6.46</td>\n",
              "      <td>28.57</td>\n",
              "      <td>336.0</td>\n",
              "      <td>865.0</td>\n",
              "      <td>33.932771</td>\n",
              "      <td>0.171930</td>\n",
              "      <td>441963.50</td>\n",
              "      <td>3269107.70</td>\n",
              "      <td>15666669.0</td>\n",
              "    </tr>\n",
              "  </tbody>\n",
              "</table>\n",
              "</div>"
            ],
            "text/plain": [
              "                mean                      ...       amax                        \n",
              "                 CPC       CPI       CTR  ...     Clicks        Cost Impressions\n",
              "Market                                    ...                                   \n",
              "UK-Market  12.027957  0.262945  0.016310  ...  156341.05   918862.86   9571421.0\n",
              "US-Market  14.647569  0.283518  0.016832  ...  441963.50  3269107.70  15666669.0\n",
              "\n",
              "[2 rows x 18 columns]"
            ]
          },
          "metadata": {
            "tags": []
          },
          "execution_count": 69
        }
      ]
    },
    {
      "cell_type": "code",
      "metadata": {
        "colab": {
          "base_uri": "https://localhost:8080/",
          "height": 227
        },
        "id": "RsGNoASs0Okr",
        "outputId": "ef0a5d6b-05d8-4815-b705-24fe7aa4d8a5"
      },
      "source": [
        "market_data = dataset.pivot_table(index='Market', \n",
        "                                  values=['Clicks', 'Impressions', 'Cost', 'CPI', 'CPC', 'CTR'],\n",
        "                                  aggfunc=[np.mean, np.median, np.max])\n",
        "\n",
        "market_data"
      ],
      "execution_count": null,
      "outputs": [
        {
          "output_type": "execute_result",
          "data": {
            "text/html": [
              "<div>\n",
              "<style scoped>\n",
              "    .dataframe tbody tr th:only-of-type {\n",
              "        vertical-align: middle;\n",
              "    }\n",
              "\n",
              "    .dataframe tbody tr th {\n",
              "        vertical-align: top;\n",
              "    }\n",
              "\n",
              "    .dataframe thead tr th {\n",
              "        text-align: left;\n",
              "    }\n",
              "\n",
              "    .dataframe thead tr:last-of-type th {\n",
              "        text-align: right;\n",
              "    }\n",
              "</style>\n",
              "<table border=\"1\" class=\"dataframe\">\n",
              "  <thead>\n",
              "    <tr>\n",
              "      <th></th>\n",
              "      <th colspan=\"6\" halign=\"left\">mean</th>\n",
              "      <th colspan=\"6\" halign=\"left\">median</th>\n",
              "      <th colspan=\"6\" halign=\"left\">amax</th>\n",
              "    </tr>\n",
              "    <tr>\n",
              "      <th></th>\n",
              "      <th>CPC</th>\n",
              "      <th>CPI</th>\n",
              "      <th>CTR</th>\n",
              "      <th>Clicks</th>\n",
              "      <th>Cost</th>\n",
              "      <th>Impressions</th>\n",
              "      <th>CPC</th>\n",
              "      <th>CPI</th>\n",
              "      <th>CTR</th>\n",
              "      <th>Clicks</th>\n",
              "      <th>Cost</th>\n",
              "      <th>Impressions</th>\n",
              "      <th>CPC</th>\n",
              "      <th>CPI</th>\n",
              "      <th>CTR</th>\n",
              "      <th>Clicks</th>\n",
              "      <th>Cost</th>\n",
              "      <th>Impressions</th>\n",
              "    </tr>\n",
              "    <tr>\n",
              "      <th>Market</th>\n",
              "      <th></th>\n",
              "      <th></th>\n",
              "      <th></th>\n",
              "      <th></th>\n",
              "      <th></th>\n",
              "      <th></th>\n",
              "      <th></th>\n",
              "      <th></th>\n",
              "      <th></th>\n",
              "      <th></th>\n",
              "      <th></th>\n",
              "      <th></th>\n",
              "      <th></th>\n",
              "      <th></th>\n",
              "      <th></th>\n",
              "      <th></th>\n",
              "      <th></th>\n",
              "      <th></th>\n",
              "    </tr>\n",
              "  </thead>\n",
              "  <tbody>\n",
              "    <tr>\n",
              "      <th>UK-Market</th>\n",
              "      <td>12.027957</td>\n",
              "      <td>0.262945</td>\n",
              "      <td>0.016310</td>\n",
              "      <td>101.473886</td>\n",
              "      <td>1320.571699</td>\n",
              "      <td>3412.243842</td>\n",
              "      <td>0.500000</td>\n",
              "      <td>0.008506</td>\n",
              "      <td>0.004620</td>\n",
              "      <td>0.28</td>\n",
              "      <td>0.63</td>\n",
              "      <td>22.0</td>\n",
              "      <td>756.5</td>\n",
              "      <td>29.065157</td>\n",
              "      <td>0.239375</td>\n",
              "      <td>156341.05</td>\n",
              "      <td>918862.86</td>\n",
              "      <td>9571421.0</td>\n",
              "    </tr>\n",
              "    <tr>\n",
              "      <th>US-Market</th>\n",
              "      <td>14.647569</td>\n",
              "      <td>0.283518</td>\n",
              "      <td>0.016832</td>\n",
              "      <td>638.002163</td>\n",
              "      <td>4957.685439</td>\n",
              "      <td>27741.795385</td>\n",
              "      <td>1.623074</td>\n",
              "      <td>0.025146</td>\n",
              "      <td>0.009835</td>\n",
              "      <td>6.46</td>\n",
              "      <td>28.57</td>\n",
              "      <td>336.0</td>\n",
              "      <td>865.0</td>\n",
              "      <td>33.932771</td>\n",
              "      <td>0.171930</td>\n",
              "      <td>441963.50</td>\n",
              "      <td>3269107.70</td>\n",
              "      <td>15666669.0</td>\n",
              "    </tr>\n",
              "  </tbody>\n",
              "</table>\n",
              "</div>"
            ],
            "text/plain": [
              "                mean                      ...       amax                        \n",
              "                 CPC       CPI       CTR  ...     Clicks        Cost Impressions\n",
              "Market                                    ...                                   \n",
              "UK-Market  12.027957  0.262945  0.016310  ...  156341.05   918862.86   9571421.0\n",
              "US-Market  14.647569  0.283518  0.016832  ...  441963.50  3269107.70  15666669.0\n",
              "\n",
              "[2 rows x 18 columns]"
            ]
          },
          "metadata": {
            "tags": []
          },
          "execution_count": 70
        }
      ]
    },
    {
      "cell_type": "code",
      "metadata": {
        "id": "XmgMqQo90yLX"
      },
      "source": [
        "mean_market = market_data['mean'].reset_index()\n",
        "median_market = market_data['median'].reset_index()\n",
        "max_market = market_data['amax'].reset_index()"
      ],
      "execution_count": null,
      "outputs": []
    },
    {
      "cell_type": "code",
      "metadata": {
        "id": "B9X8ETz_1Hno"
      },
      "source": [
        "# Ganti nama kolom biar ga bingung kepemilikan kolomnya\n",
        "\n",
        "mean_market.columns = ['Market', 'mean_market_CPC', 'mean_market_CPI', 'mean_market_CTR', 'mean_market_Clicks', 'mean_market_Cost', 'mean_market_Impressions']\n",
        "median_market.columns = ['Market', 'median_market_CPC', 'median_market_CPI', 'median_market_CTR', 'median_market_Clicks', 'median_market_Cost', 'median_market_Impressions']\n",
        "max_market.columns = ['Market', 'max_market_CPC', 'max_market_CPI', 'max_market_CTR', 'max_market_Clicks', 'max_market_Cost', 'max_market_Impressions']"
      ],
      "execution_count": null,
      "outputs": []
    },
    {
      "cell_type": "code",
      "metadata": {
        "colab": {
          "base_uri": "https://localhost:8080/",
          "height": 165
        },
        "id": "gdMflOAL1SkP",
        "outputId": "4e1278b8-8a50-4e20-cc33-1a7c2bb66451"
      },
      "source": [
        "market = pd.merge(mean_market, median_market, how='inner', on='Market')\n",
        "market = pd.merge(market, max_market, how='inner', on='Market')\n",
        "market"
      ],
      "execution_count": null,
      "outputs": [
        {
          "output_type": "execute_result",
          "data": {
            "text/html": [
              "<div>\n",
              "<style scoped>\n",
              "    .dataframe tbody tr th:only-of-type {\n",
              "        vertical-align: middle;\n",
              "    }\n",
              "\n",
              "    .dataframe tbody tr th {\n",
              "        vertical-align: top;\n",
              "    }\n",
              "\n",
              "    .dataframe thead th {\n",
              "        text-align: right;\n",
              "    }\n",
              "</style>\n",
              "<table border=\"1\" class=\"dataframe\">\n",
              "  <thead>\n",
              "    <tr style=\"text-align: right;\">\n",
              "      <th></th>\n",
              "      <th>Market</th>\n",
              "      <th>mean_market_CPC</th>\n",
              "      <th>mean_market_CPI</th>\n",
              "      <th>mean_market_CTR</th>\n",
              "      <th>mean_market_Clicks</th>\n",
              "      <th>mean_market_Cost</th>\n",
              "      <th>mean_market_Impressions</th>\n",
              "      <th>median_market_CPC</th>\n",
              "      <th>median_market_CPI</th>\n",
              "      <th>median_market_CTR</th>\n",
              "      <th>median_market_Clicks</th>\n",
              "      <th>median_market_Cost</th>\n",
              "      <th>median_market_Impressions</th>\n",
              "      <th>max_market_CPC</th>\n",
              "      <th>max_market_CPI</th>\n",
              "      <th>max_market_CTR</th>\n",
              "      <th>max_market_Clicks</th>\n",
              "      <th>max_market_Cost</th>\n",
              "      <th>max_market_Impressions</th>\n",
              "    </tr>\n",
              "  </thead>\n",
              "  <tbody>\n",
              "    <tr>\n",
              "      <th>0</th>\n",
              "      <td>UK-Market</td>\n",
              "      <td>12.027957</td>\n",
              "      <td>0.262945</td>\n",
              "      <td>0.016310</td>\n",
              "      <td>101.473886</td>\n",
              "      <td>1320.571699</td>\n",
              "      <td>3412.243842</td>\n",
              "      <td>0.500000</td>\n",
              "      <td>0.008506</td>\n",
              "      <td>0.004620</td>\n",
              "      <td>0.28</td>\n",
              "      <td>0.63</td>\n",
              "      <td>22.0</td>\n",
              "      <td>756.5</td>\n",
              "      <td>29.065157</td>\n",
              "      <td>0.239375</td>\n",
              "      <td>156341.05</td>\n",
              "      <td>918862.86</td>\n",
              "      <td>9571421.0</td>\n",
              "    </tr>\n",
              "    <tr>\n",
              "      <th>1</th>\n",
              "      <td>US-Market</td>\n",
              "      <td>14.647569</td>\n",
              "      <td>0.283518</td>\n",
              "      <td>0.016832</td>\n",
              "      <td>638.002163</td>\n",
              "      <td>4957.685439</td>\n",
              "      <td>27741.795385</td>\n",
              "      <td>1.623074</td>\n",
              "      <td>0.025146</td>\n",
              "      <td>0.009835</td>\n",
              "      <td>6.46</td>\n",
              "      <td>28.57</td>\n",
              "      <td>336.0</td>\n",
              "      <td>865.0</td>\n",
              "      <td>33.932771</td>\n",
              "      <td>0.171930</td>\n",
              "      <td>441963.50</td>\n",
              "      <td>3269107.70</td>\n",
              "      <td>15666669.0</td>\n",
              "    </tr>\n",
              "  </tbody>\n",
              "</table>\n",
              "</div>"
            ],
            "text/plain": [
              "      Market  mean_market_CPC  ...  max_market_Cost  max_market_Impressions\n",
              "0  UK-Market        12.027957  ...        918862.86               9571421.0\n",
              "1  US-Market        14.647569  ...       3269107.70              15666669.0\n",
              "\n",
              "[2 rows x 19 columns]"
            ]
          },
          "metadata": {
            "tags": []
          },
          "execution_count": 73
        }
      ]
    },
    {
      "cell_type": "code",
      "metadata": {
        "id": "a0C3sAXU37-a"
      },
      "source": [
        "# del mean_market, median_market, max_market, market_data # untuk hapus data biar ga makan memori"
      ],
      "execution_count": null,
      "outputs": []
    },
    {
      "cell_type": "code",
      "metadata": {
        "colab": {
          "base_uri": "https://localhost:8080/",
          "height": 360
        },
        "id": "IH9aaLm03MVC",
        "outputId": "4ee088d1-db07-4287-a9b9-1a909b4a8dc4"
      },
      "source": [
        "# Jadi dataframe baru\n",
        "\n",
        "dataset = pd.merge(dataset, market, how='left', on='Market')\n",
        "dataset.head()"
      ],
      "execution_count": null,
      "outputs": [
        {
          "output_type": "execute_result",
          "data": {
            "text/html": [
              "<div>\n",
              "<style scoped>\n",
              "    .dataframe tbody tr th:only-of-type {\n",
              "        vertical-align: middle;\n",
              "    }\n",
              "\n",
              "    .dataframe tbody tr th {\n",
              "        vertical-align: top;\n",
              "    }\n",
              "\n",
              "    .dataframe thead th {\n",
              "        text-align: right;\n",
              "    }\n",
              "</style>\n",
              "<table border=\"1\" class=\"dataframe\">\n",
              "  <thead>\n",
              "    <tr style=\"text-align: right;\">\n",
              "      <th></th>\n",
              "      <th>Date</th>\n",
              "      <th>Market</th>\n",
              "      <th>Keyword</th>\n",
              "      <th>Average.Position</th>\n",
              "      <th>Clicks</th>\n",
              "      <th>Impressions</th>\n",
              "      <th>Cost</th>\n",
              "      <th>CPI</th>\n",
              "      <th>CPC</th>\n",
              "      <th>CTR</th>\n",
              "      <th>mean_market_CPC</th>\n",
              "      <th>mean_market_CPI</th>\n",
              "      <th>mean_market_CTR</th>\n",
              "      <th>mean_market_Clicks</th>\n",
              "      <th>mean_market_Cost</th>\n",
              "      <th>mean_market_Impressions</th>\n",
              "      <th>median_market_CPC</th>\n",
              "      <th>median_market_CPI</th>\n",
              "      <th>median_market_CTR</th>\n",
              "      <th>median_market_Clicks</th>\n",
              "      <th>median_market_Cost</th>\n",
              "      <th>median_market_Impressions</th>\n",
              "      <th>max_market_CPC</th>\n",
              "      <th>max_market_CPI</th>\n",
              "      <th>max_market_CTR</th>\n",
              "      <th>max_market_Clicks</th>\n",
              "      <th>max_market_Cost</th>\n",
              "      <th>max_market_Impressions</th>\n",
              "    </tr>\n",
              "  </thead>\n",
              "  <tbody>\n",
              "    <tr>\n",
              "      <th>0</th>\n",
              "      <td>20120524</td>\n",
              "      <td>US-Market</td>\n",
              "      <td>secure online back up</td>\n",
              "      <td>0.0</td>\n",
              "      <td>0.00</td>\n",
              "      <td>0.0</td>\n",
              "      <td>0.00</td>\n",
              "      <td>0.000000</td>\n",
              "      <td>0.00000</td>\n",
              "      <td>0.000000</td>\n",
              "      <td>14.647569</td>\n",
              "      <td>0.283518</td>\n",
              "      <td>0.016832</td>\n",
              "      <td>638.002163</td>\n",
              "      <td>4957.685439</td>\n",
              "      <td>27741.795385</td>\n",
              "      <td>1.623074</td>\n",
              "      <td>0.025146</td>\n",
              "      <td>0.009835</td>\n",
              "      <td>6.46</td>\n",
              "      <td>28.57</td>\n",
              "      <td>336.0</td>\n",
              "      <td>865.0</td>\n",
              "      <td>33.932771</td>\n",
              "      <td>0.17193</td>\n",
              "      <td>441963.5</td>\n",
              "      <td>3269107.7</td>\n",
              "      <td>15666669.0</td>\n",
              "    </tr>\n",
              "    <tr>\n",
              "      <th>1</th>\n",
              "      <td>20120524</td>\n",
              "      <td>US-Market</td>\n",
              "      <td>agile management software</td>\n",
              "      <td>1.0</td>\n",
              "      <td>21.22</td>\n",
              "      <td>260.0</td>\n",
              "      <td>25.45</td>\n",
              "      <td>0.097885</td>\n",
              "      <td>1.19934</td>\n",
              "      <td>0.081615</td>\n",
              "      <td>14.647569</td>\n",
              "      <td>0.283518</td>\n",
              "      <td>0.016832</td>\n",
              "      <td>638.002163</td>\n",
              "      <td>4957.685439</td>\n",
              "      <td>27741.795385</td>\n",
              "      <td>1.623074</td>\n",
              "      <td>0.025146</td>\n",
              "      <td>0.009835</td>\n",
              "      <td>6.46</td>\n",
              "      <td>28.57</td>\n",
              "      <td>336.0</td>\n",
              "      <td>865.0</td>\n",
              "      <td>33.932771</td>\n",
              "      <td>0.17193</td>\n",
              "      <td>441963.5</td>\n",
              "      <td>3269107.7</td>\n",
              "      <td>15666669.0</td>\n",
              "    </tr>\n",
              "    <tr>\n",
              "      <th>2</th>\n",
              "      <td>20120524</td>\n",
              "      <td>US-Market</td>\n",
              "      <td>crm for financial</td>\n",
              "      <td>0.0</td>\n",
              "      <td>0.00</td>\n",
              "      <td>0.0</td>\n",
              "      <td>0.00</td>\n",
              "      <td>0.000000</td>\n",
              "      <td>0.00000</td>\n",
              "      <td>0.000000</td>\n",
              "      <td>14.647569</td>\n",
              "      <td>0.283518</td>\n",
              "      <td>0.016832</td>\n",
              "      <td>638.002163</td>\n",
              "      <td>4957.685439</td>\n",
              "      <td>27741.795385</td>\n",
              "      <td>1.623074</td>\n",
              "      <td>0.025146</td>\n",
              "      <td>0.009835</td>\n",
              "      <td>6.46</td>\n",
              "      <td>28.57</td>\n",
              "      <td>336.0</td>\n",
              "      <td>865.0</td>\n",
              "      <td>33.932771</td>\n",
              "      <td>0.17193</td>\n",
              "      <td>441963.5</td>\n",
              "      <td>3269107.7</td>\n",
              "      <td>15666669.0</td>\n",
              "    </tr>\n",
              "    <tr>\n",
              "      <th>3</th>\n",
              "      <td>20120524</td>\n",
              "      <td>US-Market</td>\n",
              "      <td>disaster recovery planning for it</td>\n",
              "      <td>0.0</td>\n",
              "      <td>0.00</td>\n",
              "      <td>0.0</td>\n",
              "      <td>0.00</td>\n",
              "      <td>0.000000</td>\n",
              "      <td>0.00000</td>\n",
              "      <td>0.000000</td>\n",
              "      <td>14.647569</td>\n",
              "      <td>0.283518</td>\n",
              "      <td>0.016832</td>\n",
              "      <td>638.002163</td>\n",
              "      <td>4957.685439</td>\n",
              "      <td>27741.795385</td>\n",
              "      <td>1.623074</td>\n",
              "      <td>0.025146</td>\n",
              "      <td>0.009835</td>\n",
              "      <td>6.46</td>\n",
              "      <td>28.57</td>\n",
              "      <td>336.0</td>\n",
              "      <td>865.0</td>\n",
              "      <td>33.932771</td>\n",
              "      <td>0.17193</td>\n",
              "      <td>441963.5</td>\n",
              "      <td>3269107.7</td>\n",
              "      <td>15666669.0</td>\n",
              "    </tr>\n",
              "    <tr>\n",
              "      <th>4</th>\n",
              "      <td>20120524</td>\n",
              "      <td>US-Market</td>\n",
              "      <td>tracking a vehicle</td>\n",
              "      <td>0.0</td>\n",
              "      <td>0.00</td>\n",
              "      <td>0.0</td>\n",
              "      <td>0.00</td>\n",
              "      <td>0.000000</td>\n",
              "      <td>0.00000</td>\n",
              "      <td>0.000000</td>\n",
              "      <td>14.647569</td>\n",
              "      <td>0.283518</td>\n",
              "      <td>0.016832</td>\n",
              "      <td>638.002163</td>\n",
              "      <td>4957.685439</td>\n",
              "      <td>27741.795385</td>\n",
              "      <td>1.623074</td>\n",
              "      <td>0.025146</td>\n",
              "      <td>0.009835</td>\n",
              "      <td>6.46</td>\n",
              "      <td>28.57</td>\n",
              "      <td>336.0</td>\n",
              "      <td>865.0</td>\n",
              "      <td>33.932771</td>\n",
              "      <td>0.17193</td>\n",
              "      <td>441963.5</td>\n",
              "      <td>3269107.7</td>\n",
              "      <td>15666669.0</td>\n",
              "    </tr>\n",
              "  </tbody>\n",
              "</table>\n",
              "</div>"
            ],
            "text/plain": [
              "       Date     Market  ... max_market_Cost  max_market_Impressions\n",
              "0  20120524  US-Market  ...       3269107.7              15666669.0\n",
              "1  20120524  US-Market  ...       3269107.7              15666669.0\n",
              "2  20120524  US-Market  ...       3269107.7              15666669.0\n",
              "3  20120524  US-Market  ...       3269107.7              15666669.0\n",
              "4  20120524  US-Market  ...       3269107.7              15666669.0\n",
              "\n",
              "[5 rows x 28 columns]"
            ]
          },
          "metadata": {
            "tags": []
          },
          "execution_count": 74
        }
      ]
    },
    {
      "cell_type": "markdown",
      "metadata": {
        "id": "EHPx-1Dd5rIp"
      },
      "source": [
        "# Handling Text Data\n",
        "Natural Language Processing (NLP)"
      ]
    },
    {
      "cell_type": "code",
      "metadata": {
        "colab": {
          "base_uri": "https://localhost:8080/"
        },
        "id": "FOhpqEyO3x_T",
        "outputId": "0cb1a6f9-fb2d-4061-8d86-ded8b1aeeeb7"
      },
      "source": [
        "# Install Dependencies\n",
        "!pip install stop-words"
      ],
      "execution_count": null,
      "outputs": [
        {
          "output_type": "stream",
          "text": [
            "Collecting stop-words\n",
            "  Downloading https://files.pythonhosted.org/packages/1c/cb/d58290804b7a4c5daa42abbbe2a93c477ae53e45541b1825e86f0dfaaf63/stop-words-2018.7.23.tar.gz\n",
            "Building wheels for collected packages: stop-words\n",
            "  Building wheel for stop-words (setup.py) ... \u001b[?25l\u001b[?25hdone\n",
            "  Created wheel for stop-words: filename=stop_words-2018.7.23-cp37-none-any.whl size=32917 sha256=8996f0138754e0988338bed6a383ab8d519a185b447cff30657563d4e82d8256\n",
            "  Stored in directory: /root/.cache/pip/wheels/75/37/6a/2b295e03bd07290f0da95c3adb9a74ba95fbc333aa8b0c7c78\n",
            "Successfully built stop-words\n",
            "Installing collected packages: stop-words\n",
            "Successfully installed stop-words-2018.7.23\n"
          ],
          "name": "stdout"
        }
      ]
    },
    {
      "cell_type": "code",
      "metadata": {
        "colab": {
          "base_uri": "https://localhost:8080/"
        },
        "id": "XMVB8LFx7l5v",
        "outputId": "4695bb50-5c52-485b-e267-c35ca3cf133f"
      },
      "source": [
        "import nltk, re\n",
        "from stop_words import get_stop_words\n",
        "nltk.download('punkt')\n",
        "nltk.download('wordnet')"
      ],
      "execution_count": null,
      "outputs": [
        {
          "output_type": "stream",
          "text": [
            "[nltk_data] Downloading package punkt to /root/nltk_data...\n",
            "[nltk_data]   Unzipping tokenizers/punkt.zip.\n",
            "[nltk_data] Downloading package wordnet to /root/nltk_data...\n",
            "[nltk_data]   Unzipping corpora/wordnet.zip.\n"
          ],
          "name": "stdout"
        },
        {
          "output_type": "execute_result",
          "data": {
            "text/plain": [
              "True"
            ]
          },
          "metadata": {
            "tags": []
          },
          "execution_count": 76
        }
      ]
    },
    {
      "cell_type": "code",
      "metadata": {
        "colab": {
          "base_uri": "https://localhost:8080/",
          "height": 35
        },
        "id": "FHXWnu8Z7_2l",
        "outputId": "29e4b561-6499-41e1-d9a3-79d0ba4ef368"
      },
      "source": [
        "re.sub(r'[a-zA-Z]', \"\", 'mamaMsh38yd 8934bf , .. ..sd==][')"
      ],
      "execution_count": null,
      "outputs": [
        {
          "output_type": "execute_result",
          "data": {
            "application/vnd.google.colaboratory.intrinsic+json": {
              "type": "string"
            },
            "text/plain": [
              "'38 8934 , .. ..==]['"
            ]
          },
          "metadata": {
            "tags": []
          },
          "execution_count": 79
        }
      ]
    },
    {
      "cell_type": "code",
      "metadata": {
        "colab": {
          "base_uri": "https://localhost:8080/"
        },
        "id": "6P2nCapj8Wmh",
        "outputId": "3c64fe79-a610-4a8c-f1f3-a330a625a9e2"
      },
      "source": [
        "stop_words = get_stop_words('english')\n",
        "stop_words"
      ],
      "execution_count": null,
      "outputs": [
        {
          "output_type": "execute_result",
          "data": {
            "text/plain": [
              "['a',\n",
              " 'about',\n",
              " 'above',\n",
              " 'after',\n",
              " 'again',\n",
              " 'against',\n",
              " 'all',\n",
              " 'am',\n",
              " 'an',\n",
              " 'and',\n",
              " 'any',\n",
              " 'are',\n",
              " \"aren't\",\n",
              " 'as',\n",
              " 'at',\n",
              " 'be',\n",
              " 'because',\n",
              " 'been',\n",
              " 'before',\n",
              " 'being',\n",
              " 'below',\n",
              " 'between',\n",
              " 'both',\n",
              " 'but',\n",
              " 'by',\n",
              " \"can't\",\n",
              " 'cannot',\n",
              " 'could',\n",
              " \"couldn't\",\n",
              " 'did',\n",
              " \"didn't\",\n",
              " 'do',\n",
              " 'does',\n",
              " \"doesn't\",\n",
              " 'doing',\n",
              " \"don't\",\n",
              " 'down',\n",
              " 'during',\n",
              " 'each',\n",
              " 'few',\n",
              " 'for',\n",
              " 'from',\n",
              " 'further',\n",
              " 'had',\n",
              " \"hadn't\",\n",
              " 'has',\n",
              " \"hasn't\",\n",
              " 'have',\n",
              " \"haven't\",\n",
              " 'having',\n",
              " 'he',\n",
              " \"he'd\",\n",
              " \"he'll\",\n",
              " \"he's\",\n",
              " 'her',\n",
              " 'here',\n",
              " \"here's\",\n",
              " 'hers',\n",
              " 'herself',\n",
              " 'him',\n",
              " 'himself',\n",
              " 'his',\n",
              " 'how',\n",
              " \"how's\",\n",
              " 'i',\n",
              " \"i'd\",\n",
              " \"i'll\",\n",
              " \"i'm\",\n",
              " \"i've\",\n",
              " 'if',\n",
              " 'in',\n",
              " 'into',\n",
              " 'is',\n",
              " \"isn't\",\n",
              " 'it',\n",
              " \"it's\",\n",
              " 'its',\n",
              " 'itself',\n",
              " \"let's\",\n",
              " 'me',\n",
              " 'more',\n",
              " 'most',\n",
              " \"mustn't\",\n",
              " 'my',\n",
              " 'myself',\n",
              " 'no',\n",
              " 'nor',\n",
              " 'not',\n",
              " 'of',\n",
              " 'off',\n",
              " 'on',\n",
              " 'once',\n",
              " 'only',\n",
              " 'or',\n",
              " 'other',\n",
              " 'ought',\n",
              " 'our',\n",
              " 'ours',\n",
              " 'ourselves',\n",
              " 'out',\n",
              " 'over',\n",
              " 'own',\n",
              " 'same',\n",
              " \"shan't\",\n",
              " 'she',\n",
              " \"she'd\",\n",
              " \"she'll\",\n",
              " \"she's\",\n",
              " 'should',\n",
              " \"shouldn't\",\n",
              " 'so',\n",
              " 'some',\n",
              " 'such',\n",
              " 'than',\n",
              " 'that',\n",
              " \"that's\",\n",
              " 'the',\n",
              " 'their',\n",
              " 'theirs',\n",
              " 'them',\n",
              " 'themselves',\n",
              " 'then',\n",
              " 'there',\n",
              " \"there's\",\n",
              " 'these',\n",
              " 'they',\n",
              " \"they'd\",\n",
              " \"they'll\",\n",
              " \"they're\",\n",
              " \"they've\",\n",
              " 'this',\n",
              " 'those',\n",
              " 'through',\n",
              " 'to',\n",
              " 'too',\n",
              " 'under',\n",
              " 'until',\n",
              " 'up',\n",
              " 'very',\n",
              " 'was',\n",
              " \"wasn't\",\n",
              " 'we',\n",
              " \"we'd\",\n",
              " \"we'll\",\n",
              " \"we're\",\n",
              " \"we've\",\n",
              " 'were',\n",
              " \"weren't\",\n",
              " 'what',\n",
              " \"what's\",\n",
              " 'when',\n",
              " \"when's\",\n",
              " 'where',\n",
              " \"where's\",\n",
              " 'which',\n",
              " 'while',\n",
              " 'who',\n",
              " \"who's\",\n",
              " 'whom',\n",
              " 'why',\n",
              " \"why's\",\n",
              " 'with',\n",
              " \"won't\",\n",
              " 'would',\n",
              " \"wouldn't\",\n",
              " 'you',\n",
              " \"you'd\",\n",
              " \"you'll\",\n",
              " \"you're\",\n",
              " \"you've\",\n",
              " 'your',\n",
              " 'yours',\n",
              " 'yourself',\n",
              " 'yourselves']"
            ]
          },
          "metadata": {
            "tags": []
          },
          "execution_count": 78
        }
      ]
    },
    {
      "cell_type": "code",
      "metadata": {
        "colab": {
          "base_uri": "https://localhost:8080/",
          "height": 130
        },
        "id": "1PzHR2tM8nsP",
        "outputId": "b7e586bb-4b9c-4597-b0ef-50d76bce4b2a"
      },
      "source": [
        "def text_to_token(dataset, column):\n",
        "\n",
        "    def my_tokenizer(s):\n",
        "        s = s.lower()\n",
        "        tokens = nltk.tokenize.word_tokenize(s)\n",
        "        tokens = [t for t in tokens if len(t) > 2]\n",
        "        tokens = [t for t in tokens if re.findall('[\\x00-\\x7!@#$%^&*+=]', t)]\n",
        "        tokens = [t for t in tokens if t not in stop_words]\n",
        "        return tokens\n",
        "    tokenized = []\n",
        "\n",
        "    word_index_map = {}\n"
      ],
      "execution_count": null,
      "outputs": [
        {
          "output_type": "error",
          "ename": "SyntaxError",
          "evalue": "ignored",
          "traceback": [
            "\u001b[0;36m  File \u001b[0;32m\"<ipython-input-80-a696ae32b0e7>\"\u001b[0;36m, line \u001b[0;32m7\u001b[0m\n\u001b[0;31m    tokens = [t for t in tokens if re.findall('[\\x00-\\x7!@#$%^&*+=]', t)]\u001b[0m\n\u001b[0m                                             ^\u001b[0m\n\u001b[0;31mSyntaxError\u001b[0m\u001b[0;31m:\u001b[0m (unicode error) 'unicodeescape' codec can't decode bytes in position 6-8: truncated \\xXX escape\n"
          ]
        }
      ]
    },
    {
      "cell_type": "code",
      "metadata": {
        "id": "Qps4K7-v-Mhj"
      },
      "source": [
        ""
      ],
      "execution_count": null,
      "outputs": []
    }
  ]
}