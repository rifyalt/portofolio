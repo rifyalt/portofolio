{
  "nbformat": 4,
  "nbformat_minor": 0,
  "metadata": {
    "colab": {
      "name": "Control Flow and conditonal.ipynb",
      "provenance": [],
      "authorship_tag": "ABX9TyMVlan3li1cDQJseQd9lukL",
      "include_colab_link": true
    },
    "kernelspec": {
      "name": "python3",
      "display_name": "Python 3"
    }
  },
  "cells": [
    {
      "cell_type": "markdown",
      "metadata": {
        "id": "view-in-github",
        "colab_type": "text"
      },
      "source": [
        "<a href=\"https://colab.research.google.com/github/rifyalt/vial/blob/master/Control_Flow_and_conditonal.ipynb\" target=\"_parent\"><img src=\"https://colab.research.google.com/assets/colab-badge.svg\" alt=\"Open In Colab\"/></a>"
      ]
    },
    {
      "cell_type": "markdown",
      "metadata": {
        "id": "zl7YcXRz5BP3"
      },
      "source": [
        "**Control Flow**\n",
        "\n",
        "Proses pemanggilan fungsi, instruksi dan statement yang dieksekusi saat program berjalan\n",
        "\n",
        "**Conditional**\n",
        "\n",
        "Untuk mengevaluasi nilainya benar atau salah (ture or false), type datanya boolean / bool\n"
      ]
    },
    {
      "cell_type": "code",
      "metadata": {
        "colab": {
          "base_uri": "https://localhost:8080/"
        },
        "id": "bCmjDCR30Xnt",
        "outputId": "dddda537-54fd-4f15-bc3e-943aead4d296"
      },
      "source": [
        "# if statement\n",
        "\n",
        "# Initiate variables?\n",
        "a = 1\n",
        "b = 2\n",
        "\n",
        "# example 1:\n",
        "if b > a:\n",
        "    print ('b is greater than a')\n"
      ],
      "execution_count": null,
      "outputs": [
        {
          "output_type": "stream",
          "text": [
            "b is greater than a\n"
          ],
          "name": "stdout"
        }
      ]
    },
    {
      "cell_type": "code",
      "metadata": {
        "colab": {
          "base_uri": "https://localhost:8080/"
        },
        "id": "JY1kfNEwHKnc",
        "outputId": "fcdd6412-aef8-4013-a122-3d3ae44b33ca"
      },
      "source": [
        "# contoh case\n",
        "\n",
        "apple = \"Gadget\"\n",
        "\n",
        "if apple != \"Buah\":\n",
        "  print(\"Gadget\")"
      ],
      "execution_count": null,
      "outputs": [
        {
          "output_type": "stream",
          "text": [
            "Gadget\n"
          ],
          "name": "stdout"
        }
      ]
    },
    {
      "cell_type": "markdown",
      "metadata": {
        "id": "McRWKIBIJC-G"
      },
      "source": [
        "**Case 2**"
      ]
    },
    {
      "cell_type": "code",
      "metadata": {
        "colab": {
          "base_uri": "https://localhost:8080/"
        },
        "id": "VI7W27rVIEBW",
        "outputId": "4cd08a66-41d3-4c5b-8cd5-a459d6f010bb"
      },
      "source": [
        "# salah satu nilainya diganti hasilnya tidak akan keluar, hasilnya berupa 6\n",
        "\n",
        "A = 1\n",
        "B = 2\n",
        "C = 3\n",
        "\n",
        "if ( C > A) and ( A + B == C):\n",
        "  total = A + B + C\n",
        "  print(total)"
      ],
      "execution_count": null,
      "outputs": [
        {
          "output_type": "stream",
          "text": [
            "6\n"
          ],
          "name": "stdout"
        }
      ]
    },
    {
      "cell_type": "code",
      "metadata": {
        "colab": {
          "base_uri": "https://localhost:8080/"
        },
        "id": "9TLUNP2HMHcK",
        "outputId": "6cb96374-fadb-4e5b-c777-7a782b310513"
      },
      "source": [
        "# salah satu nilainya diganti hasilnya tidak akan keluar\n",
        "\n",
        "A = 2\n",
        "B = 2\n",
        "C = 3\n",
        "\n",
        "if ( C > A) or ( A + B == C):\n",
        "  total = A + B + C\n",
        "  print(total)"
      ],
      "execution_count": null,
      "outputs": [
        {
          "output_type": "stream",
          "text": [
            "7\n"
          ],
          "name": "stdout"
        }
      ]
    },
    {
      "cell_type": "code",
      "metadata": {
        "colab": {
          "base_uri": "https://localhost:8080/"
        },
        "id": "Z_4dYrIeONAi",
        "outputId": "cc4bb69b-ba8f-4cdb-fe3f-5859c45dbaf9"
      },
      "source": [
        "A = int(input()) # untuk input berupa angka\n",
        "if A %2 !=0: # pakai modulus\n",
        "  print(\"Bilangan Ganjil\")"
      ],
      "execution_count": null,
      "outputs": [
        {
          "output_type": "stream",
          "text": [
            "7\n",
            "Bilangan Ganjil\n"
          ],
          "name": "stdout"
        }
      ]
    },
    {
      "cell_type": "markdown",
      "metadata": {
        "id": "1tJ0XFxmQCLU"
      },
      "source": [
        "**if -elif-else statement**\n",
        "\n",
        "multiple conditions\n",
        "\n",
        "ketika sudah masuk else sudah tidak ada kondisi lagi / kondisi-kondisi sebelumnya."
      ]
    },
    {
      "cell_type": "code",
      "metadata": {
        "colab": {
          "base_uri": "https://localhost:8080/"
        },
        "id": "YJPmNjdQQBg0",
        "outputId": "b5f62ef7-3c96-4424-a7fa-9e2f06e6daf0"
      },
      "source": [
        "# **Case 3**\n",
        "# Menentukan bilangan negative, positive dan nol/netral\n",
        "\n",
        "# a = 1, b = 2\n",
        "\n",
        "A = int(input()) # untuk input berupa angka\n",
        "if A == 0:\n",
        "  print('nol / netral')\n",
        "elif A > 0: # harus lebih besar dari pada nol1\n",
        "  print('bilangan postif')\n",
        "else:\n",
        "  print('bilangan negatif')"
      ],
      "execution_count": null,
      "outputs": [
        {
          "output_type": "stream",
          "text": [
            "1\n",
            "bilangan postive\n"
          ],
          "name": "stdout"
        }
      ]
    },
    {
      "cell_type": "markdown",
      "metadata": {
        "id": "oGewxGV6SHXe"
      },
      "source": [
        "**Nested-If**\n",
        "\n",
        "percabangan dari kondisi pertama atau dalam hal lain kondisi didalam kondisi bersifat nilainya benar"
      ]
    },
    {
      "cell_type": "code",
      "metadata": {
        "colab": {
          "base_uri": "https://localhost:8080/"
        },
        "id": "Pfzm-kyBSEPZ",
        "outputId": "dd7aecea-b8e0-40a8-a4cb-8a7510b269c8"
      },
      "source": [
        "# Menentukan bilangan negative, positive dan nol/netral\n",
        "# Initiative variables\n",
        "\n",
        "x = 15\n",
        "\n",
        "A = int(input()) # untuk input berupa angka\n",
        "if A >= 0:\n",
        "    if A == 0:\n",
        "      print('nol / netral')\n",
        "    else: # harus lebih besar dari pada nol1\n",
        "      print('bilangan postif')\n",
        "else:\n",
        "    print('bilangan negatif')"
      ],
      "execution_count": null,
      "outputs": [
        {
          "output_type": "stream",
          "text": [
            "7\n",
            "bilangan postif\n"
          ],
          "name": "stdout"
        }
      ]
    },
    {
      "cell_type": "code",
      "metadata": {
        "id": "LH8nuOc8VkQl"
      },
      "source": [
        "# Nested if - kondisi didalam kondisi\n",
        "\n",
        "x = 15\n",
        "\n",
        "A = int(input()) # untuk input berupa angka\n",
        "if A >= 0:\n",
        "    if A == 0:\n",
        "      print('nol / netral')\n",
        "    else: # harus lebih besar dari pada nol1\n",
        "      print('bilangan postif')\n",
        "else:\n",
        "    print('bilangan negatif')"
      ],
      "execution_count": null,
      "outputs": []
    },
    {
      "cell_type": "code",
      "metadata": {
        "colab": {
          "base_uri": "https://localhost:8080/"
        },
        "id": "bzxBk-rlVs1P",
        "outputId": "8771d2ec-5f00-4e4a-f00e-759f888c7dbb"
      },
      "source": [
        "a = int(input())\n",
        "\n",
        "if a >= 5:\n",
        "    if a == 0 :\n",
        "        print(\"netral\")\n",
        "    elif a % 2 == 1 :\n",
        "        print (a%2)\n",
        "        print (\"mod\")\n",
        "    else :\n",
        "        print(\"gak jelas!\")\n",
        "else:\n",
        "    print(\"entah!\")\n"
      ],
      "execution_count": null,
      "outputs": [
        {
          "output_type": "stream",
          "text": [
            "1\n",
            "entah!\n"
          ],
          "name": "stdout"
        }
      ]
    },
    {
      "cell_type": "markdown",
      "metadata": {
        "id": "itFYs-mBZtMA"
      },
      "source": [
        "**Iteration or Loop**\n",
        "\n",
        "- Definite iteration\n",
        "- Indefinite iteration - (While / Loop)"
      ]
    },
    {
      "cell_type": "markdown",
      "metadata": {
        "id": "xHU0-RbReVfv"
      },
      "source": [
        "While / Loop"
      ]
    },
    {
      "cell_type": "code",
      "metadata": {
        "colab": {
          "base_uri": "https://localhost:8080/"
        },
        "id": "xR22pBKGZ590",
        "outputId": "e514b290-a7fe-46d2-c10e-8a3e693fab43"
      },
      "source": [
        "# Case 1 print bilangan ganjil\n",
        "\n",
        "A = 1\n",
        "while A <= 20 :\n",
        "  if A%2 != 0:\n",
        "    print(A)\n",
        "  A = A + 1"
      ],
      "execution_count": null,
      "outputs": [
        {
          "output_type": "stream",
          "text": [
            "1\n",
            "3\n",
            "5\n",
            "7\n",
            "9\n",
            "11\n",
            "13\n",
            "15\n",
            "17\n",
            "19\n"
          ],
          "name": "stdout"
        }
      ]
    },
    {
      "cell_type": "code",
      "metadata": {
        "colab": {
          "base_uri": "https://localhost:8080/"
        },
        "id": "NT-RimfDiQit",
        "outputId": "3e3db4dd-1d85-44f6-b04b-3328337312f3"
      },
      "source": [
        "# Case 2 multiple condition\n",
        "\n",
        "A = int(input())\n",
        "while A <= 20:\n",
        "    if A%2!=0:\n",
        "        print(f'{A} = Ganjil') # f berfungsi sebagai variabel\n",
        "    else:\n",
        "        print(f'{A} = -----> Genap')\n",
        "    A = A + 1\n"
      ],
      "execution_count": null,
      "outputs": [
        {
          "output_type": "stream",
          "text": [
            "1\n",
            "1 = Ganjil\n",
            "2 = -----> Genap\n",
            "3 = Ganjil\n",
            "4 = -----> Genap\n",
            "5 = Ganjil\n",
            "6 = -----> Genap\n",
            "7 = Ganjil\n",
            "8 = -----> Genap\n",
            "9 = Ganjil\n",
            "10 = -----> Genap\n",
            "11 = Ganjil\n",
            "12 = -----> Genap\n",
            "13 = Ganjil\n",
            "14 = -----> Genap\n",
            "15 = Ganjil\n",
            "16 = -----> Genap\n",
            "17 = Ganjil\n",
            "18 = -----> Genap\n",
            "19 = Ganjil\n",
            "20 = -----> Genap\n"
          ],
          "name": "stdout"
        }
      ]
    },
    {
      "cell_type": "code",
      "metadata": {
        "colab": {
          "base_uri": "https://localhost:8080/"
        },
        "id": "pBFIjMHqj3nf",
        "outputId": "7c1bfa2d-b7f1-4f0b-95bd-d31ec95f90db"
      },
      "source": [
        "# case untuk continue\n",
        "\n",
        "A = int(input())\n",
        "\n",
        "while A <= 10:\n",
        "    A = A + 1\n",
        "    if A < 5:\n",
        "      continue\n",
        "    print(A)\n"
      ],
      "execution_count": null,
      "outputs": [
        {
          "output_type": "stream",
          "text": [
            "1\n",
            "5\n",
            "6\n",
            "7\n",
            "8\n",
            "9\n",
            "10\n",
            "11\n"
          ],
          "name": "stdout"
        }
      ]
    },
    {
      "cell_type": "code",
      "metadata": {
        "colab": {
          "base_uri": "https://localhost:8080/"
        },
        "id": "kOf8svCSlZ9w",
        "outputId": "f22787e2-88a4-472d-c12f-2051b15a03f6"
      },
      "source": [
        "# case untuk break\n",
        "\n",
        "A = int(input())\n",
        "\n",
        "while A <= 10:\n",
        "    A = A + 1\n",
        "    if A == 5:\n",
        "      break\n",
        "    print(A)"
      ],
      "execution_count": null,
      "outputs": [
        {
          "output_type": "stream",
          "text": [
            "1\n",
            "2\n",
            "3\n",
            "4\n"
          ],
          "name": "stdout"
        }
      ]
    },
    {
      "cell_type": "code",
      "metadata": {
        "colab": {
          "base_uri": "https://localhost:8080/"
        },
        "id": "Kp-5TOW-nOx9",
        "outputId": "e4ad6910-d1dc-4681-c6f0-dc8440b1fa5b"
      },
      "source": [
        "# \n",
        "\n",
        "A = int(input())\n",
        "\n",
        "for A in range(1, 20):\n",
        "  print(A)"
      ],
      "execution_count": null,
      "outputs": [
        {
          "output_type": "stream",
          "text": [
            "1\n",
            "1\n",
            "2\n",
            "3\n",
            "4\n",
            "5\n",
            "6\n",
            "7\n",
            "8\n",
            "9\n",
            "10\n",
            "11\n",
            "12\n",
            "13\n",
            "14\n",
            "15\n",
            "16\n",
            "17\n",
            "18\n",
            "19\n"
          ],
          "name": "stdout"
        }
      ]
    },
    {
      "cell_type": "code",
      "metadata": {
        "colab": {
          "base_uri": "https://localhost:8080/"
        },
        "id": "ErgAVbsJn5y4",
        "outputId": "6ae23f52-49a0-496b-c978-ae0df545b18c"
      },
      "source": [
        "A = int(input())\n",
        "for A  in range(1, 20):\n",
        "    if A%2!=0:\n",
        "        print(f'{A} = Ganjil') # f berfungsi sebagai variabel\n",
        "    else:\n",
        "        print(f'{A} = -----> Genap')\n",
        "    A = A + 1\n"
      ],
      "execution_count": null,
      "outputs": [
        {
          "output_type": "stream",
          "text": [
            "1\n",
            "1 = Ganjil\n",
            "2 = -----> Genap\n",
            "3 = Ganjil\n",
            "4 = -----> Genap\n",
            "5 = Ganjil\n",
            "6 = -----> Genap\n",
            "7 = Ganjil\n",
            "8 = -----> Genap\n",
            "9 = Ganjil\n",
            "10 = -----> Genap\n",
            "11 = Ganjil\n",
            "12 = -----> Genap\n",
            "13 = Ganjil\n",
            "14 = -----> Genap\n",
            "15 = Ganjil\n",
            "16 = -----> Genap\n",
            "17 = Ganjil\n",
            "18 = -----> Genap\n",
            "19 = Ganjil\n"
          ],
          "name": "stdout"
        }
      ]
    },
    {
      "cell_type": "code",
      "metadata": {
        "colab": {
          "base_uri": "https://localhost:8080/"
        },
        "id": "YZ-PmfavpkDc",
        "outputId": "9ced2096-5eb2-4550-f279-94ff34f0ba69"
      },
      "source": [
        "# Multiple Loop\n",
        "\n",
        "max_num = 5 # buat deklarasi untuk 10x perulangan\n",
        "\n",
        "for i in range(0, max_num +1):\n",
        "  for j in range(0, i + 1):\n",
        "    print('* ', end='')\n",
        "  print()\n",
        "\n"
      ],
      "execution_count": null,
      "outputs": [
        {
          "output_type": "stream",
          "text": [
            "* \n",
            "* * \n",
            "* * * \n",
            "* * * * \n",
            "* * * * * \n",
            "* * * * * * \n"
          ],
          "name": "stdout"
        }
      ]
    },
    {
      "cell_type": "code",
      "metadata": {
        "colab": {
          "base_uri": "https://localhost:8080/"
        },
        "id": "V50_J5RIr5VK",
        "outputId": "dd4d35df-bb46-4b88-9665-a8ee9a5af852"
      },
      "source": [
        "max_num = 7 # buat deklarasi untuk 5x perulangan\n",
        "\n",
        "for i in range(0, max_num):\n",
        "    for j in range(0, max_num - 1):\n",
        "        print('* ' , end='')\n",
        "    max_num -= 1\n",
        "    print('')"
      ],
      "execution_count": null,
      "outputs": [
        {
          "output_type": "stream",
          "text": [
            "* * * * * * \n",
            "* * * * * \n",
            "* * * * \n",
            "* * * \n",
            "* * \n",
            "* \n",
            "\n"
          ],
          "name": "stdout"
        }
      ]
    },
    {
      "cell_type": "code",
      "metadata": {
        "id": "ja6r5wyLsiOW"
      },
      "source": [
        ""
      ],
      "execution_count": null,
      "outputs": []
    }
  ]
}