{
  "nbformat": 4,
  "nbformat_minor": 0,
  "metadata": {
    "colab": {
      "name": "IF ELSE Modulus.ipynb",
      "provenance": [],
      "authorship_tag": "ABX9TyOqU122miHtoSkEOdGC0Xf5",
      "include_colab_link": true
    },
    "kernelspec": {
      "name": "python3",
      "display_name": "Python 3"
    }
  },
  "cells": [
    {
      "cell_type": "markdown",
      "metadata": {
        "id": "view-in-github",
        "colab_type": "text"
      },
      "source": [
        "<a href=\"https://colab.research.google.com/github/rifyalt/vial/blob/master/IF_ELSE_Modulus.ipynb\" target=\"_parent\"><img src=\"https://colab.research.google.com/assets/colab-badge.svg\" alt=\"Open In Colab\"/></a>"
      ]
    },
    {
      "cell_type": "code",
      "metadata": {
        "id": "4RTcyaDnVjgq",
        "colab": {
          "base_uri": "https://localhost:8080/",
          "height": 34
        },
        "outputId": "cc042e7a-9e0b-4b4f-b1f0-a96ecca948be"
      },
      "source": [
        "angka=10\n",
        "angka2=2\n",
        "modulus=angka % angka2\n",
        "\n",
        "if modulus == 0 :\n",
        "  print(\"angka termasuk bilangan genap\")\n",
        "else:\n",
        "  print(\"angka termasuk bilangan ganjil\")"
      ],
      "execution_count": null,
      "outputs": [
        {
          "output_type": "stream",
          "text": [
            "angka termasuk bilangan genap\n"
          ],
          "name": "stdout"
        }
      ]
    },
    {
      "cell_type": "code",
      "metadata": {
        "id": "lNhh6TtgbSlx",
        "colab": {
          "base_uri": "https://localhost:8080/",
          "height": 34
        },
        "outputId": "0e17b12f-8203-4eba-ef1a-dfa280ec2e75"
      },
      "source": [
        "angka=5\n",
        "angka2=2\n",
        "modulus=angka % angka2\n",
        "\n",
        "if modulus == 0 :\n",
        "  print(\"angka termasuk bilangan genap\")\n",
        "else:\n",
        "  print(\"angka termasuk bilangan ganjil\")"
      ],
      "execution_count": null,
      "outputs": [
        {
          "output_type": "stream",
          "text": [
            "angka termasuk bilangan ganjil\n"
          ],
          "name": "stdout"
        }
      ]
    },
    {
      "cell_type": "code",
      "metadata": {
        "id": "pmHT6qdrv0GW",
        "colab": {
          "base_uri": "https://localhost:8080/",
          "height": 102
        },
        "outputId": "87df4dfb-83b7-4190-c65d-4ec35efe6e45"
      },
      "source": [
        "for i in range (1,6): #perulangan for sebagai inisialisasi dari angka 1 hingga angka yang lebih kecil daripada 6.\n",
        "\n",
        "    print(\"Ini adalah perulangan ke -\", i) #perintah jika looping akan tetap berjalan"
      ],
      "execution_count": null,
      "outputs": [
        {
          "output_type": "stream",
          "text": [
            "Ini adalah perulangan ke - 1\n",
            "Ini adalah perulangan ke - 2\n",
            "Ini adalah perulangan ke - 3\n",
            "Ini adalah perulangan ke - 4\n",
            "Ini adalah perulangan ke - 5\n"
          ],
          "name": "stdout"
        }
      ]
    }
  ]
}