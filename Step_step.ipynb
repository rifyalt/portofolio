{
  "nbformat": 4,
  "nbformat_minor": 0,
  "metadata": {
    "colab": {
      "name": "Step-step.ipynb",
      "provenance": [],
      "authorship_tag": "ABX9TyNmP01x3GVqyYcmbU0+Z8v1",
      "include_colab_link": true
    },
    "kernelspec": {
      "display_name": "Python 3",
      "name": "python3"
    }
  },
  "cells": [
    {
      "cell_type": "markdown",
      "metadata": {
        "id": "view-in-github",
        "colab_type": "text"
      },
      "source": [
        "<a href=\"https://colab.research.google.com/github/rifyalt/vial/blob/master/Step_step.ipynb\" target=\"_parent\"><img src=\"https://colab.research.google.com/assets/colab-badge.svg\" alt=\"Open In Colab\"/></a>"
      ]
    },
    {
      "cell_type": "code",
      "metadata": {
        "id": "yHWAlcbsb4Pf"
      },
      "source": [
        "# Import library\n",
        "\n",
        "import pandas as pd\n",
        "import numpy as np, requests\n",
        "\n",
        "# from google.colab import files\n",
        "# uploaded = files.upload()\n",
        "\n",
        "!pip install --upgrade gspread # untuk menghubungkan dengan google sheet\n",
        "!pip install --upgrade gspread_dataframe # untuk menghubungkan dengan google sheet\n",
        "---\n",
        "from google.colab import auth\n",
        "import gspread\n",
        "import gspread_dataframe as gd\n",
        "from oauth2client.client import GoogleCredentials\n",
        "auth.authenticate_user()"
      ],
      "execution_count": null,
      "outputs": []
    },
    {
      "cell_type": "code",
      "metadata": {
        "colab": {
          "base_uri": "https://localhost:8080/"
        },
        "id": "qk7t2_KfcDzg",
        "outputId": "ccff6ea2-4a62-42c6-afab-a3025d94d0ea"
      },
      "source": [
        "from google.colab import drive\n",
        "drive.mount('/content/drive')\n",
        "\n",
        "# atau\n",
        "\n",
        "# from google.colab import files\n",
        "# uploaded = files.upload()\n",
        "\n",
        "# with open('example.txt', 'w') as f:\n",
        "#   f.write('some content')\n",
        "\n",
        "# files.download('example.txt')"
      ],
      "execution_count": null,
      "outputs": [
        {
          "output_type": "stream",
          "text": [
            "Mounted at /content/drive\n"
          ],
          "name": "stdout"
        }
      ]
    },
    {
      "cell_type": "code",
      "metadata": {
        "colab": {
          "background_save": true
        },
        "id": "kCS09dKMcIAg"
      },
      "source": [
        "# df = requests.get('https://inaproc.lkpp.go.id/isb/api/d7996a0f-2f78-4c85-bf7c-367cb71ac64d/json/155431596/TenderPengumumanDetailSPSE/tipe/4:4/parameter/2021:114')\n",
        "# print(df.status_code)\n",
        "\n",
        "# atau \n",
        "\n",
        "path_1 = 'https://inaproc.lkpp.go.id/isb/api/d7996a0f-2f78-4c85-bf7c-367cb71ac64d/json/155431596/TenderPengumumanDetailSPSE/tipe/4:4/parameter/2021:114'\n",
        "data = requests.get(path_1)"
      ],
      "execution_count": null,
      "outputs": []
    },
    {
      "cell_type": "code",
      "metadata": {
        "colab": {
          "base_uri": "https://localhost:8080/"
        },
        "id": "amgHBI_AgaMZ",
        "outputId": "d025ae31-d754-452d-811c-d3e394d26449"
      },
      "source": [
        "data.status_code"
      ],
      "execution_count": null,
      "outputs": [
        {
          "output_type": "execute_result",
          "data": {
            "text/plain": [
              "200"
            ]
          },
          "metadata": {
            "tags": []
          },
          "execution_count": 33
        }
      ]
    },
    {
      "cell_type": "code",
      "metadata": {
        "id": "h6wkQH9kcghd"
      },
      "source": [
        "data = pd.read_json(path_1, encoding='latin1')"
      ],
      "execution_count": null,
      "outputs": []
    },
    {
      "cell_type": "code",
      "metadata": {
        "id": "PxJbBuOAc8pd"
      },
      "source": [
        "data"
      ],
      "execution_count": null,
      "outputs": []
    },
    {
      "cell_type": "code",
      "metadata": {
        "id": "vBxbLaM1eCwb"
      },
      "source": [
        "data.to_csv('/content/drive/MyDrive/Colab Notebooks/file vial.csv', index=False, sep=';')"
      ],
      "execution_count": null,
      "outputs": []
    },
    {
      "cell_type": "code",
      "metadata": {
        "id": "B78cBc-weTp5"
      },
      "source": [
        "# Export to CSV\n",
        "# df.to_csv('gdrive/My Drive/DigitalSkola/Dataset/sample.csv', index=False, sep=';')\n",
        "\n",
        "# Export to Excel\n",
        "# df.to_excel('filepath.xlsx', sheet_name='Sheet1', index=False)"
      ],
      "execution_count": null,
      "outputs": []
    },
    {
      "cell_type": "code",
      "metadata": {
        "id": "QjCmlXbPkDrq"
      },
      "source": [
        "data.to_excel('/content/drive/MyDrive/Colab Notebooks/file vial.xlsx', sheet_name='file vial',index=False)"
      ],
      "execution_count": null,
      "outputs": []
    },
    {
      "cell_type": "code",
      "metadata": {
        "id": "lG5ELb4VkOvL"
      },
      "source": [
        "df_test = pd.read_excel('/content/drive/MyDrive/Colab Notebooks/file vial.xlsx')"
      ],
      "execution_count": null,
      "outputs": []
    },
    {
      "cell_type": "code",
      "metadata": {
        "id": "lJTdeFzjnAMG"
      },
      "source": [
        "df_test"
      ],
      "execution_count": null,
      "outputs": []
    },
    {
      "cell_type": "code",
      "metadata": {
        "colab": {
          "base_uri": "https://localhost:8080/"
        },
        "id": "K7AZd5jFoWt7",
        "outputId": "e55b1ab4-441e-4788-83f7-1c306f5fb383"
      },
      "source": [
        "df_test.isnull().sum()"
      ],
      "execution_count": null,
      "outputs": [
        {
          "output_type": "execute_result",
          "data": {
            "text/plain": [
              "tahun_anggaran              0\n",
              "kd_klpd                     0\n",
              "nama_klpd                   0\n",
              "jenis_klpd                  0\n",
              "kd_lpse                     0\n",
              "nama_lpse                   0\n",
              "kd_satker                   0\n",
              "nama_satker                 0\n",
              "kd_tender                   0\n",
              "kd_paket                    0\n",
              "kd_rup_paket                0\n",
              "nama_paket                  0\n",
              "pagu                        0\n",
              "hps                         0\n",
              "ang                         0\n",
              "jenis_pengadaan             0\n",
              "mtd_pemilihan               0\n",
              "mtd_evaluasi                0\n",
              "mtd_kualifikasi             0\n",
              "kontrak_pembayaran          0\n",
              "kontrak_tahun            2072\n",
              "jenis_kontrak            2072\n",
              "nama_status_tender          0\n",
              "versi_tender                0\n",
              "ket_diulang              1943\n",
              "ket_ditutup              1700\n",
              "tgl_buat_paket              0\n",
              "tgl_kolektif_kolegial      72\n",
              "tgl_pengumuman_tender      16\n",
              "url_lpse                    0\n",
              "kualifikasi_paket         436\n",
              "lokasi_pekerjaan           20\n",
              "dtype: int64"
            ]
          },
          "metadata": {
            "tags": []
          },
          "execution_count": 58
        }
      ]
    },
    {
      "cell_type": "code",
      "metadata": {
        "colab": {
          "base_uri": "https://localhost:8080/"
        },
        "id": "ypBFbDoCnP1b",
        "outputId": "134f04b2-2539-40b8-a74b-a161c2a7cabf"
      },
      "source": [
        "df_test.info()"
      ],
      "execution_count": null,
      "outputs": [
        {
          "output_type": "stream",
          "text": [
            "<class 'pandas.core.frame.DataFrame'>\n",
            "RangeIndex: 2072 entries, 0 to 2071\n",
            "Data columns (total 32 columns):\n",
            " #   Column                 Non-Null Count  Dtype  \n",
            "---  ------                 --------------  -----  \n",
            " 0   tahun_anggaran         2072 non-null   int64  \n",
            " 1   kd_klpd                2072 non-null   object \n",
            " 2   nama_klpd              2072 non-null   object \n",
            " 3   jenis_klpd             2072 non-null   object \n",
            " 4   kd_lpse                2072 non-null   int64  \n",
            " 5   nama_lpse              2072 non-null   object \n",
            " 6   kd_satker              2072 non-null   int64  \n",
            " 7   nama_satker            2072 non-null   object \n",
            " 8   kd_tender              2072 non-null   int64  \n",
            " 9   kd_paket               2072 non-null   int64  \n",
            " 10  kd_rup_paket           2072 non-null   object \n",
            " 11  nama_paket             2072 non-null   object \n",
            " 12  pagu                   2072 non-null   int64  \n",
            " 13  hps                    2072 non-null   float64\n",
            " 14  ang                    2072 non-null   object \n",
            " 15  jenis_pengadaan        2072 non-null   object \n",
            " 16  mtd_pemilihan          2072 non-null   object \n",
            " 17  mtd_evaluasi           2072 non-null   object \n",
            " 18  mtd_kualifikasi        2072 non-null   object \n",
            " 19  kontrak_pembayaran     2072 non-null   object \n",
            " 20  kontrak_tahun          0 non-null      float64\n",
            " 21  jenis_kontrak          0 non-null      float64\n",
            " 22  nama_status_tender     2072 non-null   object \n",
            " 23  versi_tender           2072 non-null   int64  \n",
            " 24  ket_diulang            129 non-null    object \n",
            " 25  ket_ditutup            372 non-null    object \n",
            " 26  tgl_buat_paket         2072 non-null   int64  \n",
            " 27  tgl_kolektif_kolegial  2000 non-null   float64\n",
            " 28  tgl_pengumuman_tender  2056 non-null   object \n",
            " 29  url_lpse               2072 non-null   object \n",
            " 30  kualifikasi_paket      1636 non-null   object \n",
            " 31  lokasi_pekerjaan       2052 non-null   object \n",
            "dtypes: float64(4), int64(8), object(20)\n",
            "memory usage: 518.1+ KB\n"
          ],
          "name": "stdout"
        }
      ]
    },
    {
      "cell_type": "code",
      "metadata": {
        "id": "2xLTduOPnTDv"
      },
      "source": [
        ""
      ],
      "execution_count": null,
      "outputs": []
    }
  ]
}